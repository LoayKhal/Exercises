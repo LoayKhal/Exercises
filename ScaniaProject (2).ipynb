{
  "nbformat": 4,
  "nbformat_minor": 0,
  "metadata": {
    "colab": {
      "name": "ScaniaProject.ipynb",
      "provenance": [],
      "collapsed_sections": [],
      "toc_visible": true
    },
    "kernelspec": {
      "name": "python3",
      "display_name": "Python 3"
    }
  },
  "cells": [
    {
      "cell_type": "code",
      "metadata": {
        "id": "3HYk0GFG4KV4"
      },
      "source": [
        "import numpy as np\r\n",
        "import pandas as pd\r\n",
        "import matplotlib.pyplot as plt\r\n",
        "import seaborn as sn\r\n",
        "from matplotlib.colors import ListedColormap\r\n",
        "\r\n",
        "from IPython.display import clear_output\r\n",
        "from time import sleep"
      ],
      "execution_count": null,
      "outputs": []
    },
    {
      "cell_type": "code",
      "metadata": {
        "id": "iqe25WhpYH8w"
      },
      "source": [
        "Ram 13\r\n",
        "\r\n",
        "Disk 100"
      ],
      "execution_count": null,
      "outputs": []
    },
    {
      "cell_type": "markdown",
      "metadata": {
        "id": "dpPdERLmmngj"
      },
      "source": [
        "#GO STRAIGHT TO \"Start Modeling From Here\""
      ]
    },
    {
      "cell_type": "code",
      "metadata": {
        "id": "2B_miiClYOH-"
      },
      "source": [
        ""
      ],
      "execution_count": null,
      "outputs": []
    },
    {
      "cell_type": "code",
      "metadata": {
        "colab": {
          "base_uri": "https://localhost:8080/",
          "height": 441
        },
        "id": "qkfePYvs5fmz",
        "outputId": "75aac796-a580-480c-816d-921d70928164"
      },
      "source": [
        "#Ignore this\r\n",
        "df_FD = pd.read_csv(\"FinalData.csv\", sep = \",\", header = 0, usecols=range(2,13))\r\n",
        "df_FD.columns = [\"bk_000\", \"bl_000\", \"bm_000\", \"bs_000\", \"by_000\", \"ca_000\", \"cb_000\", \"dt_000\", \"ec_00\", \"ed_000\", \"class\"]\r\n",
        "df_FD.head()"
      ],
      "execution_count": null,
      "outputs": [
        {
          "output_type": "error",
          "ename": "FileNotFoundError",
          "evalue": "ignored",
          "traceback": [
            "\u001b[0;31m---------------------------------------------------------------------------\u001b[0m",
            "\u001b[0;31mFileNotFoundError\u001b[0m                         Traceback (most recent call last)",
            "\u001b[0;32m<ipython-input-2-91e871688176>\u001b[0m in \u001b[0;36m<module>\u001b[0;34m()\u001b[0m\n\u001b[1;32m      1\u001b[0m \u001b[0;31m#Ignore this\u001b[0m\u001b[0;34m\u001b[0m\u001b[0;34m\u001b[0m\u001b[0;34m\u001b[0m\u001b[0m\n\u001b[0;32m----> 2\u001b[0;31m \u001b[0mdf_FD\u001b[0m \u001b[0;34m=\u001b[0m \u001b[0mpd\u001b[0m\u001b[0;34m.\u001b[0m\u001b[0mread_csv\u001b[0m\u001b[0;34m(\u001b[0m\u001b[0;34m\"FinalData.csv\"\u001b[0m\u001b[0;34m,\u001b[0m \u001b[0msep\u001b[0m \u001b[0;34m=\u001b[0m \u001b[0;34m\",\"\u001b[0m\u001b[0;34m,\u001b[0m \u001b[0mheader\u001b[0m \u001b[0;34m=\u001b[0m \u001b[0;36m0\u001b[0m\u001b[0;34m,\u001b[0m \u001b[0musecols\u001b[0m\u001b[0;34m=\u001b[0m\u001b[0mrange\u001b[0m\u001b[0;34m(\u001b[0m\u001b[0;36m2\u001b[0m\u001b[0;34m,\u001b[0m\u001b[0;36m13\u001b[0m\u001b[0;34m)\u001b[0m\u001b[0;34m)\u001b[0m\u001b[0;34m\u001b[0m\u001b[0;34m\u001b[0m\u001b[0m\n\u001b[0m\u001b[1;32m      3\u001b[0m \u001b[0mdf_FD\u001b[0m\u001b[0;34m.\u001b[0m\u001b[0mcolumns\u001b[0m \u001b[0;34m=\u001b[0m \u001b[0;34m[\u001b[0m\u001b[0;34m\"bk_000\"\u001b[0m\u001b[0;34m,\u001b[0m \u001b[0;34m\"bl_000\"\u001b[0m\u001b[0;34m,\u001b[0m \u001b[0;34m\"bm_000\"\u001b[0m\u001b[0;34m,\u001b[0m \u001b[0;34m\"bs_000\"\u001b[0m\u001b[0;34m,\u001b[0m \u001b[0;34m\"by_000\"\u001b[0m\u001b[0;34m,\u001b[0m \u001b[0;34m\"ca_000\"\u001b[0m\u001b[0;34m,\u001b[0m \u001b[0;34m\"cb_000\"\u001b[0m\u001b[0;34m,\u001b[0m \u001b[0;34m\"dt_000\"\u001b[0m\u001b[0;34m,\u001b[0m \u001b[0;34m\"ec_00\"\u001b[0m\u001b[0;34m,\u001b[0m \u001b[0;34m\"ed_000\"\u001b[0m\u001b[0;34m,\u001b[0m \u001b[0;34m\"class\"\u001b[0m\u001b[0;34m]\u001b[0m\u001b[0;34m\u001b[0m\u001b[0;34m\u001b[0m\u001b[0m\n\u001b[1;32m      4\u001b[0m \u001b[0mdf_FD\u001b[0m\u001b[0;34m.\u001b[0m\u001b[0mhead\u001b[0m\u001b[0;34m(\u001b[0m\u001b[0;34m)\u001b[0m\u001b[0;34m\u001b[0m\u001b[0;34m\u001b[0m\u001b[0m\n",
            "\u001b[0;32m/usr/local/lib/python3.6/dist-packages/pandas/io/parsers.py\u001b[0m in \u001b[0;36mread_csv\u001b[0;34m(filepath_or_buffer, sep, delimiter, header, names, index_col, usecols, squeeze, prefix, mangle_dupe_cols, dtype, engine, converters, true_values, false_values, skipinitialspace, skiprows, skipfooter, nrows, na_values, keep_default_na, na_filter, verbose, skip_blank_lines, parse_dates, infer_datetime_format, keep_date_col, date_parser, dayfirst, cache_dates, iterator, chunksize, compression, thousands, decimal, lineterminator, quotechar, quoting, doublequote, escapechar, comment, encoding, dialect, error_bad_lines, warn_bad_lines, delim_whitespace, low_memory, memory_map, float_precision)\u001b[0m\n\u001b[1;32m    686\u001b[0m     )\n\u001b[1;32m    687\u001b[0m \u001b[0;34m\u001b[0m\u001b[0m\n\u001b[0;32m--> 688\u001b[0;31m     \u001b[0;32mreturn\u001b[0m \u001b[0m_read\u001b[0m\u001b[0;34m(\u001b[0m\u001b[0mfilepath_or_buffer\u001b[0m\u001b[0;34m,\u001b[0m \u001b[0mkwds\u001b[0m\u001b[0;34m)\u001b[0m\u001b[0;34m\u001b[0m\u001b[0;34m\u001b[0m\u001b[0m\n\u001b[0m\u001b[1;32m    689\u001b[0m \u001b[0;34m\u001b[0m\u001b[0m\n\u001b[1;32m    690\u001b[0m \u001b[0;34m\u001b[0m\u001b[0m\n",
            "\u001b[0;32m/usr/local/lib/python3.6/dist-packages/pandas/io/parsers.py\u001b[0m in \u001b[0;36m_read\u001b[0;34m(filepath_or_buffer, kwds)\u001b[0m\n\u001b[1;32m    452\u001b[0m \u001b[0;34m\u001b[0m\u001b[0m\n\u001b[1;32m    453\u001b[0m     \u001b[0;31m# Create the parser.\u001b[0m\u001b[0;34m\u001b[0m\u001b[0;34m\u001b[0m\u001b[0;34m\u001b[0m\u001b[0m\n\u001b[0;32m--> 454\u001b[0;31m     \u001b[0mparser\u001b[0m \u001b[0;34m=\u001b[0m \u001b[0mTextFileReader\u001b[0m\u001b[0;34m(\u001b[0m\u001b[0mfp_or_buf\u001b[0m\u001b[0;34m,\u001b[0m \u001b[0;34m**\u001b[0m\u001b[0mkwds\u001b[0m\u001b[0;34m)\u001b[0m\u001b[0;34m\u001b[0m\u001b[0;34m\u001b[0m\u001b[0m\n\u001b[0m\u001b[1;32m    455\u001b[0m \u001b[0;34m\u001b[0m\u001b[0m\n\u001b[1;32m    456\u001b[0m     \u001b[0;32mif\u001b[0m \u001b[0mchunksize\u001b[0m \u001b[0;32mor\u001b[0m \u001b[0miterator\u001b[0m\u001b[0;34m:\u001b[0m\u001b[0;34m\u001b[0m\u001b[0;34m\u001b[0m\u001b[0m\n",
            "\u001b[0;32m/usr/local/lib/python3.6/dist-packages/pandas/io/parsers.py\u001b[0m in \u001b[0;36m__init__\u001b[0;34m(self, f, engine, **kwds)\u001b[0m\n\u001b[1;32m    946\u001b[0m             \u001b[0mself\u001b[0m\u001b[0;34m.\u001b[0m\u001b[0moptions\u001b[0m\u001b[0;34m[\u001b[0m\u001b[0;34m\"has_index_names\"\u001b[0m\u001b[0;34m]\u001b[0m \u001b[0;34m=\u001b[0m \u001b[0mkwds\u001b[0m\u001b[0;34m[\u001b[0m\u001b[0;34m\"has_index_names\"\u001b[0m\u001b[0;34m]\u001b[0m\u001b[0;34m\u001b[0m\u001b[0;34m\u001b[0m\u001b[0m\n\u001b[1;32m    947\u001b[0m \u001b[0;34m\u001b[0m\u001b[0m\n\u001b[0;32m--> 948\u001b[0;31m         \u001b[0mself\u001b[0m\u001b[0;34m.\u001b[0m\u001b[0m_make_engine\u001b[0m\u001b[0;34m(\u001b[0m\u001b[0mself\u001b[0m\u001b[0;34m.\u001b[0m\u001b[0mengine\u001b[0m\u001b[0;34m)\u001b[0m\u001b[0;34m\u001b[0m\u001b[0;34m\u001b[0m\u001b[0m\n\u001b[0m\u001b[1;32m    949\u001b[0m \u001b[0;34m\u001b[0m\u001b[0m\n\u001b[1;32m    950\u001b[0m     \u001b[0;32mdef\u001b[0m \u001b[0mclose\u001b[0m\u001b[0;34m(\u001b[0m\u001b[0mself\u001b[0m\u001b[0;34m)\u001b[0m\u001b[0;34m:\u001b[0m\u001b[0;34m\u001b[0m\u001b[0;34m\u001b[0m\u001b[0m\n",
            "\u001b[0;32m/usr/local/lib/python3.6/dist-packages/pandas/io/parsers.py\u001b[0m in \u001b[0;36m_make_engine\u001b[0;34m(self, engine)\u001b[0m\n\u001b[1;32m   1178\u001b[0m     \u001b[0;32mdef\u001b[0m \u001b[0m_make_engine\u001b[0m\u001b[0;34m(\u001b[0m\u001b[0mself\u001b[0m\u001b[0;34m,\u001b[0m \u001b[0mengine\u001b[0m\u001b[0;34m=\u001b[0m\u001b[0;34m\"c\"\u001b[0m\u001b[0;34m)\u001b[0m\u001b[0;34m:\u001b[0m\u001b[0;34m\u001b[0m\u001b[0;34m\u001b[0m\u001b[0m\n\u001b[1;32m   1179\u001b[0m         \u001b[0;32mif\u001b[0m \u001b[0mengine\u001b[0m \u001b[0;34m==\u001b[0m \u001b[0;34m\"c\"\u001b[0m\u001b[0;34m:\u001b[0m\u001b[0;34m\u001b[0m\u001b[0;34m\u001b[0m\u001b[0m\n\u001b[0;32m-> 1180\u001b[0;31m             \u001b[0mself\u001b[0m\u001b[0;34m.\u001b[0m\u001b[0m_engine\u001b[0m \u001b[0;34m=\u001b[0m \u001b[0mCParserWrapper\u001b[0m\u001b[0;34m(\u001b[0m\u001b[0mself\u001b[0m\u001b[0;34m.\u001b[0m\u001b[0mf\u001b[0m\u001b[0;34m,\u001b[0m \u001b[0;34m**\u001b[0m\u001b[0mself\u001b[0m\u001b[0;34m.\u001b[0m\u001b[0moptions\u001b[0m\u001b[0;34m)\u001b[0m\u001b[0;34m\u001b[0m\u001b[0;34m\u001b[0m\u001b[0m\n\u001b[0m\u001b[1;32m   1181\u001b[0m         \u001b[0;32melse\u001b[0m\u001b[0;34m:\u001b[0m\u001b[0;34m\u001b[0m\u001b[0;34m\u001b[0m\u001b[0m\n\u001b[1;32m   1182\u001b[0m             \u001b[0;32mif\u001b[0m \u001b[0mengine\u001b[0m \u001b[0;34m==\u001b[0m \u001b[0;34m\"python\"\u001b[0m\u001b[0;34m:\u001b[0m\u001b[0;34m\u001b[0m\u001b[0;34m\u001b[0m\u001b[0m\n",
            "\u001b[0;32m/usr/local/lib/python3.6/dist-packages/pandas/io/parsers.py\u001b[0m in \u001b[0;36m__init__\u001b[0;34m(self, src, **kwds)\u001b[0m\n\u001b[1;32m   2008\u001b[0m         \u001b[0mkwds\u001b[0m\u001b[0;34m[\u001b[0m\u001b[0;34m\"usecols\"\u001b[0m\u001b[0;34m]\u001b[0m \u001b[0;34m=\u001b[0m \u001b[0mself\u001b[0m\u001b[0;34m.\u001b[0m\u001b[0musecols\u001b[0m\u001b[0;34m\u001b[0m\u001b[0;34m\u001b[0m\u001b[0m\n\u001b[1;32m   2009\u001b[0m \u001b[0;34m\u001b[0m\u001b[0m\n\u001b[0;32m-> 2010\u001b[0;31m         \u001b[0mself\u001b[0m\u001b[0;34m.\u001b[0m\u001b[0m_reader\u001b[0m \u001b[0;34m=\u001b[0m \u001b[0mparsers\u001b[0m\u001b[0;34m.\u001b[0m\u001b[0mTextReader\u001b[0m\u001b[0;34m(\u001b[0m\u001b[0msrc\u001b[0m\u001b[0;34m,\u001b[0m \u001b[0;34m**\u001b[0m\u001b[0mkwds\u001b[0m\u001b[0;34m)\u001b[0m\u001b[0;34m\u001b[0m\u001b[0;34m\u001b[0m\u001b[0m\n\u001b[0m\u001b[1;32m   2011\u001b[0m         \u001b[0mself\u001b[0m\u001b[0;34m.\u001b[0m\u001b[0munnamed_cols\u001b[0m \u001b[0;34m=\u001b[0m \u001b[0mself\u001b[0m\u001b[0;34m.\u001b[0m\u001b[0m_reader\u001b[0m\u001b[0;34m.\u001b[0m\u001b[0munnamed_cols\u001b[0m\u001b[0;34m\u001b[0m\u001b[0;34m\u001b[0m\u001b[0m\n\u001b[1;32m   2012\u001b[0m \u001b[0;34m\u001b[0m\u001b[0m\n",
            "\u001b[0;32mpandas/_libs/parsers.pyx\u001b[0m in \u001b[0;36mpandas._libs.parsers.TextReader.__cinit__\u001b[0;34m()\u001b[0m\n",
            "\u001b[0;32mpandas/_libs/parsers.pyx\u001b[0m in \u001b[0;36mpandas._libs.parsers.TextReader._setup_parser_source\u001b[0;34m()\u001b[0m\n",
            "\u001b[0;31mFileNotFoundError\u001b[0m: [Errno 2] No such file or directory: 'FinalData.csv'"
          ]
        }
      ]
    },
    {
      "cell_type": "code",
      "metadata": {
        "id": "89wraHayoxnt"
      },
      "source": [
        "smallDF = pd.read_csv(\"small_normalize_train.csv\", sep = \",\", header = None)\r\n",
        "smallDF.head()"
      ],
      "execution_count": null,
      "outputs": []
    },
    {
      "cell_type": "code",
      "metadata": {
        "id": "-C4OPEWXpg1g"
      },
      "source": [
        "plt.figure(figsize=(20, 7))\r\n",
        "sn.heatmap(smallDF.corr(), annot=True)"
      ],
      "execution_count": null,
      "outputs": []
    },
    {
      "cell_type": "code",
      "metadata": {
        "id": "FWFEZM1yuBWG"
      },
      "source": [
        "#Ignore this\r\n",
        "df_FD.loc[df_FD['class'] == 2, 'class'] = 0"
      ],
      "execution_count": null,
      "outputs": []
    },
    {
      "cell_type": "code",
      "metadata": {
        "id": "npaAvrtwuiOt"
      },
      "source": [
        "#Ignore this\r\n",
        "df_FD.head()"
      ],
      "execution_count": null,
      "outputs": []
    },
    {
      "cell_type": "code",
      "metadata": {
        "id": "Q_0wbC0KuvSq"
      },
      "source": [
        "#Ignore this\r\n",
        "df_FD = df_FD.to_numpy()\r\n",
        "df_FD"
      ],
      "execution_count": null,
      "outputs": []
    },
    {
      "cell_type": "markdown",
      "metadata": {
        "id": "XZ0o_erdu7RC"
      },
      "source": [
        "# Normalize df_FD"
      ]
    },
    {
      "cell_type": "code",
      "metadata": {
        "id": "tpnRODVlu4gr"
      },
      "source": [
        "#Ignore this\r\n",
        "for j in range(df_FD.shape[1]):\r\n",
        "  df_FD[:, j] = df_FD[:, j]/max(df_FD[:, j])"
      ],
      "execution_count": null,
      "outputs": []
    },
    {
      "cell_type": "code",
      "metadata": {
        "id": "uYxkd_MZvbe4"
      },
      "source": [
        "#Ignore this\r\n",
        "df_FD"
      ],
      "execution_count": null,
      "outputs": []
    },
    {
      "cell_type": "code",
      "metadata": {
        "id": "kWUeZ_Tgvf4c"
      },
      "source": [
        "#Ignore this\r\n",
        "df_FD = pd.DataFrame(df_FD, columns=[\"bk_000\", \"bl_000\", \"bm_000\", \"bs_000\", \"by_000\", \"ca_000\", \"cb_000\", \"dt_000\", \"ec_00\", \"ed_000\", \"class\"])\r\n",
        "df_FD.head()"
      ],
      "execution_count": null,
      "outputs": []
    },
    {
      "cell_type": "code",
      "metadata": {
        "id": "oNI4vxs0wCzW"
      },
      "source": [
        "#Ignore this\r\n",
        "df_FD.to_csv(r'Final_Normalized_Train_With_Label.csv')"
      ],
      "execution_count": null,
      "outputs": []
    },
    {
      "cell_type": "code",
      "metadata": {
        "id": "6Z9wmy_Gwb7m"
      },
      "source": [
        "#Ignore this\r\n",
        "df = pd.read_csv('Final_Normalized_Train_With_Label.csv', sep= \",\", header= 0, usecols= range(1, 12))\r\n",
        "df.head()"
      ],
      "execution_count": null,
      "outputs": []
    },
    {
      "cell_type": "code",
      "metadata": {
        "id": "w2SbHFYwq1Yt"
      },
      "source": [
        "#Ignore this\r\n",
        "dataTrain = pd.read_csv(\"raw_scania_train_data.csv\", sep = \",\", header = 0, usecols= [\"bk_000\", \"bl_000\", \"bm_000\", \"bs_000\", \"by_000\", \"ca_000\", \"cb_000\", \"dt_000\", \"ec_00\", \"ed_000\", \"class\"])\r\n",
        "dataTest.head()"
      ],
      "execution_count": null,
      "outputs": []
    },
    {
      "cell_type": "code",
      "metadata": {
        "id": "abKc5eb4LqXO"
      },
      "source": [
        "#Ignore this\r\n",
        "dataTest = pd.read_csv(\"raw_scania_test_data.csv\", sep = \",\", header = 0, usecols= [\"bk_000\", \"bl_000\", \"bm_000\", \"bs_000\", \"by_000\", \"ca_000\", \"cb_000\", \"dt_000\", \"ec_00\", \"ed_000\", \"class\"])\r\n",
        "dataTest.head()"
      ],
      "execution_count": null,
      "outputs": []
    },
    {
      "cell_type": "code",
      "metadata": {
        "id": "YGnxQ3Kzuvh6"
      },
      "source": [
        "#Ignore this\r\n",
        "dataTest.replace(to_replace =\"None\", value = 'loay', inplace=True)\r\n",
        "dataTest.replace(to_replace =\"Nan\", value ='loay', inplace=True)\r\n",
        "dataTest.replace(to_replace =\"na\", value ='loay', inplace=True)\r\n",
        "dataTest.replace(to_replace =\"none\", value ='loay', inplace=True)\r\n",
        "dataTest.replace(to_replace = \" \", value ='loay', inplace=True)\r\n",
        "dataTest.replace(to_replace= \"null\", value='loay', inplace=True)"
      ],
      "execution_count": null,
      "outputs": []
    },
    {
      "cell_type": "code",
      "metadata": {
        "id": "8FW7sGiLxWGl"
      },
      "source": [
        ""
      ],
      "execution_count": null,
      "outputs": []
    },
    {
      "cell_type": "code",
      "metadata": {
        "id": "XyUa-73VvHey"
      },
      "source": [
        "#Ignore this\r\n",
        "z = dataTest[dataTest['ed_000']  != 'loay']['ed_000']\r\n",
        "z"
      ],
      "execution_count": null,
      "outputs": []
    },
    {
      "cell_type": "code",
      "metadata": {
        "id": "q3nuGu8SwwZA"
      },
      "source": [
        "#Ignore this\r\n",
        "z = z.to_numpy()\r\n",
        "z = z.astype(float)\r\n",
        "z = np.mean(z)"
      ],
      "execution_count": null,
      "outputs": []
    },
    {
      "cell_type": "code",
      "metadata": {
        "id": "_duN_ihExhI6"
      },
      "source": [
        "#Ignore this\r\n",
        "dataTest.loc[dataTest['ed_000'] == 'loay', 'ed_000'] = z"
      ],
      "execution_count": null,
      "outputs": []
    },
    {
      "cell_type": "code",
      "metadata": {
        "id": "F3xmJ6nhzhY_"
      },
      "source": [
        "#Ignore this\r\n",
        "dataTest.head()"
      ],
      "execution_count": null,
      "outputs": []
    },
    {
      "cell_type": "code",
      "metadata": {
        "id": "kHUWrSrXzguY"
      },
      "source": [
        "#Ignore this\r\n",
        "dataTest.loc[dataTest['class'] == 'neg', 'class'] = 0\r\n",
        "dataTest.loc[dataTest['class'] == 'pos', 'class'] = 1"
      ],
      "execution_count": null,
      "outputs": []
    },
    {
      "cell_type": "code",
      "metadata": {
        "id": "o3wtbGdp05Kw"
      },
      "source": [
        "#Ignore this\r\n",
        "dataTest = dataTest.to_numpy()\r\n",
        "dataTest"
      ],
      "execution_count": null,
      "outputs": []
    },
    {
      "cell_type": "code",
      "metadata": {
        "id": "sY3R6-eY1JYZ"
      },
      "source": [
        "#Ignore this\r\n",
        "for j in range(dataTest.shape[1]):\r\n",
        "  dataTest[:, j] = dataTest[:, j].astype(float)\r\n",
        "  dataTest[:, j] = dataTest[:, j]/max(dataTest[:, j])"
      ],
      "execution_count": null,
      "outputs": []
    },
    {
      "cell_type": "code",
      "metadata": {
        "id": "CnG6lvHUQAUj"
      },
      "source": [
        "#Ignore this\r\n",
        "dataTest = pd.DataFrame(dataTest, columns=[\"class\", \"bk_000\", \"bl_000\", \"bm_000\", \"bs_000\", \"by_000\", \"ca_000\", \"cb_000\", \"dt_000\", \"ec_00\", \"ed_000\"])\r\n",
        "dataTest.head()"
      ],
      "execution_count": null,
      "outputs": []
    },
    {
      "cell_type": "code",
      "metadata": {
        "id": "1ky350LVQfVE"
      },
      "source": [
        "dataTest.to_csv(r'Normalized_Test_With_Mean_Imput.csv')"
      ],
      "execution_count": null,
      "outputs": []
    },
    {
      "cell_type": "code",
      "metadata": {
        "id": "YQ9AvwmT17PP"
      },
      "source": [
        "pos = dataTrain[dataTrain[:, 0] == 1, :]\r\n",
        "pos"
      ],
      "execution_count": null,
      "outputs": []
    },
    {
      "cell_type": "code",
      "metadata": {
        "id": "MmZvg-V73JAY"
      },
      "source": [
        "pos.shape"
      ],
      "execution_count": null,
      "outputs": []
    },
    {
      "cell_type": "code",
      "metadata": {
        "id": "7o7TcdgB3gMl"
      },
      "source": [
        "tempPos = pos"
      ],
      "execution_count": null,
      "outputs": []
    },
    {
      "cell_type": "code",
      "metadata": {
        "id": "PpDjcWT_3j0T"
      },
      "source": [
        "for j in range(55):\r\n",
        "  pos = np.concatenate((pos, tempPos), axis = 0)"
      ],
      "execution_count": null,
      "outputs": []
    },
    {
      "cell_type": "code",
      "metadata": {
        "id": "Sb077qG34Tpf"
      },
      "source": [
        "pos.shape"
      ],
      "execution_count": null,
      "outputs": []
    },
    {
      "cell_type": "code",
      "metadata": {
        "id": "FAkVIBol4XJ-"
      },
      "source": [
        "dataTrain = np.concatenate((dataTrain, pos), axis = 0)"
      ],
      "execution_count": null,
      "outputs": []
    },
    {
      "cell_type": "code",
      "metadata": {
        "id": "3yJpGyFd4hIk"
      },
      "source": [
        "dataTrain.shape"
      ],
      "execution_count": null,
      "outputs": []
    },
    {
      "cell_type": "code",
      "metadata": {
        "id": "AZXV4ASe4neC"
      },
      "source": [
        "dataTrain = pd.DataFrame(dataTrain, columns=[\"class\", \"bk_000\", \"bl_000\", \"bm_000\", \"bs_000\", \"by_000\", \"ca_000\", \"cb_000\", \"dt_000\", \"ec_00\", \"ed_000\"])\r\n",
        "dataTrain.head()"
      ],
      "execution_count": null,
      "outputs": []
    },
    {
      "cell_type": "code",
      "metadata": {
        "id": "0gsu4_rd5jzt"
      },
      "source": [
        "dataTrain.to_csv(r'Normalized_Train_With_Mean_Imput.csv')"
      ],
      "execution_count": null,
      "outputs": []
    },
    {
      "cell_type": "code",
      "metadata": {
        "id": "zhOFBVGmtBAr"
      },
      "source": [
        "dataTrain[dataTrain['ed_000'] == 'loay']"
      ],
      "execution_count": null,
      "outputs": []
    },
    {
      "cell_type": "code",
      "metadata": {
        "id": "WBAdfvwClvQw"
      },
      "source": [
        "dataTest = pd.read_csv(\"raw_scania_test_data.csv\", sep = \",\", header = 0, usecols= [\"bk_000\", \"bl_000\", \"bm_000\", \"bs_000\", \"by_000\", \"ca_000\", \"cb_000\", \"dt_000\", \"ec_00\", \"ed_000\", \"class\"])\r\n",
        "dataTest.head()"
      ],
      "execution_count": null,
      "outputs": []
    },
    {
      "cell_type": "code",
      "metadata": {
        "id": "eOb1RpD72ATF"
      },
      "source": [
        "dataTrain.replace(to_replace =\"None\", value = 'loay', inplace=True)\r\n",
        "dataTrain.replace(to_replace =\"Nan\", value ='loay', inplace=True)\r\n",
        "dataTrain.replace(to_replace =\"na\", value ='loay', inplace=True)\r\n",
        "dataTrain.replace(to_replace =\"none\", value ='loay', inplace=True)\r\n",
        "dataTrain.replace(to_replace = \" \", value ='loay', inplace=True)\r\n",
        "dataTrain.replace(to_replace= \"null\", value='loay', inplace=True)"
      ],
      "execution_count": null,
      "outputs": []
    },
    {
      "cell_type": "code",
      "metadata": {
        "id": "XqSev2K92YUM"
      },
      "source": [
        "dataTest.head()"
      ],
      "execution_count": null,
      "outputs": []
    },
    {
      "cell_type": "code",
      "metadata": {
        "id": "NkXPfvEf2fR3"
      },
      "source": [
        "dataTest.loc[dataTest['class'] == 'neg', 'class'] = 0\r\n",
        "dataTest.loc[dataTest['class'] == 'pos', 'class'] = 1"
      ],
      "execution_count": null,
      "outputs": []
    },
    {
      "cell_type": "code",
      "metadata": {
        "id": "eyKVVT4j2vWt"
      },
      "source": [
        "dataTest.head()"
      ],
      "execution_count": null,
      "outputs": []
    },
    {
      "cell_type": "code",
      "metadata": {
        "id": "9rpCTPf63Vvi"
      },
      "source": [
        "Xdf = dataTest[[\"bk_000\", \"bl_000\", \"bm_000\", \"bs_000\", \"by_000\", \"ca_000\", \"cb_000\", \"dt_000\", \"ec_00\", \"ed_000\"]]; ydf = dataTest[[\"class\"]]\r\n",
        "Xdf.head()"
      ],
      "execution_count": null,
      "outputs": []
    },
    {
      "cell_type": "code",
      "metadata": {
        "id": "vdaljH-Y4SoE"
      },
      "source": [
        "Xdf['class'] = ydf\r\n",
        "Xdf.head()"
      ],
      "execution_count": null,
      "outputs": []
    },
    {
      "cell_type": "code",
      "metadata": {
        "id": "kp4_XqLX59ad"
      },
      "source": [
        "Xdf = Xdf.to_numpy()"
      ],
      "execution_count": null,
      "outputs": []
    },
    {
      "cell_type": "code",
      "metadata": {
        "id": "tBOgg2J65bj2"
      },
      "source": [
        "for j in range(Xdf.shape[1]):\r\n",
        "  Xdf[:, j] = Xdf[:, j].astype(float)\r\n",
        "  Xdf[:, j] = Xdf[:, j]/max(Xdf[:, j])"
      ],
      "execution_count": null,
      "outputs": []
    },
    {
      "cell_type": "code",
      "metadata": {
        "id": "ezNWQGsk8Qq5"
      },
      "source": [
        "Xdf = pd.DataFrame(Xdf, columns= [\"bk_000\", \"bl_000\", \"bm_000\", \"bs_000\", \"by_000\", \"ca_000\", \"cb_000\", \"dt_000\", \"ec_00\", \"ed_000\", \"class\"])\r\n",
        "Xdf.head()"
      ],
      "execution_count": null,
      "outputs": []
    },
    {
      "cell_type": "code",
      "metadata": {
        "id": "5dzZ9-b882f6"
      },
      "source": [
        "Xdf.to_csv(r'Final_Normalized_Test_With_Label_1.csv')"
      ],
      "execution_count": null,
      "outputs": []
    },
    {
      "cell_type": "code",
      "metadata": {
        "id": "79oGJSSC9NTl"
      },
      "source": [
        "Xdf.count"
      ],
      "execution_count": null,
      "outputs": []
    },
    {
      "cell_type": "code",
      "metadata": {
        "id": "ByDxwQipyWMu"
      },
      "source": [
        "dataTrain = pd.read_csv(\"raw_scania_train_data.csv\", sep = \",\", header = 0)\r\n",
        "dataTrain.head()"
      ],
      "execution_count": null,
      "outputs": []
    },
    {
      "cell_type": "markdown",
      "metadata": {
        "id": "8FGpOdaSAfuY"
      },
      "source": [
        "#Start Modeling From Here"
      ]
    },
    {
      "cell_type": "code",
      "metadata": {
        "colab": {
          "base_uri": "https://localhost:8080/",
          "height": 197
        },
        "id": "jHgPpOH2oTI2",
        "outputId": "c28ba8a5-e24d-462a-cd16-7fe1a1670491"
      },
      "source": [
        "df = pd.read_csv(\"Normalized_Train_With_Mean_Imput.csv\", sep = \",\", header=0, usecols=range(1,12))\r\n",
        "df.head()"
      ],
      "execution_count": null,
      "outputs": [
        {
          "output_type": "execute_result",
          "data": {
            "text/html": [
              "<div>\n",
              "<style scoped>\n",
              "    .dataframe tbody tr th:only-of-type {\n",
              "        vertical-align: middle;\n",
              "    }\n",
              "\n",
              "    .dataframe tbody tr th {\n",
              "        vertical-align: top;\n",
              "    }\n",
              "\n",
              "    .dataframe thead th {\n",
              "        text-align: right;\n",
              "    }\n",
              "</style>\n",
              "<table border=\"1\" class=\"dataframe\">\n",
              "  <thead>\n",
              "    <tr style=\"text-align: right;\">\n",
              "      <th></th>\n",
              "      <th>class</th>\n",
              "      <th>bk_000</th>\n",
              "      <th>bl_000</th>\n",
              "      <th>bm_000</th>\n",
              "      <th>bs_000</th>\n",
              "      <th>by_000</th>\n",
              "      <th>ca_000</th>\n",
              "      <th>cb_000</th>\n",
              "      <th>dt_000</th>\n",
              "      <th>ec_00</th>\n",
              "      <th>ed_000</th>\n",
              "    </tr>\n",
              "  </thead>\n",
              "  <tbody>\n",
              "    <tr>\n",
              "      <th>0</th>\n",
              "      <td>0.0</td>\n",
              "      <td>0.252354</td>\n",
              "      <td>0.269627</td>\n",
              "      <td>0.228244</td>\n",
              "      <td>0.172130</td>\n",
              "      <td>0.043479</td>\n",
              "      <td>0.446972</td>\n",
              "      <td>0.527780</td>\n",
              "      <td>0.057779</td>\n",
              "      <td>0.023069</td>\n",
              "      <td>0.032751</td>\n",
              "    </tr>\n",
              "    <tr>\n",
              "      <th>1</th>\n",
              "      <td>0.0</td>\n",
              "      <td>0.260487</td>\n",
              "      <td>0.274495</td>\n",
              "      <td>0.279667</td>\n",
              "      <td>0.006459</td>\n",
              "      <td>0.017698</td>\n",
              "      <td>0.955934</td>\n",
              "      <td>0.005705</td>\n",
              "      <td>0.024761</td>\n",
              "      <td>0.020862</td>\n",
              "      <td>0.028186</td>\n",
              "    </tr>\n",
              "    <tr>\n",
              "      <th>2</th>\n",
              "      <td>0.0</td>\n",
              "      <td>0.104646</td>\n",
              "      <td>0.099672</td>\n",
              "      <td>0.304878</td>\n",
              "      <td>0.026995</td>\n",
              "      <td>0.015408</td>\n",
              "      <td>0.185489</td>\n",
              "      <td>0.205238</td>\n",
              "      <td>0.016047</td>\n",
              "      <td>0.009608</td>\n",
              "      <td>0.012318</td>\n",
              "    </tr>\n",
              "    <tr>\n",
              "      <th>3</th>\n",
              "      <td>0.0</td>\n",
              "      <td>0.213954</td>\n",
              "      <td>0.245177</td>\n",
              "      <td>0.304878</td>\n",
              "      <td>0.010200</td>\n",
              "      <td>0.000032</td>\n",
              "      <td>0.016485</td>\n",
              "      <td>0.017693</td>\n",
              "      <td>0.000027</td>\n",
              "      <td>0.000010</td>\n",
              "      <td>0.000652</td>\n",
              "    </tr>\n",
              "    <tr>\n",
              "      <th>4</th>\n",
              "      <td>0.0</td>\n",
              "      <td>0.234058</td>\n",
              "      <td>0.215579</td>\n",
              "      <td>0.209186</td>\n",
              "      <td>0.182214</td>\n",
              "      <td>0.024743</td>\n",
              "      <td>0.511293</td>\n",
              "      <td>0.541289</td>\n",
              "      <td>0.053553</td>\n",
              "      <td>0.010527</td>\n",
              "      <td>0.014202</td>\n",
              "    </tr>\n",
              "  </tbody>\n",
              "</table>\n",
              "</div>"
            ],
            "text/plain": [
              "   class    bk_000    bl_000    bm_000  ...    cb_000    dt_000     ec_00    ed_000\n",
              "0    0.0  0.252354  0.269627  0.228244  ...  0.527780  0.057779  0.023069  0.032751\n",
              "1    0.0  0.260487  0.274495  0.279667  ...  0.005705  0.024761  0.020862  0.028186\n",
              "2    0.0  0.104646  0.099672  0.304878  ...  0.205238  0.016047  0.009608  0.012318\n",
              "3    0.0  0.213954  0.245177  0.304878  ...  0.017693  0.000027  0.000010  0.000652\n",
              "4    0.0  0.234058  0.215579  0.209186  ...  0.541289  0.053553  0.010527  0.014202\n",
              "\n",
              "[5 rows x 11 columns]"
            ]
          },
          "metadata": {
            "tags": []
          },
          "execution_count": 16
        }
      ]
    },
    {
      "cell_type": "code",
      "metadata": {
        "id": "x2n9YgrLTB9P"
      },
      "source": [
        "#df.columns = [\"class\", \"Temperature\", \"HeartRate\", \"NaiveTCellCount\", \"TCellCount\", \"Hemoglobin\", \"Platelets\", \"RedBloodCellsCount\", \"ViralLoad\", \"ChangeInTCellCount\", \"ChangeInRedBloodCellCount\"]\r\n",
        "df.columns = [\"class\", \"NaiveTCellCount\", \"TCellCount\", \"ChangeInTCellCount\",\"Temperature\", \"Hemoglobin\", \"Platelets\", \"HeartRate\", \"ViralLoad\",\"RedBloodCellsCount\",\"ChangeInRedBloodCellCount\"]"
      ],
      "execution_count": null,
      "outputs": []
    },
    {
      "cell_type": "code",
      "metadata": {
        "id": "CoKI9fT4YehS"
      },
      "source": [
        ""
      ],
      "execution_count": null,
      "outputs": []
    },
    {
      "cell_type": "code",
      "metadata": {
        "id": "W46g0_ZcYe8X"
      },
      "source": [
        ""
      ],
      "execution_count": null,
      "outputs": []
    },
    {
      "cell_type": "code",
      "metadata": {
        "colab": {
          "base_uri": "https://localhost:8080/",
          "height": 217
        },
        "id": "riW2mkI3UYvt",
        "outputId": "caf0569f-553f-4189-be50-cf3ae067b0c9"
      },
      "source": [
        "df.head()"
      ],
      "execution_count": null,
      "outputs": [
        {
          "output_type": "execute_result",
          "data": {
            "text/html": [
              "<div>\n",
              "<style scoped>\n",
              "    .dataframe tbody tr th:only-of-type {\n",
              "        vertical-align: middle;\n",
              "    }\n",
              "\n",
              "    .dataframe tbody tr th {\n",
              "        vertical-align: top;\n",
              "    }\n",
              "\n",
              "    .dataframe thead th {\n",
              "        text-align: right;\n",
              "    }\n",
              "</style>\n",
              "<table border=\"1\" class=\"dataframe\">\n",
              "  <thead>\n",
              "    <tr style=\"text-align: right;\">\n",
              "      <th></th>\n",
              "      <th>class</th>\n",
              "      <th>NaiveTCellCount</th>\n",
              "      <th>TCellCount</th>\n",
              "      <th>ChangeInTCellCount</th>\n",
              "      <th>Temperature</th>\n",
              "      <th>Hemoglobin</th>\n",
              "      <th>Platelets</th>\n",
              "      <th>HeartRate</th>\n",
              "      <th>ViralLoad</th>\n",
              "      <th>RedBloodCellsCount</th>\n",
              "      <th>ChangeInRedBloodCellCount</th>\n",
              "    </tr>\n",
              "  </thead>\n",
              "  <tbody>\n",
              "    <tr>\n",
              "      <th>0</th>\n",
              "      <td>0.0</td>\n",
              "      <td>0.252354</td>\n",
              "      <td>0.269627</td>\n",
              "      <td>0.228244</td>\n",
              "      <td>0.172130</td>\n",
              "      <td>0.043479</td>\n",
              "      <td>0.446972</td>\n",
              "      <td>0.527780</td>\n",
              "      <td>0.057779</td>\n",
              "      <td>0.023069</td>\n",
              "      <td>0.032751</td>\n",
              "    </tr>\n",
              "    <tr>\n",
              "      <th>1</th>\n",
              "      <td>0.0</td>\n",
              "      <td>0.260487</td>\n",
              "      <td>0.274495</td>\n",
              "      <td>0.279667</td>\n",
              "      <td>0.006459</td>\n",
              "      <td>0.017698</td>\n",
              "      <td>0.955934</td>\n",
              "      <td>0.005705</td>\n",
              "      <td>0.024761</td>\n",
              "      <td>0.020862</td>\n",
              "      <td>0.028186</td>\n",
              "    </tr>\n",
              "    <tr>\n",
              "      <th>2</th>\n",
              "      <td>0.0</td>\n",
              "      <td>0.104646</td>\n",
              "      <td>0.099672</td>\n",
              "      <td>0.304878</td>\n",
              "      <td>0.026995</td>\n",
              "      <td>0.015408</td>\n",
              "      <td>0.185489</td>\n",
              "      <td>0.205238</td>\n",
              "      <td>0.016047</td>\n",
              "      <td>0.009608</td>\n",
              "      <td>0.012318</td>\n",
              "    </tr>\n",
              "    <tr>\n",
              "      <th>3</th>\n",
              "      <td>0.0</td>\n",
              "      <td>0.213954</td>\n",
              "      <td>0.245177</td>\n",
              "      <td>0.304878</td>\n",
              "      <td>0.010200</td>\n",
              "      <td>0.000032</td>\n",
              "      <td>0.016485</td>\n",
              "      <td>0.017693</td>\n",
              "      <td>0.000027</td>\n",
              "      <td>0.000010</td>\n",
              "      <td>0.000652</td>\n",
              "    </tr>\n",
              "    <tr>\n",
              "      <th>4</th>\n",
              "      <td>0.0</td>\n",
              "      <td>0.234058</td>\n",
              "      <td>0.215579</td>\n",
              "      <td>0.209186</td>\n",
              "      <td>0.182214</td>\n",
              "      <td>0.024743</td>\n",
              "      <td>0.511293</td>\n",
              "      <td>0.541289</td>\n",
              "      <td>0.053553</td>\n",
              "      <td>0.010527</td>\n",
              "      <td>0.014202</td>\n",
              "    </tr>\n",
              "  </tbody>\n",
              "</table>\n",
              "</div>"
            ],
            "text/plain": [
              "   class  NaiveTCellCount  ...  RedBloodCellsCount  ChangeInRedBloodCellCount\n",
              "0    0.0         0.252354  ...            0.023069                   0.032751\n",
              "1    0.0         0.260487  ...            0.020862                   0.028186\n",
              "2    0.0         0.104646  ...            0.009608                   0.012318\n",
              "3    0.0         0.213954  ...            0.000010                   0.000652\n",
              "4    0.0         0.234058  ...            0.010527                   0.014202\n",
              "\n",
              "[5 rows x 11 columns]"
            ]
          },
          "metadata": {
            "tags": []
          },
          "execution_count": 18
        }
      ]
    },
    {
      "cell_type": "code",
      "metadata": {
        "id": "6dkStNGUT7Ol"
      },
      "source": [
        "#df = pd.read_csv(\"Final_Normalized_Test_With_Label.csv\", sep = \",\", header=0, usecols=range(1,12))"
      ],
      "execution_count": null,
      "outputs": []
    },
    {
      "cell_type": "markdown",
      "metadata": {
        "id": "vBL1R1d5CqEo"
      },
      "source": [
        "#Perform Correlation Matrix"
      ]
    },
    {
      "cell_type": "code",
      "metadata": {
        "id": "HYMrGrARCpEX",
        "colab": {
          "base_uri": "https://localhost:8080/",
          "height": 637
        },
        "outputId": "cd124060-720d-417e-c60c-2b92cd305202"
      },
      "source": [
        "plt.figure(figsize=(17, 8))\r\n",
        "sn.heatmap(df.corr(), annot= True)"
      ],
      "execution_count": null,
      "outputs": [
        {
          "output_type": "execute_result",
          "data": {
            "text/plain": [
              "<matplotlib.axes._subplots.AxesSubplot at 0x7f0d94a0dcf8>"
            ]
          },
          "metadata": {
            "tags": []
          },
          "execution_count": 19
        },
        {
          "output_type": "display_data",
          "data": {
            "image/png": "[encoded data removed]",
            "text/plain": [
              "<Figure size 1224x576 with 2 Axes>"
            ]
          },
          "metadata": {
            "tags": [],
            "needs_background": "light"
          }
        }
      ]
    },
    {
      "cell_type": "markdown",
      "metadata": {
        "id": "6PU3slEYDAps"
      },
      "source": [
        "#Calculate Summary Statistics"
      ]
    },
    {
      "cell_type": "code",
      "metadata": {
        "colab": {
          "base_uri": "https://localhost:8080/",
          "height": 287
        },
        "id": "vSN6KvmLC_vy",
        "outputId": "e0e4c9c5-4ffe-4f3f-b22d-29b47daacb14"
      },
      "source": [
        "df.describe()"
      ],
      "execution_count": null,
      "outputs": [
        {
          "output_type": "execute_result",
          "data": {
            "text/html": [
              "<div>\n",
              "<style scoped>\n",
              "    .dataframe tbody tr th:only-of-type {\n",
              "        vertical-align: middle;\n",
              "    }\n",
              "\n",
              "    .dataframe tbody tr th {\n",
              "        vertical-align: top;\n",
              "    }\n",
              "\n",
              "    .dataframe thead th {\n",
              "        text-align: right;\n",
              "    }\n",
              "</style>\n",
              "<table border=\"1\" class=\"dataframe\">\n",
              "  <thead>\n",
              "    <tr style=\"text-align: right;\">\n",
              "      <th></th>\n",
              "      <th>class</th>\n",
              "      <th>NaiveTCellCount</th>\n",
              "      <th>TCellCount</th>\n",
              "      <th>ChangeInTCellCount</th>\n",
              "      <th>Temperature</th>\n",
              "      <th>Hemoglobin</th>\n",
              "      <th>Platelets</th>\n",
              "      <th>HeartRate</th>\n",
              "      <th>ViralLoad</th>\n",
              "      <th>RedBloodCellsCount</th>\n",
              "      <th>ChangeInRedBloodCellCount</th>\n",
              "    </tr>\n",
              "  </thead>\n",
              "  <tbody>\n",
              "    <tr>\n",
              "      <th>count</th>\n",
              "      <td>116000.000000</td>\n",
              "      <td>116000.000000</td>\n",
              "      <td>116000.000000</td>\n",
              "      <td>116000.000000</td>\n",
              "      <td>116000.000000</td>\n",
              "      <td>116000.000000</td>\n",
              "      <td>116000.000000</td>\n",
              "      <td>116000.000000</td>\n",
              "      <td>116000.000000</td>\n",
              "      <td>116000.000000</td>\n",
              "      <td>116000.000000</td>\n",
              "    </tr>\n",
              "    <tr>\n",
              "      <th>mean</th>\n",
              "      <td>0.491379</td>\n",
              "      <td>0.251028</td>\n",
              "      <td>0.261321</td>\n",
              "      <td>0.291368</td>\n",
              "      <td>0.132569</td>\n",
              "      <td>0.121505</td>\n",
              "      <td>0.363216</td>\n",
              "      <td>0.406759</td>\n",
              "      <td>0.085366</td>\n",
              "      <td>0.047601</td>\n",
              "      <td>0.067846</td>\n",
              "    </tr>\n",
              "    <tr>\n",
              "      <th>std</th>\n",
              "      <td>0.499928</td>\n",
              "      <td>0.151025</td>\n",
              "      <td>0.158748</td>\n",
              "      <td>0.156797</td>\n",
              "      <td>0.131962</td>\n",
              "      <td>0.174513</td>\n",
              "      <td>0.264537</td>\n",
              "      <td>0.307088</td>\n",
              "      <td>0.148212</td>\n",
              "      <td>0.092347</td>\n",
              "      <td>0.124090</td>\n",
              "    </tr>\n",
              "    <tr>\n",
              "      <th>min</th>\n",
              "      <td>0.000000</td>\n",
              "      <td>0.000000</td>\n",
              "      <td>0.000000</td>\n",
              "      <td>0.000000</td>\n",
              "      <td>0.000000</td>\n",
              "      <td>0.000000</td>\n",
              "      <td>0.000000</td>\n",
              "      <td>0.000000</td>\n",
              "      <td>0.000000</td>\n",
              "      <td>0.000000</td>\n",
              "      <td>0.000000</td>\n",
              "    </tr>\n",
              "    <tr>\n",
              "      <th>25%</th>\n",
              "      <td>0.000000</td>\n",
              "      <td>0.170794</td>\n",
              "      <td>0.178866</td>\n",
              "      <td>0.203845</td>\n",
              "      <td>0.031931</td>\n",
              "      <td>0.004233</td>\n",
              "      <td>0.150981</td>\n",
              "      <td>0.117476</td>\n",
              "      <td>0.008942</td>\n",
              "      <td>0.004892</td>\n",
              "      <td>0.006250</td>\n",
              "    </tr>\n",
              "    <tr>\n",
              "      <th>50%</th>\n",
              "      <td>0.000000</td>\n",
              "      <td>0.213954</td>\n",
              "      <td>0.245177</td>\n",
              "      <td>0.304878</td>\n",
              "      <td>0.093758</td>\n",
              "      <td>0.030971</td>\n",
              "      <td>0.323827</td>\n",
              "      <td>0.344451</td>\n",
              "      <td>0.023465</td>\n",
              "      <td>0.012763</td>\n",
              "      <td>0.017537</td>\n",
              "    </tr>\n",
              "    <tr>\n",
              "      <th>75%</th>\n",
              "      <td>1.000000</td>\n",
              "      <td>0.276005</td>\n",
              "      <td>0.266758</td>\n",
              "      <td>0.304878</td>\n",
              "      <td>0.187984</td>\n",
              "      <td>0.186849</td>\n",
              "      <td>0.510483</td>\n",
              "      <td>0.671374</td>\n",
              "      <td>0.078628</td>\n",
              "      <td>0.028091</td>\n",
              "      <td>0.052611</td>\n",
              "    </tr>\n",
              "    <tr>\n",
              "      <th>max</th>\n",
              "      <td>1.000000</td>\n",
              "      <td>1.000000</td>\n",
              "      <td>1.000000</td>\n",
              "      <td>1.000000</td>\n",
              "      <td>1.000000</td>\n",
              "      <td>1.000000</td>\n",
              "      <td>1.000000</td>\n",
              "      <td>1.000000</td>\n",
              "      <td>1.000000</td>\n",
              "      <td>1.000000</td>\n",
              "      <td>1.000000</td>\n",
              "    </tr>\n",
              "  </tbody>\n",
              "</table>\n",
              "</div>"
            ],
            "text/plain": [
              "               class  ...  ChangeInRedBloodCellCount\n",
              "count  116000.000000  ...              116000.000000\n",
              "mean        0.491379  ...                   0.067846\n",
              "std         0.499928  ...                   0.124090\n",
              "min         0.000000  ...                   0.000000\n",
              "25%         0.000000  ...                   0.006250\n",
              "50%         0.000000  ...                   0.017537\n",
              "75%         1.000000  ...                   0.052611\n",
              "max         1.000000  ...                   1.000000\n",
              "\n",
              "[8 rows x 11 columns]"
            ]
          },
          "metadata": {
            "tags": []
          },
          "execution_count": 6
        }
      ]
    },
    {
      "cell_type": "code",
      "metadata": {
        "id": "OCvnTUyWL2ej"
      },
      "source": [
        "df = df.to_numpy()"
      ],
      "execution_count": null,
      "outputs": []
    },
    {
      "cell_type": "code",
      "metadata": {
        "id": "7-BOehT0dhZn",
        "colab": {
          "base_uri": "https://localhost:8080/"
        },
        "outputId": "f0d1d5a0-0b42-457b-fcf1-fbc070b84a67"
      },
      "source": [
        "df"
      ],
      "execution_count": null,
      "outputs": [
        {
          "output_type": "execute_result",
          "data": {
            "text/plain": [
              "array([[0.        , 0.2523537 , 0.26962692, ..., 0.05777902, 0.02306918,\n",
              "        0.03275125],\n",
              "       [0.        , 0.26048676, 0.27449454, ..., 0.02476113, 0.02086168,\n",
              "        0.02818636],\n",
              "       [0.        , 0.10464637, 0.09967193, ..., 0.01604736, 0.00960798,\n",
              "        0.01231795],\n",
              "       ...,\n",
              "       [1.        , 0.54781415, 0.62426184, ..., 0.34025154, 0.17766913,\n",
              "        0.26123711],\n",
              "       [1.        , 0.21785306, 0.26984054, ..., 0.02346527, 0.29266795,\n",
              "        0.31828611],\n",
              "       [1.        , 0.35909056, 0.23657588, ..., 0.20305226, 0.01276296,\n",
              "        0.01753684]])"
            ]
          },
          "metadata": {
            "tags": []
          },
          "execution_count": 21
        }
      ]
    },
    {
      "cell_type": "code",
      "metadata": {
        "colab": {
          "base_uri": "https://localhost:8080/"
        },
        "id": "g_colA6zeH-U",
        "outputId": "4b4adcd7-9c35-4459-d910-fcafc3affe43"
      },
      "source": [
        "X = df[:, 1:]\r\n",
        "X"
      ],
      "execution_count": null,
      "outputs": [
        {
          "output_type": "execute_result",
          "data": {
            "text/plain": [
              "array([[0.2523537 , 0.26962692, 0.22824445, ..., 0.05777902, 0.02306918,\n",
              "        0.03275125],\n",
              "       [0.26048676, 0.27449454, 0.27966735, ..., 0.02476113, 0.02086168,\n",
              "        0.02818636],\n",
              "       [0.10464637, 0.09967193, 0.30487767, ..., 0.01604736, 0.00960798,\n",
              "        0.01231795],\n",
              "       ...,\n",
              "       [0.54781415, 0.62426184, 0.63025864, ..., 0.34025154, 0.17766913,\n",
              "        0.26123711],\n",
              "       [0.21785306, 0.26984054, 0.31177234, ..., 0.02346527, 0.29266795,\n",
              "        0.31828611],\n",
              "       [0.35909056, 0.23657588, 0.30986496, ..., 0.20305226, 0.01276296,\n",
              "        0.01753684]])"
            ]
          },
          "metadata": {
            "tags": []
          },
          "execution_count": 22
        }
      ]
    },
    {
      "cell_type": "code",
      "metadata": {
        "id": "Yi89aOQ78dch",
        "colab": {
          "base_uri": "https://localhost:8080/"
        },
        "outputId": "b1d12418-725b-48ac-a1fa-dc846c1b4912"
      },
      "source": [
        "y = df[:, 0]\r\n",
        "y"
      ],
      "execution_count": null,
      "outputs": [
        {
          "output_type": "execute_result",
          "data": {
            "text/plain": [
              "array([0., 0., 0., ..., 1., 1., 1.])"
            ]
          },
          "metadata": {
            "tags": []
          },
          "execution_count": 23
        }
      ]
    },
    {
      "cell_type": "code",
      "metadata": {
        "id": "R2DZ4O-jPN2S",
        "colab": {
          "base_uri": "https://localhost:8080/"
        },
        "outputId": "dee16823-6654-4699-c7ec-0c71a4d4ca51"
      },
      "source": [
        "X.shape"
      ],
      "execution_count": null,
      "outputs": [
        {
          "output_type": "execute_result",
          "data": {
            "text/plain": [
              "(116000, 10)"
            ]
          },
          "metadata": {
            "tags": []
          },
          "execution_count": 11
        }
      ]
    },
    {
      "cell_type": "code",
      "metadata": {
        "id": "9jZHjRnG9yWx"
      },
      "source": [
        ""
      ],
      "execution_count": null,
      "outputs": []
    },
    {
      "cell_type": "markdown",
      "metadata": {
        "id": "xy7ZQkifRAQD"
      },
      "source": [
        "#Load Test Data and Test"
      ]
    },
    {
      "cell_type": "code",
      "metadata": {
        "id": "i-tPgzdqIClE",
        "colab": {
          "base_uri": "https://localhost:8080/",
          "height": 197
        },
        "outputId": "3e61ec96-5083-40ff-d8e5-ad755c8d0c5c"
      },
      "source": [
        "df_test = pd.read_csv(\"Normalized_Test_With_Mean_Imput.csv\", sep = \",\", header = 0, usecols = range(1,12))\r\n",
        "df_test.head()"
      ],
      "execution_count": null,
      "outputs": [
        {
          "output_type": "execute_result",
          "data": {
            "text/html": [
              "<div>\n",
              "<style scoped>\n",
              "    .dataframe tbody tr th:only-of-type {\n",
              "        vertical-align: middle;\n",
              "    }\n",
              "\n",
              "    .dataframe tbody tr th {\n",
              "        vertical-align: top;\n",
              "    }\n",
              "\n",
              "    .dataframe thead th {\n",
              "        text-align: right;\n",
              "    }\n",
              "</style>\n",
              "<table border=\"1\" class=\"dataframe\">\n",
              "  <thead>\n",
              "    <tr style=\"text-align: right;\">\n",
              "      <th></th>\n",
              "      <th>class</th>\n",
              "      <th>bk_000</th>\n",
              "      <th>bl_000</th>\n",
              "      <th>bm_000</th>\n",
              "      <th>bs_000</th>\n",
              "      <th>by_000</th>\n",
              "      <th>ca_000</th>\n",
              "      <th>cb_000</th>\n",
              "      <th>dt_000</th>\n",
              "      <th>ec_00</th>\n",
              "      <th>ed_000</th>\n",
              "    </tr>\n",
              "  </thead>\n",
              "  <tbody>\n",
              "    <tr>\n",
              "      <th>0</th>\n",
              "      <td>0.0</td>\n",
              "      <td>0.213779</td>\n",
              "      <td>0.244513</td>\n",
              "      <td>0.305649</td>\n",
              "      <td>0.106995</td>\n",
              "      <td>0.000058</td>\n",
              "      <td>0.101272</td>\n",
              "      <td>0.102421</td>\n",
              "      <td>0.000077</td>\n",
              "      <td>0.005573</td>\n",
              "      <td>0.001018</td>\n",
              "    </tr>\n",
              "    <tr>\n",
              "      <th>1</th>\n",
              "      <td>0.0</td>\n",
              "      <td>0.213779</td>\n",
              "      <td>0.244513</td>\n",
              "      <td>0.305649</td>\n",
              "      <td>0.022483</td>\n",
              "      <td>0.000074</td>\n",
              "      <td>0.037098</td>\n",
              "      <td>0.038428</td>\n",
              "      <td>0.000072</td>\n",
              "      <td>0.000034</td>\n",
              "      <td>0.001154</td>\n",
              "    </tr>\n",
              "    <tr>\n",
              "      <th>2</th>\n",
              "      <td>0.0</td>\n",
              "      <td>0.256535</td>\n",
              "      <td>0.148287</td>\n",
              "      <td>0.187106</td>\n",
              "      <td>0.169180</td>\n",
              "      <td>0.024565</td>\n",
              "      <td>0.789848</td>\n",
              "      <td>0.831950</td>\n",
              "      <td>0.022300</td>\n",
              "      <td>0.024639</td>\n",
              "      <td>0.024415</td>\n",
              "    </tr>\n",
              "    <tr>\n",
              "      <th>3</th>\n",
              "      <td>0.0</td>\n",
              "      <td>0.134279</td>\n",
              "      <td>0.159014</td>\n",
              "      <td>0.121599</td>\n",
              "      <td>0.096525</td>\n",
              "      <td>0.032420</td>\n",
              "      <td>0.429153</td>\n",
              "      <td>0.465209</td>\n",
              "      <td>0.024893</td>\n",
              "      <td>0.018454</td>\n",
              "      <td>0.018984</td>\n",
              "    </tr>\n",
              "    <tr>\n",
              "      <th>4</th>\n",
              "      <td>0.0</td>\n",
              "      <td>0.213779</td>\n",
              "      <td>0.244513</td>\n",
              "      <td>0.305649</td>\n",
              "      <td>0.012244</td>\n",
              "      <td>0.000394</td>\n",
              "      <td>0.089926</td>\n",
              "      <td>0.090846</td>\n",
              "      <td>0.000402</td>\n",
              "      <td>0.001363</td>\n",
              "      <td>0.000588</td>\n",
              "    </tr>\n",
              "  </tbody>\n",
              "</table>\n",
              "</div>"
            ],
            "text/plain": [
              "   class    bk_000    bl_000    bm_000  ...    cb_000    dt_000     ec_00    ed_000\n",
              "0    0.0  0.213779  0.244513  0.305649  ...  0.102421  0.000077  0.005573  0.001018\n",
              "1    0.0  0.213779  0.244513  0.305649  ...  0.038428  0.000072  0.000034  0.001154\n",
              "2    0.0  0.256535  0.148287  0.187106  ...  0.831950  0.022300  0.024639  0.024415\n",
              "3    0.0  0.134279  0.159014  0.121599  ...  0.465209  0.024893  0.018454  0.018984\n",
              "4    0.0  0.213779  0.244513  0.305649  ...  0.090846  0.000402  0.001363  0.000588\n",
              "\n",
              "[5 rows x 11 columns]"
            ]
          },
          "metadata": {
            "tags": []
          },
          "execution_count": 24
        }
      ]
    },
    {
      "cell_type": "code",
      "metadata": {
        "id": "UvCUW-A3evFI"
      },
      "source": [
        "#df_test.columns = [\"class\", \"Temperature\", \"HeartRate\", \"NaiveTCellCount\", \"TCellCount\", \"Hemoglobin\", \"Platelets\", \"RedBloodCellsCount\", \"ViralLoad\", \"ChangeInTCellCount\", \"ChangeInRedBloodCellCount\"]\r\n",
        "df_test.columns = [\"class\", \"NaiveTCellCount\", \"TCellCount\", \"ChangeInTCellCount\",\"Temperature\", \"Hemoglobin\", \"Platelets\", \"HeartRate\", \"ViralLoad\",\"RedBloodCellsCount\",\"ChangeInRedBloodCellCount\"]"
      ],
      "execution_count": null,
      "outputs": []
    },
    {
      "cell_type": "code",
      "metadata": {
        "id": "2ZCuvVyurU7f",
        "colab": {
          "base_uri": "https://localhost:8080/"
        },
        "outputId": "72deea3c-bf57-4f84-d3ff-6b51beaa57cc"
      },
      "source": [
        "df_test = df_test.to_numpy()\r\n",
        "df_test"
      ],
      "execution_count": null,
      "outputs": [
        {
          "output_type": "execute_result",
          "data": {
            "text/plain": [
              "array([[0.00000000e+00, 2.13779282e-01, 2.44512864e-01, ...,\n",
              "        7.71695157e-05, 5.57348329e-03, 1.01823777e-03],\n",
              "       [0.00000000e+00, 2.13779282e-01, 2.44512864e-01, ...,\n",
              "        7.24925754e-05, 3.42430982e-05, 1.15400281e-03],\n",
              "       [0.00000000e+00, 2.56534676e-01, 1.48287175e-01, ...,\n",
              "        2.22996516e-02, 2.46387473e-02, 2.44150790e-02],\n",
              "       ...,\n",
              "       [0.00000000e+00, 1.71938659e-01, 2.11429007e-01, ...,\n",
              "        3.40832028e-02, 4.36372013e-02, 4.50513644e-02],\n",
              "       [0.00000000e+00, 2.13779282e-01, 2.44512864e-01, ...,\n",
              "        7.71695157e-05, 1.60248121e-03, 1.47078789e-03],\n",
              "       [0.00000000e+00, 2.13779282e-01, 2.44512864e-01, ...,\n",
              "        9.35388069e-06, 9.12590541e-04, 3.39412590e-04]])"
            ]
          },
          "metadata": {
            "tags": []
          },
          "execution_count": 26
        }
      ]
    },
    {
      "cell_type": "code",
      "metadata": {
        "id": "HKWdJKawXuNe",
        "colab": {
          "base_uri": "https://localhost:8080/"
        },
        "outputId": "10cd4d1c-42ba-4bcc-f4b9-5e0a500b071c"
      },
      "source": [
        "X_test = df_test[:, 1:]\r\n",
        "X_test"
      ],
      "execution_count": null,
      "outputs": [
        {
          "output_type": "execute_result",
          "data": {
            "text/plain": [
              "array([[2.13779282e-01, 2.44512864e-01, 3.05649436e-01, ...,\n",
              "        7.71695157e-05, 5.57348329e-03, 1.01823777e-03],\n",
              "       [2.13779282e-01, 2.44512864e-01, 3.05649436e-01, ...,\n",
              "        7.24925754e-05, 3.42430982e-05, 1.15400281e-03],\n",
              "       [2.56534676e-01, 1.48287175e-01, 1.87106126e-01, ...,\n",
              "        2.22996516e-02, 2.46387473e-02, 2.44150790e-02],\n",
              "       ...,\n",
              "       [1.71938659e-01, 2.11429007e-01, 2.29236286e-01, ...,\n",
              "        3.40832028e-02, 4.36372013e-02, 4.50513644e-02],\n",
              "       [2.13779282e-01, 2.44512864e-01, 3.05649436e-01, ...,\n",
              "        7.71695157e-05, 1.60248121e-03, 1.47078789e-03],\n",
              "       [2.13779282e-01, 2.44512864e-01, 3.05649436e-01, ...,\n",
              "        9.35388069e-06, 9.12590541e-04, 3.39412590e-04]])"
            ]
          },
          "metadata": {
            "tags": []
          },
          "execution_count": 27
        }
      ]
    },
    {
      "cell_type": "code",
      "metadata": {
        "colab": {
          "base_uri": "https://localhost:8080/"
        },
        "id": "YZDbrVXDvKBl",
        "outputId": "e6faed9e-c5d0-4c05-8005-2582075d1932"
      },
      "source": [
        "X_test.shape"
      ],
      "execution_count": null,
      "outputs": [
        {
          "output_type": "execute_result",
          "data": {
            "text/plain": [
              "(16000, 10)"
            ]
          },
          "metadata": {
            "tags": []
          },
          "execution_count": 8
        }
      ]
    },
    {
      "cell_type": "markdown",
      "metadata": {
        "id": "5LekwdG2wWJ6"
      },
      "source": [
        ""
      ]
    },
    {
      "cell_type": "code",
      "metadata": {
        "colab": {
          "base_uri": "https://localhost:8080/"
        },
        "id": "43t25h4hwQFo",
        "outputId": "71df6164-8f8f-4f63-f380-9cdea2e769e3"
      },
      "source": [
        "B.shape"
      ],
      "execution_count": null,
      "outputs": [
        {
          "output_type": "execute_result",
          "data": {
            "text/plain": [
              "(10,)"
            ]
          },
          "metadata": {
            "tags": []
          },
          "execution_count": 13
        }
      ]
    },
    {
      "cell_type": "code",
      "metadata": {
        "id": "R72H7lfgYe00",
        "colab": {
          "base_uri": "https://localhost:8080/"
        },
        "outputId": "87d3a088-e31e-40a0-b2a3-9f5b49242d81"
      },
      "source": [
        "y_test = df_test[:, 0]\r\n",
        "y_test"
      ],
      "execution_count": null,
      "outputs": [
        {
          "output_type": "execute_result",
          "data": {
            "text/plain": [
              "array([0., 0., 0., ..., 0., 0., 0.])"
            ]
          },
          "metadata": {
            "tags": []
          },
          "execution_count": 29
        }
      ]
    },
    {
      "cell_type": "markdown",
      "metadata": {
        "id": "Gv1EBoAmPP3m"
      },
      "source": [
        "#Using Deeper ANN"
      ]
    },
    {
      "cell_type": "code",
      "metadata": {
        "id": "JGAqtT1g9n7X"
      },
      "source": [
        "cmap_bold = ListedColormap([\"#FF0000\", \"#00FF00\", \"#0000FF\"])\r\n",
        "cmap_light = ListedColormap([\"#FFBBBB\", \"#BBFFBB\", \"#BBBBFF\"])"
      ],
      "execution_count": null,
      "outputs": []
    },
    {
      "cell_type": "code",
      "metadata": {
        "id": "_AQXdfzQNLWi"
      },
      "source": [
        "def linear(H):\r\n",
        "  return H \r\n",
        "\r\n",
        "def ReLU(H):\r\n",
        "  return H*(H > 0)\r\n",
        "\r\n",
        "def sigmoid(H):\r\n",
        "  return 1/(1 + np.exp(-H))\r\n",
        "\r\n",
        "def softmax(H):\r\n",
        "  eH = np.exp(H)\r\n",
        "  return eH/eH.sum(axis = 1, keepdims = True)\r\n",
        "\r\n",
        "def cross_entropy(Y, P_hat):\r\n",
        "  return -(1/len(Y))*np.sum(Y*np.log(P_hat))\r\n",
        "\r\n",
        "def OLS(Y, Y_hat):\r\n",
        "  return (1/(2*len(Y)))*np.sum((Y - Y_hat)**2)\r\n",
        "\r\n",
        "def one_hot_encode(y):\r\n",
        "  N = len(y)\r\n",
        "  y = y.astype(int)\r\n",
        "  K = len(set(y[:, 0]))\r\n",
        "  Y = np.zeros((N, K))\r\n",
        "\r\n",
        "  for i in range(N):\r\n",
        "    Y[i, y[i]] = 1\r\n",
        "\r\n",
        "  return Y\r\n",
        "\r\n",
        "def accuracy(y, y_hat):\r\n",
        "  return np.mean(y == y_hat)\r\n",
        "\r\n",
        "def R2(y, y_hat):\r\n",
        "  return 1 - np.sum((y - y_hat)**2)/np.sum((y - y.mean())**2)\r\n",
        "\r\n",
        "def derivative(Z, a):\r\n",
        "  if a == linear:\r\n",
        "    return 1\r\n",
        "  elif a == sigmoid:\r\n",
        "    return Z*(1 - Z)\r\n",
        "  elif a == np.tanh:\r\n",
        "    return 1 - Z*Z\r\n",
        "  elif a == ReLU:\r\n",
        "    return (Z > 0).astype(int)\r\n",
        "  else:\r\n",
        "    ValueError(\"Unknown Activation Function\")"
      ],
      "execution_count": null,
      "outputs": []
    },
    {
      "cell_type": "code",
      "metadata": {
        "id": "5dZfWeG6Gl9g"
      },
      "source": [
        "class ANN():\r\n",
        "\r\n",
        "  def __init__(self, architecture, activations = None, mode = 0):\r\n",
        "    self.mode = mode\r\n",
        "    self.architecture = architecture\r\n",
        "    self.activations = activations\r\n",
        "    self.L = len(architecture) + 1\r\n",
        "\r\n",
        "  def fit(self, X, y, eta = 1e-3, epochs = 1e3, show_curve = False):\r\n",
        "    epochs = int(epochs)\r\n",
        "\r\n",
        "    if self.mode:\r\n",
        "      Y = y\r\n",
        "    else:\r\n",
        "      Y = one_hot_encode(y)\r\n",
        "    \r\n",
        "    N, D = X.shape\r\n",
        "    K = Y.shape[1]\r\n",
        "\r\n",
        "    #Weights and Bias initializations\r\n",
        "\r\n",
        "    self.W = {l: np.random.randn(M[0], M[1]) for l, M in enumerate (zip(([D] + self.architecture), (self.architecture + [K])), 1)}\r\n",
        "\r\n",
        "    self.b = {l: np.random.randn(M) for l, M in enumerate(self.architecture + [K], 1)}\r\n",
        "\r\n",
        "    # Activation Funtion Loading\r\n",
        "    if self.activations is None:\r\n",
        "      self.a = {l: ReLU for l in range(1, self.L)}\r\n",
        "    else:\r\n",
        "      self.a = {l: act for l, act in enumerate(self.activations, 1)}\r\n",
        "    \r\n",
        "    # Mode Set\r\n",
        "    if self.mode:\r\n",
        "      self.a[self.L] = linear\r\n",
        "    else:\r\n",
        "      self.a[self.L] = softmax\r\n",
        "\r\n",
        "    J = np.zeros(epochs)\r\n",
        "\r\n",
        "    #Gradient Descent\r\n",
        "    for epoch in range(epochs):\r\n",
        "      self.forward(X)\r\n",
        "      if self.mode:\r\n",
        "        J[epoch] = OLS(Y, self.Z[self.L])\r\n",
        "      else:\r\n",
        "        J[epoch] = cross_entropy(Y, self.Z[self.L])\r\n",
        "\r\n",
        "      dH = (1/N)*(self.Z[self.L] - Y)\r\n",
        "      \r\n",
        "      #Weight and Bias Update Rules\r\n",
        "      for l in sorted(self.W.keys(), reverse = True):\r\n",
        "        dW = self.Z[l - 1].T@dH\r\n",
        "        db = dH.sum(axis = 0)\r\n",
        "\r\n",
        "        self.W[l] -= eta*dW\r\n",
        "        self.b[l] -= eta*db\r\n",
        "      \r\n",
        "        if l > 1:\r\n",
        "          dZ = dH@self.W[l].T\r\n",
        "          dH = dZ*derivative(self.Z[l - 1], self.a[l - 1])\r\n",
        "      \r\n",
        "    if show_curve:\r\n",
        "      plt.figure()\r\n",
        "      plt.plot(J)\r\n",
        "      plt.xlabel(\"epochs\")\r\n",
        "      plt.ylabel(\"$\\mathcal{J}$\")\r\n",
        "      plt.title(\"Training Curve\")\r\n",
        "      plt.show()\r\n",
        "\r\n",
        "  def forward(self, X):\r\n",
        "    self.Z = {0: X}\r\n",
        "\r\n",
        "    for l in sorted(self.W.keys()):\r\n",
        "      self.Z[l] = self.a[l](self.Z[l - 1]@self.W[l] + self.b[l])\r\n",
        "\r\n",
        "  def predict(self, X):\r\n",
        "    self.forward(X)\r\n",
        "\r\n",
        "    if self.mode:\r\n",
        "      return self.Z[self.L]\r\n",
        "    else:\r\n",
        "      return self.Z[self.L].argmax(axis = 1)   "
      ],
      "execution_count": null,
      "outputs": []
    },
    {
      "cell_type": "code",
      "metadata": {
        "id": "eV4tA9foMWbs"
      },
      "source": [
        "def main(X, y):\r\n",
        "  #D = 2\r\n",
        "  #K = 3\r\n",
        "  #N = int(K*1e3)\r\n",
        "\r\n",
        "  #X0 = np.random.randn((N//K), D) + np.array([2, 2])\r\n",
        "  #X1 = np.random.randn((N//K), D) + np.array([0, -2])\r\n",
        "  #X2 = np.random.randn((N//K), D) + np.array([-2, 2])\r\n",
        "  #X = np.vstack((X0, X1, X2))\r\n",
        "\r\n",
        "  #y = np.array([0]*(N//K) + [1]*(N//K) + [2]*(N//K))\r\n",
        "\r\n",
        "  myAnn = ANN()\r\n",
        "  myAnn.fit(X, y, neurons = 20, eta = 3e-2, epochs = 2e3, show_curve = True)\r\n",
        "  y_hat = myAnn.predict(X)\r\n",
        "\r\n",
        "  print(f\"Training Accuracy: {accuracy(y, y_hat):0.4f}\")\r\n",
        "\r\n",
        "  x1 = np.linspace(X[:, 0].min() -1, X[:, 0].max(), 1000)\r\n",
        "  x2 = np.linspace(X[:, 1].min() -1, X[:, 1].max(), 1000)\r\n",
        "\r\n",
        "  xx1, xx2 = np.meshgrid(x1, x2)\r\n",
        "  Z = myAnn.predict(np.c_[xx1.ravel(), xx2.ravel()]).reshape(xx1.shape)\r\n",
        "\r\n",
        "  plt.figure()\r\n",
        "  plt.scatter(X[:, 0], X[:, 1], c = y, cmap = cmap_bold)\r\n",
        "  plt.title(\"Data\")\r\n",
        "  plt.show()\r\n",
        "\r\n",
        "  plt.figure()\r\n",
        "  plt.scatter(X[:, 0], X[:, 1], c = y_hat, cmap = cmap_bold, alpha = 0.8)\r\n",
        "  plt.title(\"Prediction\")\r\n",
        "  plt.pcolormesh(xx1, xx2, Z, cmap = cmap_light)\r\n",
        "  plt.show()"
      ],
      "execution_count": null,
      "outputs": []
    },
    {
      "cell_type": "code",
      "metadata": {
        "id": "LsGJFLrLnezC"
      },
      "source": [
        "\r\n"
      ],
      "execution_count": null,
      "outputs": []
    },
    {
      "cell_type": "code",
      "metadata": {
        "id": "IMGS8jCRoHDN",
        "colab": {
          "base_uri": "https://localhost:8080/"
        },
        "outputId": "f7fd8231-9fec-4283-8044-9d006105160d"
      },
      "source": [
        "y = np.array([y])\r\n",
        "y"
      ],
      "execution_count": null,
      "outputs": [
        {
          "output_type": "execute_result",
          "data": {
            "text/plain": [
              "array([[[0.],\n",
              "        [0.],\n",
              "        [0.],\n",
              "        ...,\n",
              "        [1.],\n",
              "        [1.],\n",
              "        [1.]]])"
            ]
          },
          "metadata": {
            "tags": []
          },
          "execution_count": 127
        }
      ]
    },
    {
      "cell_type": "code",
      "metadata": {
        "id": "pj6J2ZXVSwsq",
        "colab": {
          "base_uri": "https://localhost:8080/"
        },
        "outputId": "44669fd5-2dc2-4706-c7d1-2eb473c04b08"
      },
      "source": [
        "y = y.T\r\n",
        "y.shape"
      ],
      "execution_count": null,
      "outputs": [
        {
          "output_type": "execute_result",
          "data": {
            "text/plain": [
              "(1, 116000, 1)"
            ]
          },
          "metadata": {
            "tags": []
          },
          "execution_count": 128
        }
      ]
    },
    {
      "cell_type": "code",
      "metadata": {
        "id": "P6rOD3yNoZa3",
        "colab": {
          "base_uri": "https://localhost:8080/",
          "height": 167
        },
        "outputId": "b41ed69d-567f-46bc-d1f5-3d46069e2335"
      },
      "source": [
        "myann = ANN(mode = 1, architecture=[3, 3, 3, 3], activations= [sigmoid]*4)"
      ],
      "execution_count": null,
      "outputs": [
        {
          "output_type": "error",
          "ename": "NameError",
          "evalue": "ignored",
          "traceback": [
            "\u001b[0;31m---------------------------------------------------------------------------\u001b[0m",
            "\u001b[0;31mNameError\u001b[0m                                 Traceback (most recent call last)",
            "\u001b[0;32m<ipython-input-1-8496fa6b74d4>\u001b[0m in \u001b[0;36m<module>\u001b[0;34m()\u001b[0m\n\u001b[0;32m----> 1\u001b[0;31m \u001b[0mmyann\u001b[0m \u001b[0;34m=\u001b[0m \u001b[0mANN\u001b[0m\u001b[0;34m(\u001b[0m\u001b[0mmode\u001b[0m \u001b[0;34m=\u001b[0m \u001b[0;36m1\u001b[0m\u001b[0;34m,\u001b[0m \u001b[0marchitecture\u001b[0m\u001b[0;34m=\u001b[0m\u001b[0;34m[\u001b[0m\u001b[0;36m3\u001b[0m\u001b[0;34m,\u001b[0m \u001b[0;36m3\u001b[0m\u001b[0;34m,\u001b[0m \u001b[0;36m3\u001b[0m\u001b[0;34m,\u001b[0m \u001b[0;36m3\u001b[0m\u001b[0;34m]\u001b[0m\u001b[0;34m,\u001b[0m \u001b[0mactivations\u001b[0m\u001b[0;34m=\u001b[0m \u001b[0;34m[\u001b[0m\u001b[0msigmoid\u001b[0m\u001b[0;34m]\u001b[0m\u001b[0;34m*\u001b[0m\u001b[0;36m4\u001b[0m\u001b[0;34m)\u001b[0m\u001b[0;34m\u001b[0m\u001b[0;34m\u001b[0m\u001b[0m\n\u001b[0m",
            "\u001b[0;31mNameError\u001b[0m: name 'ANN' is not defined"
          ]
        }
      ]
    },
    {
      "cell_type": "code",
      "metadata": {
        "id": "iEPOLLwjqIKH"
      },
      "source": [
        "myann.fit(X, y, epochs=1800, eta=0.01, show_curve= True)"
      ],
      "execution_count": null,
      "outputs": []
    },
    {
      "cell_type": "code",
      "metadata": {
        "id": "OTcxiu4Iqv5V",
        "colab": {
          "base_uri": "https://localhost:8080/"
        },
        "outputId": "87f66c26-5be7-43aa-d471-f47c205b32d8"
      },
      "source": [
        "y_hat = abs(myann.predict(X))\r\n",
        "y_hat"
      ],
      "execution_count": null,
      "outputs": [
        {
          "output_type": "execute_result",
          "data": {
            "text/plain": [
              "array([[0.49205494],\n",
              "       [0.48942011],\n",
              "       [0.49071302],\n",
              "       ...,\n",
              "       [0.49234346],\n",
              "       [0.49147751],\n",
              "       [0.49175204]])"
            ]
          },
          "metadata": {
            "tags": []
          },
          "execution_count": 129
        }
      ]
    },
    {
      "cell_type": "code",
      "metadata": {
        "id": "_Cgxibzeq3Yb",
        "colab": {
          "base_uri": "https://localhost:8080/"
        },
        "outputId": "b1e62482-e3bc-4751-950c-7408919db591"
      },
      "source": [
        "y_hat = np.around(y_hat)\r\n",
        "y_hat"
      ],
      "execution_count": null,
      "outputs": [
        {
          "output_type": "execute_result",
          "data": {
            "text/plain": [
              "array([[0.],\n",
              "       [0.],\n",
              "       [0.],\n",
              "       ...,\n",
              "       [0.],\n",
              "       [0.],\n",
              "       [0.]])"
            ]
          },
          "metadata": {
            "tags": []
          },
          "execution_count": 130
        }
      ]
    },
    {
      "cell_type": "code",
      "metadata": {
        "id": "7EcDIQgKYlnP",
        "colab": {
          "base_uri": "https://localhost:8080/"
        },
        "outputId": "84cccf7c-1e8f-46d9-8077-4efdb33e5f98"
      },
      "source": [
        "accuracy(y_hat, y)"
      ],
      "execution_count": null,
      "outputs": [
        {
          "output_type": "execute_result",
          "data": {
            "text/plain": [
              "0.5086206896551724"
            ]
          },
          "metadata": {
            "tags": []
          },
          "execution_count": 131
        }
      ]
    },
    {
      "cell_type": "code",
      "metadata": {
        "id": "GbdMAjOKFewz"
      },
      "source": [
        ""
      ],
      "execution_count": null,
      "outputs": []
    },
    {
      "cell_type": "code",
      "metadata": {
        "id": "fxBt82W_DbRj"
      },
      "source": [
        "y_hat_test = abs(myann.predict(X_test))"
      ],
      "execution_count": null,
      "outputs": []
    },
    {
      "cell_type": "code",
      "metadata": {
        "id": "7IOnngtBUCvI"
      },
      "source": [
        "y_hat_test = np.around(y_hat_test)"
      ],
      "execution_count": null,
      "outputs": []
    },
    {
      "cell_type": "code",
      "metadata": {
        "id": "5iUZQHR_Uc2h",
        "colab": {
          "base_uri": "https://localhost:8080/"
        },
        "outputId": "9fa9e4ac-ee76-4548-f527-10b07120b046"
      },
      "source": [
        "accuracy(y_hat_test, y_test)"
      ],
      "execution_count": null,
      "outputs": [
        {
          "output_type": "execute_result",
          "data": {
            "text/plain": [
              "0.9765625"
            ]
          },
          "metadata": {
            "tags": []
          },
          "execution_count": 134
        }
      ]
    },
    {
      "cell_type": "code",
      "metadata": {
        "colab": {
          "base_uri": "https://localhost:8080/",
          "height": 278
        },
        "id": "bZQuaHeOuENw",
        "outputId": "59f65c90-8285-45a1-cfad-7ede3e23bbe2"
      },
      "source": [
        "dataConf = {'y': y_test, 'y_hat': y_hat_test[:,0]}\r\n",
        "dataConf\r\n",
        "\r\n",
        "df_dataConf = pd.DataFrame(dataConf, columns=['y', 'y_hat'])\r\n",
        "df_dataConf.head()\r\n",
        "\r\n",
        "confusion_matrix = pd.crosstab(df_dataConf['y_hat'], df_dataConf['y'], rownames=['Predicted'], colnames = ['Actual'] )\r\n",
        "confusion_matrix\r\n",
        "\r\n",
        "sn.heatmap(confusion_matrix, annot=True, cmap='coolwarm' ,fmt='g')\r\n",
        "plt.show()"
      ],
      "execution_count": null,
      "outputs": [
        {
          "output_type": "display_data",
          "data": {
            "image/png": "[encoded data removed]",
            "text/plain": [
              "<Figure size 432x288 with 2 Axes>"
            ]
          },
          "metadata": {
            "tags": [],
            "needs_background": "light"
          }
        }
      ]
    },
    {
      "cell_type": "code",
      "metadata": {
        "id": "tZYiMdyEI-fG"
      },
      "source": [
        "def precRecall(y_test, y_hat_test):\r\n",
        "  lt1 = []\r\n",
        "  for i in y_test:\r\n",
        "    lt1.append(i)\r\n",
        "        \r\n",
        "  lt2 = []\r\n",
        "  for i in y_hat_test:\r\n",
        "    lt2.append(i)\r\n",
        "    \r\n",
        "    \r\n",
        "  positive = 0\r\n",
        "  negative = 0\r\n",
        "  false_positive = 0\r\n",
        "  false_negative = 0\r\n",
        "  for x, y1 in zip(lt1, lt2):        \r\n",
        "        \r\n",
        "    if x == 0 and y1 == 1:\r\n",
        "        false_positive += 1\r\n",
        "\r\n",
        "    elif x == 1 and y1 == 0:\r\n",
        "        false_negative += 1\r\n",
        "            \r\n",
        "    elif x == 1 and y1 == 1:\r\n",
        "        positive += 1\r\n",
        "        \r\n",
        "    elif x == 0 and y1 == 0:\r\n",
        "        negative += 1\r\n",
        "  return np.array([positive, false_positive, negative, false_negative])"
      ],
      "execution_count": null,
      "outputs": []
    },
    {
      "cell_type": "code",
      "metadata": {
        "id": "2uzo5gZIbwnN"
      },
      "source": [
        "precRecall(y_test, y_hat_test)"
      ],
      "execution_count": null,
      "outputs": []
    },
    {
      "cell_type": "markdown",
      "metadata": {
        "id": "QqfKoLBvf6-A"
      },
      "source": [
        "#Use below code for precision/recall and calculate F1"
      ]
    },
    {
      "cell_type": "code",
      "metadata": {
        "id": "XI6BDTHtGEjR"
      },
      "source": [
        "precRecall = precRecall(y_test, y_hat_test).T"
      ],
      "execution_count": null,
      "outputs": []
    },
    {
      "cell_type": "code",
      "metadata": {
        "id": "uML5lrSUEU_y"
      },
      "source": [
        "precRecall"
      ],
      "execution_count": null,
      "outputs": []
    },
    {
      "cell_type": "code",
      "metadata": {
        "id": "mIzWwxHJLJwc"
      },
      "source": [
        "precRecall = pd.DataFrame(precRecall) #columns=[\"positive\", \"false_positive\", \"negative\", \"false_negative\"]\r\n",
        "precRecall.head()"
      ],
      "execution_count": null,
      "outputs": []
    },
    {
      "cell_type": "code",
      "metadata": {
        "id": "sRcUTPelO8jw"
      },
      "source": [
        ""
      ],
      "execution_count": null,
      "outputs": []
    },
    {
      "cell_type": "code",
      "metadata": {
        "id": "9eyegL6JYILK"
      },
      "source": [
        "\r\n"
      ],
      "execution_count": null,
      "outputs": []
    },
    {
      "cell_type": "markdown",
      "metadata": {
        "id": "Xg2xeRY4UyPM"
      },
      "source": [
        ""
      ]
    },
    {
      "cell_type": "markdown",
      "metadata": {
        "id": "K_v4n_9QUy05"
      },
      "source": [
        "#Scatter Plot Between Features With Class As Color"
      ]
    },
    {
      "cell_type": "code",
      "metadata": {
        "id": "F1fZLxmhwnvS"
      },
      "source": [
        "X1 = X[:, 0]"
      ],
      "execution_count": null,
      "outputs": []
    },
    {
      "cell_type": "code",
      "metadata": {
        "id": "RPr3dPjIrfC8"
      },
      "source": [
        "for j in range(1, X.shape[1]):\r\n",
        "  Xt = list(X[:, j])\r\n",
        "  features = [\"notIncluded\", \"HeartRate\", \"NaiveTCellCount\", \"TCellCount\", \"Hemoglobin\", \"Platelets\", \"RedBloodCellsCount\", \"ViralLoad\", \"ChangeInTCellCount\", \"ChangeInRedBloodCellCount\"]\r\n",
        "  plt.figure()\r\n",
        "  plt.scatter(X1, Xt, c = 0, alpha = 0.5, s = 2, label = 'c = y') \r\n",
        "  plt.xlabel(\"Temperature\")\r\n",
        "  plt.ylabel(str(features[j]))\r\n",
        "  plt.title('Temperature vs ' + str(features[j]))\r\n",
        "  plt.legend()\r\n",
        "  plt.show()"
      ],
      "execution_count": null,
      "outputs": []
    },
    {
      "cell_type": "code",
      "metadata": {
        "id": "XFgDq6cIlKjk"
      },
      "source": [
        "for j in range(1, X.shape[1]):\r\n",
        "  Xt = list(X[:, j])\r\n",
        "  features = [\"notIncluded\", \"HeartRate\", \"NaiveTCellCount\", \"TCellCount\", \"Hemoglobin\", \"Platelets\", \"RedBloodCellsCount\", \"ViralLoad\", \"ChangeInTCellCount\", \"ChangeInRedBloodCellCount\"]\r\n",
        "  plt.figure()\r\n",
        "  plt.scatter(X1, Xt, c = y_hat, alpha = 0.5, s = 2, label = 'c = y_hat') \r\n",
        "  plt.title('Temperature vs ' + str(features[j]))\r\n",
        "  plt.legend()\r\n",
        "  plt.show()"
      ],
      "execution_count": null,
      "outputs": []
    },
    {
      "cell_type": "code",
      "metadata": {
        "id": "UqleFvlv4pE0"
      },
      "source": [
        "for j in range(X.shape[1]):\r\n",
        "  features = [\"Temperature\", \"HeartRate\", \"NaiveTCellCount\", \"TCellCount\", \"Hemoglobin\", \"Platelets\", \"RedBloodCellsCount\", \"ViralLoad\", \"ChangeInTCellCount\", \"ChangeInRedBloodCellCount\"]\r\n",
        "  plt.figure()\r\n",
        "  plt.hist(X[:, j])\r\n",
        "  plt.xlabel(str(features[j]))\r\n",
        "  plt.title(str(features[j]))\r\n",
        "  plt.show()"
      ],
      "execution_count": null,
      "outputs": []
    },
    {
      "cell_type": "markdown",
      "metadata": {
        "id": "xlDzpN2ZPv1b"
      },
      "source": [
        "# Perform Logistics Regression"
      ]
    },
    {
      "cell_type": "code",
      "metadata": {
        "id": "pIWMtzaPPgGA"
      },
      "source": [
        "def sigmoidLR(h):\r\n",
        "    return 1/(1 + np.exp(-h))"
      ],
      "execution_count": null,
      "outputs": []
    },
    {
      "cell_type": "code",
      "metadata": {
        "id": "3XRXa5flXA8M"
      },
      "source": [
        "def cross_entropyLR(y, p_hat):\r\n",
        "    return -(1/len(y))*np.sum(y*np.log(p_hat) + (1-y)*np.log(1 - p_hat))"
      ],
      "execution_count": null,
      "outputs": []
    },
    {
      "cell_type": "code",
      "metadata": {
        "id": "SizWEXKSXHek"
      },
      "source": [
        "def accuracyLR(y, y_hat):\r\n",
        "    return np.mean(y == y_hat)"
      ],
      "execution_count": null,
      "outputs": []
    },
    {
      "cell_type": "code",
      "metadata": {
        "id": "xszrQJJtXLzk"
      },
      "source": [
        "\r\n",
        "\r\n",
        "class LogisticRegression():\r\n",
        "    def __init__(self, thresh = 0.5):\r\n",
        "        self.thresh = thresh\r\n",
        "        self.w = None\r\n",
        "        self.b = None\r\n",
        "        \r\n",
        "    def fit(self, X, y, eta = 1e-3, epochs = 1e3, show_curve = False):\r\n",
        "        epochs = int(epochs)\r\n",
        "        N, D = X.shape\r\n",
        "        \r\n",
        "        self.w = np.random.randn(D)\r\n",
        "        self.b = np.random.randn(1)\r\n",
        "        \r\n",
        "        J = np.zeros(epochs)\r\n",
        "        \r\n",
        "        for epoch in range(epochs):\r\n",
        "            p_hat = self.__forward(X)\r\n",
        "            J[epoch] = cross_entropyLR(y, p_hat)\r\n",
        "            \r\n",
        "            self.w -= eta*(1/N)*X.T@(p_hat - y)\r\n",
        "            self.b -= eta*(1/N)*np.sum(p_hat - y)\r\n",
        "        \r\n",
        "        if show_curve:\r\n",
        "            plt.figure()\r\n",
        "            plt.plot(J)\r\n",
        "            plt.xlabel(\"epochs\")\r\n",
        "            plt.ylabel(\"$\\mathcal{J}$\")\r\n",
        "            plt.title(\"TrainingCurve\")\r\n",
        "            plt.show()\r\n",
        "            \r\n",
        "    def __forward(self, X):\r\n",
        "        return sigmoidLR(X@self.w + self.b)\r\n",
        "    \r\n",
        "    def predict(self, X):\r\n",
        "        return (self.__forward(X) >= self.thresh).astype(np.int32)"
      ],
      "execution_count": null,
      "outputs": []
    },
    {
      "cell_type": "code",
      "metadata": {
        "id": "cjaF9_7xXk9K"
      },
      "source": [
        "lr = LogisticRegression()"
      ],
      "execution_count": null,
      "outputs": []
    },
    {
      "cell_type": "code",
      "metadata": {
        "id": "0tO2ow_uXvFH",
        "colab": {
          "base_uri": "https://localhost:8080/",
          "height": 294
        },
        "outputId": "5f75154c-49eb-45fa-da7a-4ecaa9ab7fc1"
      },
      "source": [
        "lr.fit(X, y, show_curve = True, epochs = 15000, eta = 0.2)"
      ],
      "execution_count": null,
      "outputs": [
        {
          "output_type": "display_data",
          "data": {
            "image/png": "[encoded data removed]",
            "text/plain": [
              "<Figure size 432x288 with 1 Axes>"
            ]
          },
          "metadata": {
            "tags": [],
            "needs_background": "light"
          }
        }
      ]
    },
    {
      "cell_type": "code",
      "metadata": {
        "id": "metwMYWUX9E5"
      },
      "source": [
        "y_hatLR = lr.predict(X)"
      ],
      "execution_count": null,
      "outputs": []
    },
    {
      "cell_type": "code",
      "metadata": {
        "id": "_lqB4AysdnE_"
      },
      "source": [
        ""
      ],
      "execution_count": null,
      "outputs": []
    },
    {
      "cell_type": "code",
      "metadata": {
        "id": "3CLTmSsDaAMc",
        "colab": {
          "base_uri": "https://localhost:8080/"
        },
        "outputId": "966ce890-6eff-4481-9bd3-63cfc848b6fc"
      },
      "source": [
        "accuracyLR(y_hatLR, y)"
      ],
      "execution_count": null,
      "outputs": [
        {
          "output_type": "execute_result",
          "data": {
            "text/plain": [
              "0.8959913793103448"
            ]
          },
          "metadata": {
            "tags": []
          },
          "execution_count": 38
        }
      ]
    },
    {
      "cell_type": "markdown",
      "metadata": {
        "id": "gVWn0vnNwWNg"
      },
      "source": [
        "#Test outside observation"
      ]
    },
    {
      "cell_type": "code",
      "metadata": {
        "colab": {
          "base_uri": "https://localhost:8080/"
        },
        "id": "GM_0YcAwvXFV",
        "outputId": "6d5b0b86-be21-49dc-9a8e-941b65ef85f0"
      },
      "source": [
        "B = np.array([0.00002, 0.03655, 1, .04, 0.5, .6, 0.000008, 0.1, 0.9, .0000022])\r\n",
        "B.shape"
      ],
      "execution_count": null,
      "outputs": [
        {
          "output_type": "execute_result",
          "data": {
            "text/plain": [
              "(10,)"
            ]
          },
          "metadata": {
            "tags": []
          },
          "execution_count": 62
        }
      ]
    },
    {
      "cell_type": "code",
      "metadata": {
        "colab": {
          "base_uri": "https://localhost:8080/"
        },
        "id": "3x2pxpYCycqz",
        "outputId": "3f1ce36d-60b8-4b30-a24e-68401e35a5cc"
      },
      "source": [
        "\r\n",
        "B_predict = np.around(abs(lr.predict(B)))\r\n",
        "B_predict"
      ],
      "execution_count": null,
      "outputs": [
        {
          "output_type": "execute_result",
          "data": {
            "text/plain": [
              "array([1], dtype=int32)"
            ]
          },
          "metadata": {
            "tags": []
          },
          "execution_count": 63
        }
      ]
    },
    {
      "cell_type": "code",
      "metadata": {
        "id": "ark_rjEWYQ7h",
        "colab": {
          "base_uri": "https://localhost:8080/"
        },
        "outputId": "99b644ad-2d9b-4e38-d49e-66a6ccbaec7f"
      },
      "source": [
        "\r\n",
        "y_hatLR_test = abs(lr.predict(X_test))\r\n",
        "y_hatLR_test"
      ],
      "execution_count": null,
      "outputs": [
        {
          "output_type": "execute_result",
          "data": {
            "text/plain": [
              "array([0, 0, 0, ..., 0, 0, 0], dtype=int32)"
            ]
          },
          "metadata": {
            "tags": []
          },
          "execution_count": 57
        }
      ]
    },
    {
      "cell_type": "code",
      "metadata": {
        "id": "GzgBKrcSZtzA"
      },
      "source": [
        "y_hatLR_test = np.around(y_hatLR_test)"
      ],
      "execution_count": null,
      "outputs": []
    },
    {
      "cell_type": "code",
      "metadata": {
        "id": "4UoLtvM-Z6vK",
        "colab": {
          "base_uri": "https://localhost:8080/"
        },
        "outputId": "461f3f7c-d276-4e94-c66c-5958377ac740"
      },
      "source": [
        "accuracyLR(y_hatLR_test, y_test)"
      ],
      "execution_count": null,
      "outputs": [
        {
          "output_type": "execute_result",
          "data": {
            "text/plain": [
              "0.942"
            ]
          },
          "metadata": {
            "tags": []
          },
          "execution_count": 59
        }
      ]
    },
    {
      "cell_type": "code",
      "metadata": {
        "id": "u4JL1GUZNMmT"
      },
      "source": [
        "precRecall(y_test, y_hatLR_test)"
      ],
      "execution_count": null,
      "outputs": []
    },
    {
      "cell_type": "code",
      "metadata": {
        "id": "Wo1sfSR1BFox"
      },
      "source": [
        "results = [91.4, 94.3]\r\n"
      ],
      "execution_count": null,
      "outputs": []
    },
    {
      "cell_type": "code",
      "metadata": {
        "id": "JAFxJTMAnsIO"
      },
      "source": [
        ""
      ],
      "execution_count": null,
      "outputs": []
    },
    {
      "cell_type": "code",
      "metadata": {
        "id": "4ALXeldrtTSP",
        "colab": {
          "base_uri": "https://localhost:8080/"
        },
        "outputId": "de1d8dd1-5855-4e98-a1b5-c143e657c6d8"
      },
      "source": [
        "\r\n",
        "results"
      ],
      "execution_count": null,
      "outputs": [
        {
          "output_type": "execute_result",
          "data": {
            "text/plain": [
              "[91.4, 94.3]"
            ]
          },
          "metadata": {
            "tags": []
          },
          "execution_count": 48
        }
      ]
    },
    {
      "cell_type": "code",
      "metadata": {
        "id": "n4kWVdskntQY"
      },
      "source": [
        ""
      ],
      "execution_count": null,
      "outputs": []
    },
    {
      "cell_type": "code",
      "metadata": {
        "id": "_O3BFg8bshHs"
      },
      "source": [
        "col = [\"ANN\", \"Logistic Regression\"]"
      ],
      "execution_count": null,
      "outputs": []
    },
    {
      "cell_type": "code",
      "metadata": {
        "id": "ImMlsLzPnvse"
      },
      "source": [
        "\r\n"
      ],
      "execution_count": null,
      "outputs": []
    },
    {
      "cell_type": "code",
      "metadata": {
        "id": "IIJoGLyjszFe",
        "colab": {
          "base_uri": "https://localhost:8080/",
          "height": 298
        },
        "outputId": "42e3f0d0-0b13-4b69-a233-130f9270360e"
      },
      "source": [
        "plt.figure()\r\n",
        "plt.bar(col, results, color = ['r', 'b'])\r\n",
        "plt.ylim(0, 100)\r\n",
        "plt.ylabel(\"Percentage\")\r\n",
        "plt.title(\"Accuracy of each model\")"
      ],
      "execution_count": null,
      "outputs": [
        {
          "output_type": "execute_result",
          "data": {
            "text/plain": [
              "Text(0.5, 1.0, 'Accuracy of each model')"
            ]
          },
          "metadata": {
            "tags": []
          },
          "execution_count": 51
        },
        {
          "output_type": "display_data",
          "data": {
            "image/png": "[encoded data removed]",
            "text/plain": [
              "<Figure size 432x288 with 1 Axes>"
            ]
          },
          "metadata": {
            "tags": [],
            "needs_background": "light"
          }
        }
      ]
    },
    {
      "cell_type": "code",
      "metadata": {
        "colab": {
          "base_uri": "https://localhost:8080/"
        },
        "id": "TyS-IWGozAx4",
        "outputId": "bd878d0d-1faf-4e6a-de40-6aefa5159063"
      },
      "source": [
        "y_hatLR_test.shape"
      ],
      "execution_count": null,
      "outputs": [
        {
          "output_type": "execute_result",
          "data": {
            "text/plain": [
              "(16000,)"
            ]
          },
          "metadata": {
            "tags": []
          },
          "execution_count": 58
        }
      ]
    },
    {
      "cell_type": "code",
      "metadata": {
        "id": "d5HNOOL2uKqM",
        "colab": {
          "base_uri": "https://localhost:8080/",
          "height": 278
        },
        "outputId": "d0bf79a4-e000-4e25-d8a2-9d02a4060130"
      },
      "source": [
        "dataConf = {'y': y_test, 'y_hat': y_hatLR_test}\r\n",
        "dataConf\r\n",
        "\r\n",
        "df_dataConf = pd.DataFrame(dataConf, columns=['y', 'y_hat'])\r\n",
        "df_dataConf.head()\r\n",
        "\r\n",
        "confusion_matrix = pd.crosstab(df_dataConf['y_hat'], df_dataConf['y'], rownames=['Predicted'], colnames = ['Actual'] )\r\n",
        "confusion_matrix\r\n",
        "\r\n",
        "sn.heatmap(confusion_matrix, annot=True, cmap='coolwarm' ,fmt='g')\r\n",
        "plt.show()"
      ],
      "execution_count": null,
      "outputs": [
        {
          "output_type": "display_data",
          "data": {
            "image/png": "[encoded data removed]",
            "text/plain": [
              "<Figure size 432x288 with 2 Axes>"
            ]
          },
          "metadata": {
            "tags": [],
            "needs_background": "light"
          }
        }
      ]
    },
    {
      "cell_type": "code",
      "metadata": {
        "colab": {
          "base_uri": "https://localhost:8080/",
          "height": 281
        },
        "id": "TalGTq7A8XXM",
        "outputId": "c8efe8b7-8a36-4a6e-ed41-c1ebe8c53b12"
      },
      "source": [
        "\r\n",
        "\r\n",
        "# importing package \r\n",
        "import matplotlib.pyplot as plt \r\n",
        "\r\n",
        "x = ['Before', 'After',]\r\n",
        "\r\n",
        "y1 = [1000, 57000 ] \r\n",
        "y2 = [59000, 57000 ] \r\n",
        "\r\n",
        "p1 = plt.bar(x, y1, color='r') \r\n",
        "p2 = plt.bar(x, y2, bottom=y1, color='b') \r\n",
        "plt.legend((p1, p2), ('Minority', 'Majority'))\r\n",
        "\r\n",
        "plt.ylabel(\"Counts\")\r\n",
        "plt.title(\"Before and After\")\r\n",
        "\r\n",
        "plt.show() "
      ],
      "execution_count": null,
      "outputs": [
        {
          "output_type": "display_data",
          "data": {
            "image/png": "[encoded data removed]",
            "text/plain": [
              "<Figure size 432x288 with 1 Axes>"
            ]
          },
          "metadata": {
            "tags": [],
            "needs_background": "light"
          }
        }
      ]
    }
  ]
}