{
 "cells": [
  {
   "cell_type": "code",
   "execution_count": 1,
   "metadata": {},
   "outputs": [],
   "source": [
    "import numpy as np\n",
    "import pandas as pd\n",
    "import matplotlib \n",
    "import matplotlib.pyplot as plt\n",
    "%matplotlib inline\n",
    "import seaborn as sns"
   ]
  },
  {
   "cell_type": "code",
   "execution_count": 2,
   "metadata": {
    "scrolled": true
   },
   "outputs": [],
   "source": [
    "data = pd.read_csv(\"raw_house_data.csv\")\n",
    "df=data"
   ]
  },
  {
   "cell_type": "code",
   "execution_count": 3,
   "metadata": {},
   "outputs": [
    {
     "data": {
      "text/html": [
       "<div>\n",
       "<style scoped>\n",
       "    .dataframe tbody tr th:only-of-type {\n",
       "        vertical-align: middle;\n",
       "    }\n",
       "\n",
       "    .dataframe tbody tr th {\n",
       "        vertical-align: top;\n",
       "    }\n",
       "\n",
       "    .dataframe thead th {\n",
       "        text-align: right;\n",
       "    }\n",
       "</style>\n",
       "<table border=\"1\" class=\"dataframe\">\n",
       "  <thead>\n",
       "    <tr style=\"text-align: right;\">\n",
       "      <th></th>\n",
       "      <th>MLS</th>\n",
       "      <th>sold_price</th>\n",
       "      <th>zipcode</th>\n",
       "      <th>longitude</th>\n",
       "      <th>latitude</th>\n",
       "      <th>lot_acres</th>\n",
       "      <th>taxes</th>\n",
       "      <th>year_built</th>\n",
       "      <th>bedrooms</th>\n",
       "      <th>bathrooms</th>\n",
       "      <th>sqrt_ft</th>\n",
       "      <th>garage</th>\n",
       "      <th>kitchen_features</th>\n",
       "      <th>fireplaces</th>\n",
       "      <th>floor_covering</th>\n",
       "      <th>HOA</th>\n",
       "    </tr>\n",
       "  </thead>\n",
       "  <tbody>\n",
       "    <tr>\n",
       "      <th>0</th>\n",
       "      <td>21530491</td>\n",
       "      <td>5300000.0</td>\n",
       "      <td>85637</td>\n",
       "      <td>-110.378200</td>\n",
       "      <td>31.356362</td>\n",
       "      <td>2154.00</td>\n",
       "      <td>5272.00</td>\n",
       "      <td>1941</td>\n",
       "      <td>13</td>\n",
       "      <td>10</td>\n",
       "      <td>10500</td>\n",
       "      <td>0</td>\n",
       "      <td>Dishwasher, Freezer, Refrigerator, Oven</td>\n",
       "      <td>6</td>\n",
       "      <td>Mexican Tile, Wood</td>\n",
       "      <td>0</td>\n",
       "    </tr>\n",
       "    <tr>\n",
       "      <th>1</th>\n",
       "      <td>21529082</td>\n",
       "      <td>4200000.0</td>\n",
       "      <td>85646</td>\n",
       "      <td>-111.045371</td>\n",
       "      <td>31.594213</td>\n",
       "      <td>1707.00</td>\n",
       "      <td>10422.36</td>\n",
       "      <td>1997</td>\n",
       "      <td>2</td>\n",
       "      <td>2</td>\n",
       "      <td>7300</td>\n",
       "      <td>0</td>\n",
       "      <td>Dishwasher, Garbage Disposal</td>\n",
       "      <td>5</td>\n",
       "      <td>Natural Stone, Other</td>\n",
       "      <td>0</td>\n",
       "    </tr>\n",
       "    <tr>\n",
       "      <th>2</th>\n",
       "      <td>3054672</td>\n",
       "      <td>4200000.0</td>\n",
       "      <td>85646</td>\n",
       "      <td>-111.040707</td>\n",
       "      <td>31.594844</td>\n",
       "      <td>1707.00</td>\n",
       "      <td>10482.00</td>\n",
       "      <td>1997</td>\n",
       "      <td>2</td>\n",
       "      <td>3</td>\n",
       "      <td>None</td>\n",
       "      <td>None</td>\n",
       "      <td>Dishwasher, Garbage Disposal, Refrigerator</td>\n",
       "      <td>5</td>\n",
       "      <td>Natural Stone, Other: Rock</td>\n",
       "      <td>None</td>\n",
       "    </tr>\n",
       "    <tr>\n",
       "      <th>3</th>\n",
       "      <td>21919321</td>\n",
       "      <td>4500000.0</td>\n",
       "      <td>85646</td>\n",
       "      <td>-111.035925</td>\n",
       "      <td>31.645878</td>\n",
       "      <td>636.67</td>\n",
       "      <td>8418.58</td>\n",
       "      <td>1930</td>\n",
       "      <td>7</td>\n",
       "      <td>5</td>\n",
       "      <td>9019</td>\n",
       "      <td>4</td>\n",
       "      <td>Dishwasher, Double Sink, Pantry: Butler, Refri...</td>\n",
       "      <td>4</td>\n",
       "      <td>Ceramic Tile, Laminate, Wood</td>\n",
       "      <td>None</td>\n",
       "    </tr>\n",
       "    <tr>\n",
       "      <th>4</th>\n",
       "      <td>21306357</td>\n",
       "      <td>3411450.0</td>\n",
       "      <td>85750</td>\n",
       "      <td>-110.813768</td>\n",
       "      <td>32.285162</td>\n",
       "      <td>3.21</td>\n",
       "      <td>15393.00</td>\n",
       "      <td>1995</td>\n",
       "      <td>4</td>\n",
       "      <td>6</td>\n",
       "      <td>6396</td>\n",
       "      <td>3</td>\n",
       "      <td>Dishwasher, Garbage Disposal, Refrigerator, Mi...</td>\n",
       "      <td>5</td>\n",
       "      <td>Carpet, Concrete</td>\n",
       "      <td>55</td>\n",
       "    </tr>\n",
       "  </tbody>\n",
       "</table>\n",
       "</div>"
      ],
      "text/plain": [
       "        MLS  sold_price  zipcode   longitude   latitude  lot_acres     taxes  \\\n",
       "0  21530491   5300000.0    85637 -110.378200  31.356362    2154.00   5272.00   \n",
       "1  21529082   4200000.0    85646 -111.045371  31.594213    1707.00  10422.36   \n",
       "2   3054672   4200000.0    85646 -111.040707  31.594844    1707.00  10482.00   \n",
       "3  21919321   4500000.0    85646 -111.035925  31.645878     636.67   8418.58   \n",
       "4  21306357   3411450.0    85750 -110.813768  32.285162       3.21  15393.00   \n",
       "\n",
       "   year_built  bedrooms bathrooms sqrt_ft garage  \\\n",
       "0        1941        13        10   10500      0   \n",
       "1        1997         2         2    7300      0   \n",
       "2        1997         2         3    None   None   \n",
       "3        1930         7         5    9019      4   \n",
       "4        1995         4         6    6396      3   \n",
       "\n",
       "                                    kitchen_features fireplaces  \\\n",
       "0            Dishwasher, Freezer, Refrigerator, Oven          6   \n",
       "1                       Dishwasher, Garbage Disposal          5   \n",
       "2         Dishwasher, Garbage Disposal, Refrigerator          5   \n",
       "3  Dishwasher, Double Sink, Pantry: Butler, Refri...          4   \n",
       "4  Dishwasher, Garbage Disposal, Refrigerator, Mi...          5   \n",
       "\n",
       "                 floor_covering   HOA  \n",
       "0            Mexican Tile, Wood     0  \n",
       "1          Natural Stone, Other     0  \n",
       "2    Natural Stone, Other: Rock  None  \n",
       "3  Ceramic Tile, Laminate, Wood  None  \n",
       "4              Carpet, Concrete    55  "
      ]
     },
     "execution_count": 3,
     "metadata": {},
     "output_type": "execute_result"
    }
   ],
   "source": [
    "data.head()"
   ]
  },
  {
   "cell_type": "code",
   "execution_count": 4,
   "metadata": {},
   "outputs": [
    {
     "name": "stdout",
     "output_type": "stream",
     "text": [
      "<class 'pandas.core.frame.DataFrame'>\n",
      "RangeIndex: 5000 entries, 0 to 4999\n",
      "Data columns (total 16 columns):\n",
      " #   Column            Non-Null Count  Dtype  \n",
      "---  ------            --------------  -----  \n",
      " 0   MLS               5000 non-null   int64  \n",
      " 1   sold_price        5000 non-null   float64\n",
      " 2   zipcode           5000 non-null   int64  \n",
      " 3   longitude         5000 non-null   float64\n",
      " 4   latitude          5000 non-null   float64\n",
      " 5   lot_acres         4990 non-null   float64\n",
      " 6   taxes             5000 non-null   float64\n",
      " 7   year_built        5000 non-null   int64  \n",
      " 8   bedrooms          5000 non-null   int64  \n",
      " 9   bathrooms         5000 non-null   object \n",
      " 10  sqrt_ft           5000 non-null   object \n",
      " 11  garage            5000 non-null   object \n",
      " 12  kitchen_features  5000 non-null   object \n",
      " 13  fireplaces        5000 non-null   object \n",
      " 14  floor_covering    5000 non-null   object \n",
      " 15  HOA               5000 non-null   object \n",
      "dtypes: float64(5), int64(4), object(7)\n",
      "memory usage: 625.1+ KB\n"
     ]
    }
   ],
   "source": [
    "data.info()"
   ]
  },
  {
   "cell_type": "code",
   "execution_count": 5,
   "metadata": {},
   "outputs": [
    {
     "data": {
      "text/html": [
       "<div>\n",
       "<style scoped>\n",
       "    .dataframe tbody tr th:only-of-type {\n",
       "        vertical-align: middle;\n",
       "    }\n",
       "\n",
       "    .dataframe tbody tr th {\n",
       "        vertical-align: top;\n",
       "    }\n",
       "\n",
       "    .dataframe thead th {\n",
       "        text-align: right;\n",
       "    }\n",
       "</style>\n",
       "<table border=\"1\" class=\"dataframe\">\n",
       "  <thead>\n",
       "    <tr style=\"text-align: right;\">\n",
       "      <th></th>\n",
       "      <th>MLS</th>\n",
       "      <th>sold_price</th>\n",
       "      <th>zipcode</th>\n",
       "      <th>longitude</th>\n",
       "      <th>latitude</th>\n",
       "      <th>lot_acres</th>\n",
       "      <th>taxes</th>\n",
       "      <th>year_built</th>\n",
       "      <th>bedrooms</th>\n",
       "    </tr>\n",
       "  </thead>\n",
       "  <tbody>\n",
       "    <tr>\n",
       "      <th>count</th>\n",
       "      <td>5.000000e+03</td>\n",
       "      <td>5.000000e+03</td>\n",
       "      <td>5000.000000</td>\n",
       "      <td>5000.000000</td>\n",
       "      <td>5000.000000</td>\n",
       "      <td>4990.000000</td>\n",
       "      <td>5.000000e+03</td>\n",
       "      <td>5000.00000</td>\n",
       "      <td>5000.000000</td>\n",
       "    </tr>\n",
       "    <tr>\n",
       "      <th>mean</th>\n",
       "      <td>2.127070e+07</td>\n",
       "      <td>7.746262e+05</td>\n",
       "      <td>85723.025600</td>\n",
       "      <td>-110.912107</td>\n",
       "      <td>32.308512</td>\n",
       "      <td>4.661317</td>\n",
       "      <td>9.402828e+03</td>\n",
       "      <td>1992.32800</td>\n",
       "      <td>3.933800</td>\n",
       "    </tr>\n",
       "    <tr>\n",
       "      <th>std</th>\n",
       "      <td>2.398508e+06</td>\n",
       "      <td>3.185556e+05</td>\n",
       "      <td>38.061712</td>\n",
       "      <td>0.120629</td>\n",
       "      <td>0.178028</td>\n",
       "      <td>51.685230</td>\n",
       "      <td>1.729385e+05</td>\n",
       "      <td>65.48614</td>\n",
       "      <td>1.245362</td>\n",
       "    </tr>\n",
       "    <tr>\n",
       "      <th>min</th>\n",
       "      <td>3.042851e+06</td>\n",
       "      <td>1.690000e+05</td>\n",
       "      <td>85118.000000</td>\n",
       "      <td>-112.520168</td>\n",
       "      <td>31.356362</td>\n",
       "      <td>0.000000</td>\n",
       "      <td>0.000000e+00</td>\n",
       "      <td>0.00000</td>\n",
       "      <td>1.000000</td>\n",
       "    </tr>\n",
       "    <tr>\n",
       "      <th>25%</th>\n",
       "      <td>2.140718e+07</td>\n",
       "      <td>5.850000e+05</td>\n",
       "      <td>85718.000000</td>\n",
       "      <td>-110.979260</td>\n",
       "      <td>32.277484</td>\n",
       "      <td>0.580000</td>\n",
       "      <td>4.803605e+03</td>\n",
       "      <td>1987.00000</td>\n",
       "      <td>3.000000</td>\n",
       "    </tr>\n",
       "    <tr>\n",
       "      <th>50%</th>\n",
       "      <td>2.161469e+07</td>\n",
       "      <td>6.750000e+05</td>\n",
       "      <td>85737.000000</td>\n",
       "      <td>-110.923420</td>\n",
       "      <td>32.318517</td>\n",
       "      <td>0.990000</td>\n",
       "      <td>6.223760e+03</td>\n",
       "      <td>1999.00000</td>\n",
       "      <td>4.000000</td>\n",
       "    </tr>\n",
       "    <tr>\n",
       "      <th>75%</th>\n",
       "      <td>2.180480e+07</td>\n",
       "      <td>8.350000e+05</td>\n",
       "      <td>85749.000000</td>\n",
       "      <td>-110.859078</td>\n",
       "      <td>32.394334</td>\n",
       "      <td>1.757500</td>\n",
       "      <td>8.082830e+03</td>\n",
       "      <td>2006.00000</td>\n",
       "      <td>4.000000</td>\n",
       "    </tr>\n",
       "    <tr>\n",
       "      <th>max</th>\n",
       "      <td>2.192856e+07</td>\n",
       "      <td>5.300000e+06</td>\n",
       "      <td>86323.000000</td>\n",
       "      <td>-109.454637</td>\n",
       "      <td>34.927884</td>\n",
       "      <td>2154.000000</td>\n",
       "      <td>1.221508e+07</td>\n",
       "      <td>2019.00000</td>\n",
       "      <td>36.000000</td>\n",
       "    </tr>\n",
       "  </tbody>\n",
       "</table>\n",
       "</div>"
      ],
      "text/plain": [
       "                MLS    sold_price       zipcode    longitude     latitude  \\\n",
       "count  5.000000e+03  5.000000e+03   5000.000000  5000.000000  5000.000000   \n",
       "mean   2.127070e+07  7.746262e+05  85723.025600  -110.912107    32.308512   \n",
       "std    2.398508e+06  3.185556e+05     38.061712     0.120629     0.178028   \n",
       "min    3.042851e+06  1.690000e+05  85118.000000  -112.520168    31.356362   \n",
       "25%    2.140718e+07  5.850000e+05  85718.000000  -110.979260    32.277484   \n",
       "50%    2.161469e+07  6.750000e+05  85737.000000  -110.923420    32.318517   \n",
       "75%    2.180480e+07  8.350000e+05  85749.000000  -110.859078    32.394334   \n",
       "max    2.192856e+07  5.300000e+06  86323.000000  -109.454637    34.927884   \n",
       "\n",
       "         lot_acres         taxes  year_built     bedrooms  \n",
       "count  4990.000000  5.000000e+03  5000.00000  5000.000000  \n",
       "mean      4.661317  9.402828e+03  1992.32800     3.933800  \n",
       "std      51.685230  1.729385e+05    65.48614     1.245362  \n",
       "min       0.000000  0.000000e+00     0.00000     1.000000  \n",
       "25%       0.580000  4.803605e+03  1987.00000     3.000000  \n",
       "50%       0.990000  6.223760e+03  1999.00000     4.000000  \n",
       "75%       1.757500  8.082830e+03  2006.00000     4.000000  \n",
       "max    2154.000000  1.221508e+07  2019.00000    36.000000  "
      ]
     },
     "execution_count": 5,
     "metadata": {},
     "output_type": "execute_result"
    }
   ],
   "source": [
    "df.describe()"
   ]
  },
  {
   "cell_type": "code",
   "execution_count": 6,
   "metadata": {},
   "outputs": [
    {
     "data": {
      "text/plain": [
       "0       13\n",
       "1        2\n",
       "2        2\n",
       "3        7\n",
       "4        4\n",
       "        ..\n",
       "4995     5\n",
       "4996     4\n",
       "4997     3\n",
       "4998     4\n",
       "4999     4\n",
       "Name: bedrooms, Length: 5000, dtype: int64"
      ]
     },
     "execution_count": 6,
     "metadata": {},
     "output_type": "execute_result"
    }
   ],
   "source": [
    "df.lot_acres.fillna(df.lot_acres.median())\n",
    "df.MLS.fillna(df.MLS.median())\n",
    "df.sold_price.fillna(df.sold_price.median())\n",
    "df.sold_price.fillna(df.sold_price.median())\n",
    "df.taxes.fillna(df.taxes.median())\n",
    "df.year_built.fillna(df.year_built.median())\n",
    "df.bedrooms.fillna(df.bedrooms.median())"
   ]
  },
  {
   "cell_type": "code",
   "execution_count": 7,
   "metadata": {},
   "outputs": [
    {
     "data": {
      "text/html": [
       "<div>\n",
       "<style scoped>\n",
       "    .dataframe tbody tr th:only-of-type {\n",
       "        vertical-align: middle;\n",
       "    }\n",
       "\n",
       "    .dataframe tbody tr th {\n",
       "        vertical-align: top;\n",
       "    }\n",
       "\n",
       "    .dataframe thead th {\n",
       "        text-align: right;\n",
       "    }\n",
       "</style>\n",
       "<table border=\"1\" class=\"dataframe\">\n",
       "  <thead>\n",
       "    <tr style=\"text-align: right;\">\n",
       "      <th></th>\n",
       "      <th>MLS</th>\n",
       "      <th>sold_price</th>\n",
       "      <th>zipcode</th>\n",
       "      <th>longitude</th>\n",
       "      <th>latitude</th>\n",
       "      <th>lot_acres</th>\n",
       "      <th>taxes</th>\n",
       "      <th>year_built</th>\n",
       "      <th>bedrooms</th>\n",
       "      <th>bathrooms</th>\n",
       "      <th>sqrt_ft</th>\n",
       "      <th>garage</th>\n",
       "      <th>kitchen_features</th>\n",
       "      <th>fireplaces</th>\n",
       "      <th>floor_covering</th>\n",
       "      <th>HOA</th>\n",
       "    </tr>\n",
       "  </thead>\n",
       "  <tbody>\n",
       "    <tr>\n",
       "      <th>0</th>\n",
       "      <td>21530491</td>\n",
       "      <td>5300000.0</td>\n",
       "      <td>85637</td>\n",
       "      <td>-110.378200</td>\n",
       "      <td>31.356362</td>\n",
       "      <td>2154.00</td>\n",
       "      <td>5272.00</td>\n",
       "      <td>1941</td>\n",
       "      <td>13</td>\n",
       "      <td>10</td>\n",
       "      <td>10500</td>\n",
       "      <td>0</td>\n",
       "      <td>Dishwasher, Freezer, Refrigerator, Oven</td>\n",
       "      <td>6</td>\n",
       "      <td>Mexican Tile, Wood</td>\n",
       "      <td>0</td>\n",
       "    </tr>\n",
       "    <tr>\n",
       "      <th>1</th>\n",
       "      <td>21529082</td>\n",
       "      <td>4200000.0</td>\n",
       "      <td>85646</td>\n",
       "      <td>-111.045371</td>\n",
       "      <td>31.594213</td>\n",
       "      <td>1707.00</td>\n",
       "      <td>10422.36</td>\n",
       "      <td>1997</td>\n",
       "      <td>2</td>\n",
       "      <td>2</td>\n",
       "      <td>7300</td>\n",
       "      <td>0</td>\n",
       "      <td>Dishwasher, Garbage Disposal</td>\n",
       "      <td>5</td>\n",
       "      <td>Natural Stone, Other</td>\n",
       "      <td>0</td>\n",
       "    </tr>\n",
       "    <tr>\n",
       "      <th>2</th>\n",
       "      <td>3054672</td>\n",
       "      <td>4200000.0</td>\n",
       "      <td>85646</td>\n",
       "      <td>-111.040707</td>\n",
       "      <td>31.594844</td>\n",
       "      <td>1707.00</td>\n",
       "      <td>10482.00</td>\n",
       "      <td>1997</td>\n",
       "      <td>2</td>\n",
       "      <td>3</td>\n",
       "      <td>None</td>\n",
       "      <td>None</td>\n",
       "      <td>Dishwasher, Garbage Disposal, Refrigerator</td>\n",
       "      <td>5</td>\n",
       "      <td>Natural Stone, Other: Rock</td>\n",
       "      <td>None</td>\n",
       "    </tr>\n",
       "    <tr>\n",
       "      <th>3</th>\n",
       "      <td>21919321</td>\n",
       "      <td>4500000.0</td>\n",
       "      <td>85646</td>\n",
       "      <td>-111.035925</td>\n",
       "      <td>31.645878</td>\n",
       "      <td>636.67</td>\n",
       "      <td>8418.58</td>\n",
       "      <td>1930</td>\n",
       "      <td>7</td>\n",
       "      <td>5</td>\n",
       "      <td>9019</td>\n",
       "      <td>4</td>\n",
       "      <td>Dishwasher, Double Sink, Pantry: Butler, Refri...</td>\n",
       "      <td>4</td>\n",
       "      <td>Ceramic Tile, Laminate, Wood</td>\n",
       "      <td>None</td>\n",
       "    </tr>\n",
       "    <tr>\n",
       "      <th>4</th>\n",
       "      <td>21306357</td>\n",
       "      <td>3411450.0</td>\n",
       "      <td>85750</td>\n",
       "      <td>-110.813768</td>\n",
       "      <td>32.285162</td>\n",
       "      <td>3.21</td>\n",
       "      <td>15393.00</td>\n",
       "      <td>1995</td>\n",
       "      <td>4</td>\n",
       "      <td>6</td>\n",
       "      <td>6396</td>\n",
       "      <td>3</td>\n",
       "      <td>Dishwasher, Garbage Disposal, Refrigerator, Mi...</td>\n",
       "      <td>5</td>\n",
       "      <td>Carpet, Concrete</td>\n",
       "      <td>55</td>\n",
       "    </tr>\n",
       "    <tr>\n",
       "      <th>...</th>\n",
       "      <td>...</td>\n",
       "      <td>...</td>\n",
       "      <td>...</td>\n",
       "      <td>...</td>\n",
       "      <td>...</td>\n",
       "      <td>...</td>\n",
       "      <td>...</td>\n",
       "      <td>...</td>\n",
       "      <td>...</td>\n",
       "      <td>...</td>\n",
       "      <td>...</td>\n",
       "      <td>...</td>\n",
       "      <td>...</td>\n",
       "      <td>...</td>\n",
       "      <td>...</td>\n",
       "      <td>...</td>\n",
       "    </tr>\n",
       "    <tr>\n",
       "      <th>4995</th>\n",
       "      <td>21810382</td>\n",
       "      <td>495000.0</td>\n",
       "      <td>85641</td>\n",
       "      <td>-110.661829</td>\n",
       "      <td>31.907917</td>\n",
       "      <td>4.98</td>\n",
       "      <td>2017.00</td>\n",
       "      <td>2005</td>\n",
       "      <td>5</td>\n",
       "      <td>3</td>\n",
       "      <td>3601</td>\n",
       "      <td>3</td>\n",
       "      <td>Dishwasher, Double Sink, Garbage Disposal, Gas...</td>\n",
       "      <td>1</td>\n",
       "      <td>Carpet, Ceramic Tile</td>\n",
       "      <td>None</td>\n",
       "    </tr>\n",
       "    <tr>\n",
       "      <th>4996</th>\n",
       "      <td>21908591</td>\n",
       "      <td>550000.0</td>\n",
       "      <td>85750</td>\n",
       "      <td>-110.858556</td>\n",
       "      <td>32.316373</td>\n",
       "      <td>1.42</td>\n",
       "      <td>4822.01</td>\n",
       "      <td>1990</td>\n",
       "      <td>4</td>\n",
       "      <td>3</td>\n",
       "      <td>2318</td>\n",
       "      <td>3</td>\n",
       "      <td>Dishwasher, Double Sink, Electric Range, Garba...</td>\n",
       "      <td>1</td>\n",
       "      <td>Carpet, Ceramic Tile</td>\n",
       "      <td>43</td>\n",
       "    </tr>\n",
       "    <tr>\n",
       "      <th>4997</th>\n",
       "      <td>21832452</td>\n",
       "      <td>475000.0</td>\n",
       "      <td>85192</td>\n",
       "      <td>-110.755428</td>\n",
       "      <td>32.964708</td>\n",
       "      <td>12.06</td>\n",
       "      <td>1000.00</td>\n",
       "      <td>1969</td>\n",
       "      <td>3</td>\n",
       "      <td>2</td>\n",
       "      <td>1772</td>\n",
       "      <td>0</td>\n",
       "      <td>Dishwasher, Electric Range, Island, Refrigerat...</td>\n",
       "      <td>0</td>\n",
       "      <td>Ceramic Tile</td>\n",
       "      <td>None</td>\n",
       "    </tr>\n",
       "    <tr>\n",
       "      <th>4998</th>\n",
       "      <td>21900515</td>\n",
       "      <td>550000.0</td>\n",
       "      <td>85745</td>\n",
       "      <td>-111.055528</td>\n",
       "      <td>32.296871</td>\n",
       "      <td>1.01</td>\n",
       "      <td>5822.93</td>\n",
       "      <td>2009</td>\n",
       "      <td>4</td>\n",
       "      <td>4</td>\n",
       "      <td>3724</td>\n",
       "      <td>3</td>\n",
       "      <td>Dishwasher, Double Sink, Garbage Disposal, Gas...</td>\n",
       "      <td>1</td>\n",
       "      <td>Carpet, Ceramic Tile</td>\n",
       "      <td>None</td>\n",
       "    </tr>\n",
       "    <tr>\n",
       "      <th>4999</th>\n",
       "      <td>4111490</td>\n",
       "      <td>450000.0</td>\n",
       "      <td>85621</td>\n",
       "      <td>-110.913054</td>\n",
       "      <td>31.385259</td>\n",
       "      <td>4.16</td>\n",
       "      <td>2814.48</td>\n",
       "      <td>1988</td>\n",
       "      <td>4</td>\n",
       "      <td>4</td>\n",
       "      <td>4317</td>\n",
       "      <td>None</td>\n",
       "      <td>Compactor, Dishwasher, Double Sink, Island, Ap...</td>\n",
       "      <td>3</td>\n",
       "      <td>Carpet, Mexican Tile</td>\n",
       "      <td>None</td>\n",
       "    </tr>\n",
       "  </tbody>\n",
       "</table>\n",
       "<p>5000 rows × 16 columns</p>\n",
       "</div>"
      ],
      "text/plain": [
       "           MLS  sold_price  zipcode   longitude   latitude  lot_acres  \\\n",
       "0     21530491   5300000.0    85637 -110.378200  31.356362    2154.00   \n",
       "1     21529082   4200000.0    85646 -111.045371  31.594213    1707.00   \n",
       "2      3054672   4200000.0    85646 -111.040707  31.594844    1707.00   \n",
       "3     21919321   4500000.0    85646 -111.035925  31.645878     636.67   \n",
       "4     21306357   3411450.0    85750 -110.813768  32.285162       3.21   \n",
       "...        ...         ...      ...         ...        ...        ...   \n",
       "4995  21810382    495000.0    85641 -110.661829  31.907917       4.98   \n",
       "4996  21908591    550000.0    85750 -110.858556  32.316373       1.42   \n",
       "4997  21832452    475000.0    85192 -110.755428  32.964708      12.06   \n",
       "4998  21900515    550000.0    85745 -111.055528  32.296871       1.01   \n",
       "4999   4111490    450000.0    85621 -110.913054  31.385259       4.16   \n",
       "\n",
       "         taxes  year_built  bedrooms bathrooms sqrt_ft garage  \\\n",
       "0      5272.00        1941        13        10   10500      0   \n",
       "1     10422.36        1997         2         2    7300      0   \n",
       "2     10482.00        1997         2         3    None   None   \n",
       "3      8418.58        1930         7         5    9019      4   \n",
       "4     15393.00        1995         4         6    6396      3   \n",
       "...        ...         ...       ...       ...     ...    ...   \n",
       "4995   2017.00        2005         5         3    3601      3   \n",
       "4996   4822.01        1990         4         3    2318      3   \n",
       "4997   1000.00        1969         3         2    1772      0   \n",
       "4998   5822.93        2009         4         4    3724      3   \n",
       "4999   2814.48        1988         4         4    4317   None   \n",
       "\n",
       "                                       kitchen_features fireplaces  \\\n",
       "0               Dishwasher, Freezer, Refrigerator, Oven          6   \n",
       "1                          Dishwasher, Garbage Disposal          5   \n",
       "2            Dishwasher, Garbage Disposal, Refrigerator          5   \n",
       "3     Dishwasher, Double Sink, Pantry: Butler, Refri...          4   \n",
       "4     Dishwasher, Garbage Disposal, Refrigerator, Mi...          5   \n",
       "...                                                 ...        ...   \n",
       "4995  Dishwasher, Double Sink, Garbage Disposal, Gas...          1   \n",
       "4996  Dishwasher, Double Sink, Electric Range, Garba...          1   \n",
       "4997  Dishwasher, Electric Range, Island, Refrigerat...          0   \n",
       "4998  Dishwasher, Double Sink, Garbage Disposal, Gas...          1   \n",
       "4999  Compactor, Dishwasher, Double Sink, Island, Ap...          3   \n",
       "\n",
       "                    floor_covering   HOA  \n",
       "0               Mexican Tile, Wood     0  \n",
       "1             Natural Stone, Other     0  \n",
       "2       Natural Stone, Other: Rock  None  \n",
       "3     Ceramic Tile, Laminate, Wood  None  \n",
       "4                 Carpet, Concrete    55  \n",
       "...                            ...   ...  \n",
       "4995          Carpet, Ceramic Tile  None  \n",
       "4996          Carpet, Ceramic Tile    43  \n",
       "4997                  Ceramic Tile  None  \n",
       "4998          Carpet, Ceramic Tile  None  \n",
       "4999          Carpet, Mexican Tile  None  \n",
       "\n",
       "[5000 rows x 16 columns]"
      ]
     },
     "execution_count": 7,
     "metadata": {},
     "output_type": "execute_result"
    }
   ],
   "source": [
    "df"
   ]
  },
  {
   "cell_type": "code",
   "execution_count": 8,
   "metadata": {},
   "outputs": [
    {
     "data": {
      "text/html": [
       "<div>\n",
       "<style scoped>\n",
       "    .dataframe tbody tr th:only-of-type {\n",
       "        vertical-align: middle;\n",
       "    }\n",
       "\n",
       "    .dataframe tbody tr th {\n",
       "        vertical-align: top;\n",
       "    }\n",
       "\n",
       "    .dataframe thead th {\n",
       "        text-align: right;\n",
       "    }\n",
       "</style>\n",
       "<table border=\"1\" class=\"dataframe\">\n",
       "  <thead>\n",
       "    <tr style=\"text-align: right;\">\n",
       "      <th></th>\n",
       "      <th>MLS</th>\n",
       "      <th>sold_price</th>\n",
       "      <th>zipcode</th>\n",
       "      <th>longitude</th>\n",
       "      <th>latitude</th>\n",
       "      <th>lot_acres</th>\n",
       "      <th>taxes</th>\n",
       "      <th>year_built</th>\n",
       "      <th>bedrooms</th>\n",
       "      <th>bathrooms</th>\n",
       "      <th>sqrt_ft</th>\n",
       "      <th>garage</th>\n",
       "      <th>kitchen_features</th>\n",
       "      <th>fireplaces</th>\n",
       "      <th>floor_covering</th>\n",
       "      <th>HOA</th>\n",
       "    </tr>\n",
       "  </thead>\n",
       "  <tbody>\n",
       "    <tr>\n",
       "      <th>0</th>\n",
       "      <td>21530491</td>\n",
       "      <td>5300000.0</td>\n",
       "      <td>85637</td>\n",
       "      <td>-110.378200</td>\n",
       "      <td>31.356362</td>\n",
       "      <td>2154.00</td>\n",
       "      <td>5272.00</td>\n",
       "      <td>1941</td>\n",
       "      <td>13</td>\n",
       "      <td>10</td>\n",
       "      <td>10500</td>\n",
       "      <td>0</td>\n",
       "      <td>Dishwasher, Freezer, Refrigerator, Oven</td>\n",
       "      <td>6</td>\n",
       "      <td>Mexican Tile, Wood</td>\n",
       "      <td>0</td>\n",
       "    </tr>\n",
       "    <tr>\n",
       "      <th>1</th>\n",
       "      <td>21529082</td>\n",
       "      <td>4200000.0</td>\n",
       "      <td>85646</td>\n",
       "      <td>-111.045371</td>\n",
       "      <td>31.594213</td>\n",
       "      <td>1707.00</td>\n",
       "      <td>10422.36</td>\n",
       "      <td>1997</td>\n",
       "      <td>2</td>\n",
       "      <td>2</td>\n",
       "      <td>7300</td>\n",
       "      <td>0</td>\n",
       "      <td>Dishwasher, Garbage Disposal</td>\n",
       "      <td>5</td>\n",
       "      <td>Natural Stone, Other</td>\n",
       "      <td>0</td>\n",
       "    </tr>\n",
       "    <tr>\n",
       "      <th>2</th>\n",
       "      <td>3054672</td>\n",
       "      <td>4200000.0</td>\n",
       "      <td>85646</td>\n",
       "      <td>-111.040707</td>\n",
       "      <td>31.594844</td>\n",
       "      <td>1707.00</td>\n",
       "      <td>10482.00</td>\n",
       "      <td>1997</td>\n",
       "      <td>2</td>\n",
       "      <td>3</td>\n",
       "      <td>0</td>\n",
       "      <td>0</td>\n",
       "      <td>Dishwasher, Garbage Disposal, Refrigerator</td>\n",
       "      <td>5</td>\n",
       "      <td>Natural Stone, Other: Rock</td>\n",
       "      <td>0</td>\n",
       "    </tr>\n",
       "    <tr>\n",
       "      <th>3</th>\n",
       "      <td>21919321</td>\n",
       "      <td>4500000.0</td>\n",
       "      <td>85646</td>\n",
       "      <td>-111.035925</td>\n",
       "      <td>31.645878</td>\n",
       "      <td>636.67</td>\n",
       "      <td>8418.58</td>\n",
       "      <td>1930</td>\n",
       "      <td>7</td>\n",
       "      <td>5</td>\n",
       "      <td>9019</td>\n",
       "      <td>4</td>\n",
       "      <td>Dishwasher, Double Sink, Pantry: Butler, Refri...</td>\n",
       "      <td>4</td>\n",
       "      <td>Ceramic Tile, Laminate, Wood</td>\n",
       "      <td>0</td>\n",
       "    </tr>\n",
       "    <tr>\n",
       "      <th>4</th>\n",
       "      <td>21306357</td>\n",
       "      <td>3411450.0</td>\n",
       "      <td>85750</td>\n",
       "      <td>-110.813768</td>\n",
       "      <td>32.285162</td>\n",
       "      <td>3.21</td>\n",
       "      <td>15393.00</td>\n",
       "      <td>1995</td>\n",
       "      <td>4</td>\n",
       "      <td>6</td>\n",
       "      <td>6396</td>\n",
       "      <td>3</td>\n",
       "      <td>Dishwasher, Garbage Disposal, Refrigerator, Mi...</td>\n",
       "      <td>5</td>\n",
       "      <td>Carpet, Concrete</td>\n",
       "      <td>55</td>\n",
       "    </tr>\n",
       "    <tr>\n",
       "      <th>...</th>\n",
       "      <td>...</td>\n",
       "      <td>...</td>\n",
       "      <td>...</td>\n",
       "      <td>...</td>\n",
       "      <td>...</td>\n",
       "      <td>...</td>\n",
       "      <td>...</td>\n",
       "      <td>...</td>\n",
       "      <td>...</td>\n",
       "      <td>...</td>\n",
       "      <td>...</td>\n",
       "      <td>...</td>\n",
       "      <td>...</td>\n",
       "      <td>...</td>\n",
       "      <td>...</td>\n",
       "      <td>...</td>\n",
       "    </tr>\n",
       "    <tr>\n",
       "      <th>4995</th>\n",
       "      <td>21810382</td>\n",
       "      <td>495000.0</td>\n",
       "      <td>85641</td>\n",
       "      <td>-110.661829</td>\n",
       "      <td>31.907917</td>\n",
       "      <td>4.98</td>\n",
       "      <td>2017.00</td>\n",
       "      <td>2005</td>\n",
       "      <td>5</td>\n",
       "      <td>3</td>\n",
       "      <td>3601</td>\n",
       "      <td>3</td>\n",
       "      <td>Dishwasher, Double Sink, Garbage Disposal, Gas...</td>\n",
       "      <td>1</td>\n",
       "      <td>Carpet, Ceramic Tile</td>\n",
       "      <td>0</td>\n",
       "    </tr>\n",
       "    <tr>\n",
       "      <th>4996</th>\n",
       "      <td>21908591</td>\n",
       "      <td>550000.0</td>\n",
       "      <td>85750</td>\n",
       "      <td>-110.858556</td>\n",
       "      <td>32.316373</td>\n",
       "      <td>1.42</td>\n",
       "      <td>4822.01</td>\n",
       "      <td>1990</td>\n",
       "      <td>4</td>\n",
       "      <td>3</td>\n",
       "      <td>2318</td>\n",
       "      <td>3</td>\n",
       "      <td>Dishwasher, Double Sink, Electric Range, Garba...</td>\n",
       "      <td>1</td>\n",
       "      <td>Carpet, Ceramic Tile</td>\n",
       "      <td>43</td>\n",
       "    </tr>\n",
       "    <tr>\n",
       "      <th>4997</th>\n",
       "      <td>21832452</td>\n",
       "      <td>475000.0</td>\n",
       "      <td>85192</td>\n",
       "      <td>-110.755428</td>\n",
       "      <td>32.964708</td>\n",
       "      <td>12.06</td>\n",
       "      <td>1000.00</td>\n",
       "      <td>1969</td>\n",
       "      <td>3</td>\n",
       "      <td>2</td>\n",
       "      <td>1772</td>\n",
       "      <td>0</td>\n",
       "      <td>Dishwasher, Electric Range, Island, Refrigerat...</td>\n",
       "      <td>0</td>\n",
       "      <td>Ceramic Tile</td>\n",
       "      <td>0</td>\n",
       "    </tr>\n",
       "    <tr>\n",
       "      <th>4998</th>\n",
       "      <td>21900515</td>\n",
       "      <td>550000.0</td>\n",
       "      <td>85745</td>\n",
       "      <td>-111.055528</td>\n",
       "      <td>32.296871</td>\n",
       "      <td>1.01</td>\n",
       "      <td>5822.93</td>\n",
       "      <td>2009</td>\n",
       "      <td>4</td>\n",
       "      <td>4</td>\n",
       "      <td>3724</td>\n",
       "      <td>3</td>\n",
       "      <td>Dishwasher, Double Sink, Garbage Disposal, Gas...</td>\n",
       "      <td>1</td>\n",
       "      <td>Carpet, Ceramic Tile</td>\n",
       "      <td>0</td>\n",
       "    </tr>\n",
       "    <tr>\n",
       "      <th>4999</th>\n",
       "      <td>4111490</td>\n",
       "      <td>450000.0</td>\n",
       "      <td>85621</td>\n",
       "      <td>-110.913054</td>\n",
       "      <td>31.385259</td>\n",
       "      <td>4.16</td>\n",
       "      <td>2814.48</td>\n",
       "      <td>1988</td>\n",
       "      <td>4</td>\n",
       "      <td>4</td>\n",
       "      <td>4317</td>\n",
       "      <td>0</td>\n",
       "      <td>Compactor, Dishwasher, Double Sink, Island, Ap...</td>\n",
       "      <td>3</td>\n",
       "      <td>Carpet, Mexican Tile</td>\n",
       "      <td>0</td>\n",
       "    </tr>\n",
       "  </tbody>\n",
       "</table>\n",
       "<p>5000 rows × 16 columns</p>\n",
       "</div>"
      ],
      "text/plain": [
       "           MLS  sold_price  zipcode   longitude   latitude  lot_acres  \\\n",
       "0     21530491   5300000.0    85637 -110.378200  31.356362    2154.00   \n",
       "1     21529082   4200000.0    85646 -111.045371  31.594213    1707.00   \n",
       "2      3054672   4200000.0    85646 -111.040707  31.594844    1707.00   \n",
       "3     21919321   4500000.0    85646 -111.035925  31.645878     636.67   \n",
       "4     21306357   3411450.0    85750 -110.813768  32.285162       3.21   \n",
       "...        ...         ...      ...         ...        ...        ...   \n",
       "4995  21810382    495000.0    85641 -110.661829  31.907917       4.98   \n",
       "4996  21908591    550000.0    85750 -110.858556  32.316373       1.42   \n",
       "4997  21832452    475000.0    85192 -110.755428  32.964708      12.06   \n",
       "4998  21900515    550000.0    85745 -111.055528  32.296871       1.01   \n",
       "4999   4111490    450000.0    85621 -110.913054  31.385259       4.16   \n",
       "\n",
       "         taxes  year_built  bedrooms bathrooms sqrt_ft garage  \\\n",
       "0      5272.00        1941        13        10   10500      0   \n",
       "1     10422.36        1997         2         2    7300      0   \n",
       "2     10482.00        1997         2         3       0      0   \n",
       "3      8418.58        1930         7         5    9019      4   \n",
       "4     15393.00        1995         4         6    6396      3   \n",
       "...        ...         ...       ...       ...     ...    ...   \n",
       "4995   2017.00        2005         5         3    3601      3   \n",
       "4996   4822.01        1990         4         3    2318      3   \n",
       "4997   1000.00        1969         3         2    1772      0   \n",
       "4998   5822.93        2009         4         4    3724      3   \n",
       "4999   2814.48        1988         4         4    4317      0   \n",
       "\n",
       "                                       kitchen_features fireplaces  \\\n",
       "0               Dishwasher, Freezer, Refrigerator, Oven          6   \n",
       "1                          Dishwasher, Garbage Disposal          5   \n",
       "2            Dishwasher, Garbage Disposal, Refrigerator          5   \n",
       "3     Dishwasher, Double Sink, Pantry: Butler, Refri...          4   \n",
       "4     Dishwasher, Garbage Disposal, Refrigerator, Mi...          5   \n",
       "...                                                 ...        ...   \n",
       "4995  Dishwasher, Double Sink, Garbage Disposal, Gas...          1   \n",
       "4996  Dishwasher, Double Sink, Electric Range, Garba...          1   \n",
       "4997  Dishwasher, Electric Range, Island, Refrigerat...          0   \n",
       "4998  Dishwasher, Double Sink, Garbage Disposal, Gas...          1   \n",
       "4999  Compactor, Dishwasher, Double Sink, Island, Ap...          3   \n",
       "\n",
       "                    floor_covering HOA  \n",
       "0               Mexican Tile, Wood   0  \n",
       "1             Natural Stone, Other   0  \n",
       "2       Natural Stone, Other: Rock   0  \n",
       "3     Ceramic Tile, Laminate, Wood   0  \n",
       "4                 Carpet, Concrete  55  \n",
       "...                            ...  ..  \n",
       "4995          Carpet, Ceramic Tile   0  \n",
       "4996          Carpet, Ceramic Tile  43  \n",
       "4997                  Ceramic Tile   0  \n",
       "4998          Carpet, Ceramic Tile   0  \n",
       "4999          Carpet, Mexican Tile   0  \n",
       "\n",
       "[5000 rows x 16 columns]"
      ]
     },
     "execution_count": 8,
     "metadata": {},
     "output_type": "execute_result"
    }
   ],
   "source": [
    "df.replace(to_replace =\"None\", value =\"0\")"
   ]
  },
  {
   "cell_type": "code",
   "execution_count": 11,
   "metadata": {},
   "outputs": [],
   "source": [
    "df.drop(df[df['year_built']== 0].index, inplace=True)"
   ]
  },
  {
   "cell_type": "code",
   "execution_count": 12,
   "metadata": {},
   "outputs": [],
   "source": [
    "df.drop(df[df['lot_acres']== 0].index, inplace=True)"
   ]
  },
  {
   "cell_type": "code",
   "execution_count": 13,
   "metadata": {},
   "outputs": [],
   "source": [
    "df.drop(df[df['taxes']== 0].index, inplace=True)"
   ]
  },
  {
   "cell_type": "code",
   "execution_count": 14,
   "metadata": {},
   "outputs": [],
   "source": [
    "df.drop(df[df['garage']== 0].index, inplace=True)"
   ]
  },
  {
   "cell_type": "code",
   "execution_count": 15,
   "metadata": {},
   "outputs": [
    {
     "data": {
      "image/png": "[encoded data removed]",
      "text/plain": [
       "<Figure size 432x288 with 2 Axes>"
      ]
     },
     "metadata": {
      "needs_background": "light"
     },
     "output_type": "display_data"
    }
   ],
   "source": [
    "cor=sns.heatmap(df.corr(), annot=True)"
   ]
  },
  {
   "cell_type": "code",
   "execution_count": 16,
   "metadata": {},
   "outputs": [],
   "source": [
    "df.drop(df[df['sold_price']== 0].index, inplace=True)\n",
    "df.drop(df[df['sqrt_ft']== 0].index, inplace=True)\n",
    "df.drop(df[df['bedrooms']== 0].index, inplace=True)\n",
    "df.drop(df[df['bathrooms']== 0].index, inplace=True)\n",
    "df.drop(df[df['lot_acres']== 0].index, inplace=True)\n",
    "df.drop(df[df['taxes']== 0].index, inplace=True)"
   ]
  },
  {
   "cell_type": "code",
   "execution_count": 17,
   "metadata": {},
   "outputs": [],
   "source": [
    "df.drop(df[df['sqrt_ft']== 'None'].index, inplace=True)\n",
    "df.drop(df[df['taxes']== 'None'].index, inplace=True)\n",
    "df.drop(df[df['lot_acres']== 'None'].index, inplace=True)\n",
    "df.drop(df[df['sold_price']== 'None'].index, inplace=True)\n",
    "df.drop(df[df['bathrooms']== 'None'].index, inplace=True)\n",
    "df.drop(df[df['bedrooms']== 'None'].index, inplace=True)"
   ]
  },
  {
   "cell_type": "code",
   "execution_count": 18,
   "metadata": {},
   "outputs": [],
   "source": [
    "df.drop(df[df['sqrt_ft']== 0].index, inplace=True)"
   ]
  },
  {
   "cell_type": "code",
   "execution_count": 19,
   "metadata": {},
   "outputs": [],
   "source": [
    "df.drop(df[df['taxes']== 12215075.0].index, inplace=True)"
   ]
  },
  {
   "cell_type": "code",
   "execution_count": 20,
   "metadata": {},
   "outputs": [],
   "source": [
    "#df.drop(df[df['taxes']== 668059.0].index, inplace=True)"
   ]
  },
  {
   "cell_type": "code",
   "execution_count": 21,
   "metadata": {},
   "outputs": [],
   "source": [
    "df.drop(df[df['bedrooms']== 36].index, inplace=True)"
   ]
  },
  {
   "cell_type": "code",
   "execution_count": 22,
   "metadata": {},
   "outputs": [
    {
     "data": {
      "text/plain": [
       "668059.0"
      ]
     },
     "execution_count": 22,
     "metadata": {},
     "output_type": "execute_result"
    }
   ],
   "source": [
    "max(df['taxes'])"
   ]
  },
  {
   "cell_type": "code",
   "execution_count": 23,
   "metadata": {},
   "outputs": [
    {
     "data": {
      "text/plain": [
       "19"
      ]
     },
     "execution_count": 23,
     "metadata": {},
     "output_type": "execute_result"
    }
   ],
   "source": [
    "max(df['bedrooms'])"
   ]
  },
  {
   "cell_type": "code",
   "execution_count": 24,
   "metadata": {},
   "outputs": [
    {
     "data": {
      "image/png": "[encoded data removed]",
      "text/plain": [
       "<Figure size 1008x504 with 2 Axes>"
      ]
     },
     "metadata": {
      "needs_background": "light"
     },
     "output_type": "display_data"
    }
   ],
   "source": [
    "plt.figure(figsize=(14,7))\n",
    "cor=sns.heatmap(df.corr(), annot=True)"
   ]
  },
  {
   "cell_type": "code",
   "execution_count": 26,
   "metadata": {},
   "outputs": [],
   "source": [
    "df[[\"bathrooms\",\"sqrt_ft\"]] = df[[\"bathrooms\", \"sqrt_ft\"]].astype(\"float\")"
   ]
  },
  {
   "cell_type": "code",
   "execution_count": 27,
   "metadata": {
    "scrolled": true
   },
   "outputs": [
    {
     "data": {
      "image/png": "[encoded data removed]",
      "text/plain": [
       "<Figure size 1008x504 with 2 Axes>"
      ]
     },
     "metadata": {
      "needs_background": "light"
     },
     "output_type": "display_data"
    }
   ],
   "source": [
    "plt.figure(figsize=(14,7))\n",
    "cor=sns.heatmap(df.corr(), annot=True)"
   ]
  },
  {
   "cell_type": "code",
   "execution_count": 29,
   "metadata": {},
   "outputs": [],
   "source": [
    "selected_columns= [\n",
    "    'sold_price', 'lot_acres','taxes','bedrooms', 'bathrooms', 'sqrt_ft']"
   ]
  },
  {
   "cell_type": "code",
   "execution_count": 30,
   "metadata": {},
   "outputs": [
    {
     "data": {
      "text/plain": [
       "['sold_price', 'lot_acres', 'taxes', 'bedrooms', 'bathrooms', 'sqrt_ft']"
      ]
     },
     "execution_count": 30,
     "metadata": {},
     "output_type": "execute_result"
    }
   ],
   "source": [
    "selected_columns"
   ]
  },
  {
   "cell_type": "code",
   "execution_count": 31,
   "metadata": {},
   "outputs": [
    {
     "data": {
      "text/html": [
       "<div>\n",
       "<style scoped>\n",
       "    .dataframe tbody tr th:only-of-type {\n",
       "        vertical-align: middle;\n",
       "    }\n",
       "\n",
       "    .dataframe tbody tr th {\n",
       "        vertical-align: top;\n",
       "    }\n",
       "\n",
       "    .dataframe thead th {\n",
       "        text-align: right;\n",
       "    }\n",
       "</style>\n",
       "<table border=\"1\" class=\"dataframe\">\n",
       "  <thead>\n",
       "    <tr style=\"text-align: right;\">\n",
       "      <th></th>\n",
       "      <th>sold_price</th>\n",
       "      <th>lot_acres</th>\n",
       "      <th>taxes</th>\n",
       "      <th>bedrooms</th>\n",
       "      <th>bathrooms</th>\n",
       "      <th>sqrt_ft</th>\n",
       "    </tr>\n",
       "  </thead>\n",
       "  <tbody>\n",
       "    <tr>\n",
       "      <th>0</th>\n",
       "      <td>5300000.0</td>\n",
       "      <td>2154.00</td>\n",
       "      <td>5272.00</td>\n",
       "      <td>13</td>\n",
       "      <td>10.0</td>\n",
       "      <td>10500.0</td>\n",
       "    </tr>\n",
       "    <tr>\n",
       "      <th>1</th>\n",
       "      <td>4200000.0</td>\n",
       "      <td>1707.00</td>\n",
       "      <td>10422.36</td>\n",
       "      <td>2</td>\n",
       "      <td>2.0</td>\n",
       "      <td>7300.0</td>\n",
       "    </tr>\n",
       "    <tr>\n",
       "      <th>3</th>\n",
       "      <td>4500000.0</td>\n",
       "      <td>636.67</td>\n",
       "      <td>8418.58</td>\n",
       "      <td>7</td>\n",
       "      <td>5.0</td>\n",
       "      <td>9019.0</td>\n",
       "    </tr>\n",
       "    <tr>\n",
       "      <th>4</th>\n",
       "      <td>3411450.0</td>\n",
       "      <td>3.21</td>\n",
       "      <td>15393.00</td>\n",
       "      <td>4</td>\n",
       "      <td>6.0</td>\n",
       "      <td>6396.0</td>\n",
       "    </tr>\n",
       "    <tr>\n",
       "      <th>5</th>\n",
       "      <td>3250000.0</td>\n",
       "      <td>1.67</td>\n",
       "      <td>27802.84</td>\n",
       "      <td>3</td>\n",
       "      <td>4.0</td>\n",
       "      <td>6842.0</td>\n",
       "    </tr>\n",
       "    <tr>\n",
       "      <th>...</th>\n",
       "      <td>...</td>\n",
       "      <td>...</td>\n",
       "      <td>...</td>\n",
       "      <td>...</td>\n",
       "      <td>...</td>\n",
       "      <td>...</td>\n",
       "    </tr>\n",
       "    <tr>\n",
       "      <th>4995</th>\n",
       "      <td>495000.0</td>\n",
       "      <td>4.98</td>\n",
       "      <td>2017.00</td>\n",
       "      <td>5</td>\n",
       "      <td>3.0</td>\n",
       "      <td>3601.0</td>\n",
       "    </tr>\n",
       "    <tr>\n",
       "      <th>4996</th>\n",
       "      <td>550000.0</td>\n",
       "      <td>1.42</td>\n",
       "      <td>4822.01</td>\n",
       "      <td>4</td>\n",
       "      <td>3.0</td>\n",
       "      <td>2318.0</td>\n",
       "    </tr>\n",
       "    <tr>\n",
       "      <th>4997</th>\n",
       "      <td>475000.0</td>\n",
       "      <td>12.06</td>\n",
       "      <td>1000.00</td>\n",
       "      <td>3</td>\n",
       "      <td>2.0</td>\n",
       "      <td>1772.0</td>\n",
       "    </tr>\n",
       "    <tr>\n",
       "      <th>4998</th>\n",
       "      <td>550000.0</td>\n",
       "      <td>1.01</td>\n",
       "      <td>5822.93</td>\n",
       "      <td>4</td>\n",
       "      <td>4.0</td>\n",
       "      <td>3724.0</td>\n",
       "    </tr>\n",
       "    <tr>\n",
       "      <th>4999</th>\n",
       "      <td>450000.0</td>\n",
       "      <td>4.16</td>\n",
       "      <td>2814.48</td>\n",
       "      <td>4</td>\n",
       "      <td>4.0</td>\n",
       "      <td>4317.0</td>\n",
       "    </tr>\n",
       "  </tbody>\n",
       "</table>\n",
       "<p>4880 rows × 6 columns</p>\n",
       "</div>"
      ],
      "text/plain": [
       "      sold_price  lot_acres     taxes  bedrooms  bathrooms  sqrt_ft\n",
       "0      5300000.0    2154.00   5272.00        13       10.0  10500.0\n",
       "1      4200000.0    1707.00  10422.36         2        2.0   7300.0\n",
       "3      4500000.0     636.67   8418.58         7        5.0   9019.0\n",
       "4      3411450.0       3.21  15393.00         4        6.0   6396.0\n",
       "5      3250000.0       1.67  27802.84         3        4.0   6842.0\n",
       "...          ...        ...       ...       ...        ...      ...\n",
       "4995    495000.0       4.98   2017.00         5        3.0   3601.0\n",
       "4996    550000.0       1.42   4822.01         4        3.0   2318.0\n",
       "4997    475000.0      12.06   1000.00         3        2.0   1772.0\n",
       "4998    550000.0       1.01   5822.93         4        4.0   3724.0\n",
       "4999    450000.0       4.16   2814.48         4        4.0   4317.0\n",
       "\n",
       "[4880 rows x 6 columns]"
      ]
     },
     "execution_count": 31,
     "metadata": {},
     "output_type": "execute_result"
    }
   ],
   "source": [
    "df=df[selected_columns].copy()\n",
    "df"
   ]
  },
  {
   "cell_type": "code",
   "execution_count": 32,
   "metadata": {},
   "outputs": [
    {
     "name": "stdout",
     "output_type": "stream",
     "text": [
      "<class 'pandas.core.frame.DataFrame'>\n",
      "Int64Index: 4880 entries, 0 to 4999\n",
      "Data columns (total 6 columns):\n",
      " #   Column      Non-Null Count  Dtype  \n",
      "---  ------      --------------  -----  \n",
      " 0   sold_price  4880 non-null   float64\n",
      " 1   lot_acres   4880 non-null   float64\n",
      " 2   taxes       4880 non-null   float64\n",
      " 3   bedrooms    4880 non-null   int64  \n",
      " 4   bathrooms   4880 non-null   float64\n",
      " 5   sqrt_ft     4880 non-null   float64\n",
      "dtypes: float64(5), int64(1)\n",
      "memory usage: 266.9 KB\n"
     ]
    }
   ],
   "source": [
    "df.info()"
   ]
  },
  {
   "cell_type": "code",
   "execution_count": 33,
   "metadata": {},
   "outputs": [],
   "source": [
    "#new_df[[\"bathrooms\", \"garage\",\"sqrt_ft\"]] = new_df[[\"bathrooms\", \"garage\",\"sqrt_ft\"]].astype(\"float\")\n",
    "#new_df=df[selected_columns].copy()\n",
    "#new_df[new_df[\"bathrooms\"] =='None'] = 0\n",
    "#set(df.bathrooms)\n",
    "#p=pd.to_numeric(new_df.bathrooms)\n",
    "#df[\"bathrooms\"] = p\n",
    "#p"
   ]
  },
  {
   "cell_type": "code",
   "execution_count": 34,
   "metadata": {},
   "outputs": [],
   "source": [
    "#new_df[new_df[\"garage\"] =='None'] = 0\n",
    "#set(new_df.garage)\n",
    "#o=pd.to_numeric(new_df.garage)\n",
    "#new_df[\"garage\"] = o\n",
    "#o"
   ]
  },
  {
   "cell_type": "code",
   "execution_count": 35,
   "metadata": {},
   "outputs": [],
   "source": [
    "#new_df[new_df[\"sqrt_ft\"] =='None'] = 0\n",
    "#set(new_df.sqrt_ft)\n",
    "#q=pd.to_numeric(new_df.sqrt_ft)\n",
    "#new_df[\"sqrt_ft\"] = q\n",
    "#q"
   ]
  },
  {
   "cell_type": "code",
   "execution_count": 36,
   "metadata": {},
   "outputs": [
    {
     "data": {
      "text/plain": [
       "(4880, 6)"
      ]
     },
     "execution_count": 36,
     "metadata": {},
     "output_type": "execute_result"
    }
   ],
   "source": [
    "df.shape"
   ]
  },
  {
   "cell_type": "code",
   "execution_count": 37,
   "metadata": {},
   "outputs": [
    {
     "data": {
      "text/plain": [
       "0       13.0\n",
       "1        2.0\n",
       "3        7.0\n",
       "4        4.0\n",
       "5        3.0\n",
       "        ... \n",
       "4995     5.0\n",
       "4996     4.0\n",
       "4997     3.0\n",
       "4998     4.0\n",
       "4999     4.0\n",
       "Name: bedrooms, Length: 4880, dtype: float64"
      ]
     },
     "execution_count": 37,
     "metadata": {},
     "output_type": "execute_result"
    }
   ],
   "source": [
    "df = df.apply(pd.to_numeric)\n",
    "df['bedrooms'].astype('float64')"
   ]
  },
  {
   "cell_type": "code",
   "execution_count": 38,
   "metadata": {},
   "outputs": [
    {
     "name": "stdout",
     "output_type": "stream",
     "text": [
      "<class 'pandas.core.frame.DataFrame'>\n",
      "Int64Index: 4880 entries, 0 to 4999\n",
      "Data columns (total 6 columns):\n",
      " #   Column      Non-Null Count  Dtype  \n",
      "---  ------      --------------  -----  \n",
      " 0   sold_price  4880 non-null   float64\n",
      " 1   lot_acres   4880 non-null   float64\n",
      " 2   taxes       4880 non-null   float64\n",
      " 3   bedrooms    4880 non-null   int64  \n",
      " 4   bathrooms   4880 non-null   float64\n",
      " 5   sqrt_ft     4880 non-null   float64\n",
      "dtypes: float64(5), int64(1)\n",
      "memory usage: 266.9 KB\n"
     ]
    }
   ],
   "source": [
    "df.info()"
   ]
  },
  {
   "cell_type": "code",
   "execution_count": 39,
   "metadata": {
    "scrolled": true
   },
   "outputs": [
    {
     "data": {
      "image/png": "[encoded data removed]",
      "text/plain": [
       "<Figure size 1008x504 with 2 Axes>"
      ]
     },
     "metadata": {
      "needs_background": "light"
     },
     "output_type": "display_data"
    }
   ],
   "source": [
    "plt.figure(figsize=(14,7))\n",
    "cor=sns.heatmap(df.corr(), annot=True)"
   ]
  },
  {
   "cell_type": "code",
   "execution_count": 97,
   "metadata": {},
   "outputs": [],
   "source": [
    "df['taxes']=df['taxes']**(1/2)\n",
    "df['sold_price']=df['sold_price']**(1/2)\n",
    "df['bedrooms']=df['bedrooms']**(2)\n",
    "df['bathrooms']=df['bathrooms']**(1/2)\n",
    "df['sqrt_ft']=df['sqrt_ft']**(1/2)"
   ]
  },
  {
   "cell_type": "code",
   "execution_count": 98,
   "metadata": {},
   "outputs": [
    {
     "data": {
      "text/plain": [
       "0       2.919086\n",
       "1       3.178672\n",
       "3       3.094959\n",
       "4       3.337455\n",
       "5       3.593446\n",
       "          ...   \n",
       "4995    2.588739\n",
       "4996    2.886712\n",
       "4997    2.371374\n",
       "4998    2.955580\n",
       "4999    2.698825\n",
       "Name: taxes, Length: 4880, dtype: float64"
      ]
     },
     "execution_count": 98,
     "metadata": {},
     "output_type": "execute_result"
    }
   ],
   "source": [
    "df['taxes']"
   ]
  },
  {
   "cell_type": "code",
   "execution_count": 99,
   "metadata": {
    "scrolled": true
   },
   "outputs": [
    {
     "data": {
      "image/png": "[encoded data removed]",
      "text/plain": [
       "<Figure size 1008x504 with 2 Axes>"
      ]
     },
     "metadata": {
      "needs_background": "light"
     },
     "output_type": "display_data"
    }
   ],
   "source": [
    "plt.figure(figsize=(14,7))\n",
    "cor=sns.heatmap(df.corr(), annot=True)"
   ]
  },
  {
   "cell_type": "code",
   "execution_count": 100,
   "metadata": {},
   "outputs": [],
   "source": [
    "#new_df[new_df[\"bathrooms\"] =='None'] = 0\n",
    "#set(new_df.bathrooms)\n",
    "#p=pd.to_numeric(new_df.bathrooms)\n",
    "#new_df[\"bathrooms\"] = p\n",
    "#p"
   ]
  },
  {
   "cell_type": "code",
   "execution_count": 101,
   "metadata": {},
   "outputs": [],
   "source": [
    "#new_df[new_df[\"sqrt_ft\"] =='None'] = 0\n",
    "#set(new_df.sqrt_ft)\n",
    "#q=pd.to_numeric(new_df.sqrt_ft)\n",
    "#new_df[\"sqrt_ft\"] = q\n",
    "#q"
   ]
  },
  {
   "cell_type": "code",
   "execution_count": 102,
   "metadata": {},
   "outputs": [],
   "source": [
    "factors=['bedrooms','bathrooms','lot_acres','sold_price','sqrt_ft']\n",
    "df_new=df[factors]\n",
    "target_variable=df['taxes']"
   ]
  },
  {
   "cell_type": "code",
   "execution_count": 103,
   "metadata": {},
   "outputs": [
    {
     "data": {
      "text/html": [
       "<div>\n",
       "<style scoped>\n",
       "    .dataframe tbody tr th:only-of-type {\n",
       "        vertical-align: middle;\n",
       "    }\n",
       "\n",
       "    .dataframe tbody tr th {\n",
       "        vertical-align: top;\n",
       "    }\n",
       "\n",
       "    .dataframe thead th {\n",
       "        text-align: right;\n",
       "    }\n",
       "</style>\n",
       "<table border=\"1\" class=\"dataframe\">\n",
       "  <thead>\n",
       "    <tr style=\"text-align: right;\">\n",
       "      <th></th>\n",
       "      <th>bedrooms</th>\n",
       "      <th>bathrooms</th>\n",
       "      <th>lot_acres</th>\n",
       "      <th>sold_price</th>\n",
       "      <th>sqrt_ft</th>\n",
       "    </tr>\n",
       "  </thead>\n",
       "  <tbody>\n",
       "    <tr>\n",
       "      <th>0</th>\n",
       "      <td>3.605551</td>\n",
       "      <td>1.333521</td>\n",
       "      <td>2154.00</td>\n",
       "      <td>6.926829</td>\n",
       "      <td>3.181623</td>\n",
       "    </tr>\n",
       "    <tr>\n",
       "      <th>1</th>\n",
       "      <td>1.414214</td>\n",
       "      <td>1.090508</td>\n",
       "      <td>1707.00</td>\n",
       "      <td>6.728313</td>\n",
       "      <td>3.040292</td>\n",
       "    </tr>\n",
       "    <tr>\n",
       "      <th>3</th>\n",
       "      <td>2.645751</td>\n",
       "      <td>1.222845</td>\n",
       "      <td>636.67</td>\n",
       "      <td>6.786589</td>\n",
       "      <td>3.121726</td>\n",
       "    </tr>\n",
       "    <tr>\n",
       "      <th>4</th>\n",
       "      <td>2.000000</td>\n",
       "      <td>1.251033</td>\n",
       "      <td>3.21</td>\n",
       "      <td>6.555674</td>\n",
       "      <td>2.990464</td>\n",
       "    </tr>\n",
       "    <tr>\n",
       "      <th>5</th>\n",
       "      <td>1.732051</td>\n",
       "      <td>1.189207</td>\n",
       "      <td>1.67</td>\n",
       "      <td>6.516065</td>\n",
       "      <td>3.015768</td>\n",
       "    </tr>\n",
       "    <tr>\n",
       "      <th>...</th>\n",
       "      <td>...</td>\n",
       "      <td>...</td>\n",
       "      <td>...</td>\n",
       "      <td>...</td>\n",
       "      <td>...</td>\n",
       "    </tr>\n",
       "    <tr>\n",
       "      <th>4995</th>\n",
       "      <td>2.236068</td>\n",
       "      <td>1.147203</td>\n",
       "      <td>4.98</td>\n",
       "      <td>5.150218</td>\n",
       "      <td>2.783254</td>\n",
       "    </tr>\n",
       "    <tr>\n",
       "      <th>4996</th>\n",
       "      <td>2.000000</td>\n",
       "      <td>1.147203</td>\n",
       "      <td>1.42</td>\n",
       "      <td>5.218496</td>\n",
       "      <td>2.634142</td>\n",
       "    </tr>\n",
       "    <tr>\n",
       "      <th>4997</th>\n",
       "      <td>1.732051</td>\n",
       "      <td>1.090508</td>\n",
       "      <td>12.06</td>\n",
       "      <td>5.123735</td>\n",
       "      <td>2.547170</td>\n",
       "    </tr>\n",
       "    <tr>\n",
       "      <th>4998</th>\n",
       "      <td>2.000000</td>\n",
       "      <td>1.189207</td>\n",
       "      <td>1.01</td>\n",
       "      <td>5.218496</td>\n",
       "      <td>2.794964</td>\n",
       "    </tr>\n",
       "    <tr>\n",
       "      <th>4999</th>\n",
       "      <td>2.000000</td>\n",
       "      <td>1.189207</td>\n",
       "      <td>4.16</td>\n",
       "      <td>5.089224</td>\n",
       "      <td>2.847067</td>\n",
       "    </tr>\n",
       "  </tbody>\n",
       "</table>\n",
       "<p>4880 rows × 5 columns</p>\n",
       "</div>"
      ],
      "text/plain": [
       "      bedrooms  bathrooms  lot_acres  sold_price   sqrt_ft\n",
       "0     3.605551   1.333521    2154.00    6.926829  3.181623\n",
       "1     1.414214   1.090508    1707.00    6.728313  3.040292\n",
       "3     2.645751   1.222845     636.67    6.786589  3.121726\n",
       "4     2.000000   1.251033       3.21    6.555674  2.990464\n",
       "5     1.732051   1.189207       1.67    6.516065  3.015768\n",
       "...        ...        ...        ...         ...       ...\n",
       "4995  2.236068   1.147203       4.98    5.150218  2.783254\n",
       "4996  2.000000   1.147203       1.42    5.218496  2.634142\n",
       "4997  1.732051   1.090508      12.06    5.123735  2.547170\n",
       "4998  2.000000   1.189207       1.01    5.218496  2.794964\n",
       "4999  2.000000   1.189207       4.16    5.089224  2.847067\n",
       "\n",
       "[4880 rows x 5 columns]"
      ]
     },
     "execution_count": 103,
     "metadata": {},
     "output_type": "execute_result"
    }
   ],
   "source": [
    "df_new"
   ]
  },
  {
   "cell_type": "code",
   "execution_count": 104,
   "metadata": {},
   "outputs": [
    {
     "data": {
      "text/plain": [
       "array([[3.60555128e+00, 1.33352143e+00, 2.15400000e+03, 6.92682927e+00,\n",
       "        3.18162260e+00],\n",
       "       [1.41421356e+00, 1.09050773e+00, 1.70700000e+03, 6.72831261e+00,\n",
       "        3.04029243e+00],\n",
       "       [2.64575131e+00, 1.22284454e+00, 6.36670000e+02, 6.78658924e+00,\n",
       "        3.12172612e+00],\n",
       "       ...,\n",
       "       [1.73205081e+00, 1.09050773e+00, 1.20600000e+01, 5.12373549e+00,\n",
       "        2.54717020e+00],\n",
       "       [2.00000000e+00, 1.18920712e+00, 1.01000000e+00, 5.21849577e+00,\n",
       "        2.79496394e+00],\n",
       "       [2.00000000e+00, 1.18920712e+00, 4.16000000e+00, 5.08922397e+00,\n",
       "        2.84706745e+00]])"
      ]
     },
     "execution_count": 104,
     "metadata": {},
     "output_type": "execute_result"
    }
   ],
   "source": [
    "X= df_new.to_numpy()\n",
    "X"
   ]
  },
  {
   "cell_type": "code",
   "execution_count": 105,
   "metadata": {},
   "outputs": [
    {
     "data": {
      "text/plain": [
       "(4880, 5)"
      ]
     },
     "execution_count": 105,
     "metadata": {},
     "output_type": "execute_result"
    }
   ],
   "source": [
    "X.shape\n"
   ]
  },
  {
   "cell_type": "markdown",
   "metadata": {},
   "source": [
    "### Normalizing the data by dividing each number in each column by the max. of the column"
   ]
  },
  {
   "cell_type": "code",
   "execution_count": 106,
   "metadata": {},
   "outputs": [],
   "source": [
    "N, D = X.shape\n",
    "for i in range(D):\n",
    "    X[:, i]=X[:, i]/np.amax(X[:, i])"
   ]
  },
  {
   "cell_type": "code",
   "execution_count": 107,
   "metadata": {},
   "outputs": [
    {
     "data": {
      "text/plain": [
       "array([[8.27170192e-01, 8.52044323e-01, 1.00000000e+00, 1.00000000e+00,\n",
       "        9.75469057e-01],\n",
       "       [3.24442842e-01, 6.96772396e-01, 7.92479109e-01, 9.71340904e-01,\n",
       "        9.32137956e-01],\n",
       "       [6.06976979e-01, 7.81328090e-01, 2.95575673e-01, 9.79754080e-01,\n",
       "        9.57105107e-01],\n",
       "       ...,\n",
       "       [3.97359707e-01, 6.96772396e-01, 5.59888579e-03, 7.39694207e-01,\n",
       "        7.80949228e-01],\n",
       "       [4.58831468e-01, 7.59835686e-01, 4.68895079e-04, 7.53374389e-01,\n",
       "        8.56921510e-01],\n",
       "       [4.58831468e-01, 7.59835686e-01, 1.93129062e-03, 7.34711911e-01,\n",
       "        8.72896177e-01]])"
      ]
     },
     "execution_count": 107,
     "metadata": {},
     "output_type": "execute_result"
    }
   ],
   "source": [
    "X"
   ]
  },
  {
   "cell_type": "code",
   "execution_count": 108,
   "metadata": {},
   "outputs": [],
   "source": [
    "#X[3]=X[3]/max(X[3])\n",
    "#X[3]"
   ]
  },
  {
   "cell_type": "code",
   "execution_count": 109,
   "metadata": {},
   "outputs": [],
   "source": [
    "#X[4]=X[4]/max(X[4])\n",
    "#X[4]"
   ]
  },
  {
   "cell_type": "code",
   "execution_count": 110,
   "metadata": {},
   "outputs": [],
   "source": [
    "#X[5]=X[5]/max(X[5])\n",
    "#X[5]"
   ]
  },
  {
   "cell_type": "code",
   "execution_count": 111,
   "metadata": {},
   "outputs": [],
   "source": [
    "#X=np.concatenate((X[1],X[2],X[3],X[4],X[5]), axis=None)"
   ]
  },
  {
   "cell_type": "code",
   "execution_count": 112,
   "metadata": {},
   "outputs": [],
   "source": [
    "y=target_variable.to_numpy()"
   ]
  },
  {
   "cell_type": "code",
   "execution_count": 113,
   "metadata": {},
   "outputs": [
    {
     "data": {
      "text/plain": [
       "array([2.91908624, 3.17867231, 3.09495868, ..., 2.37137371, 2.95557984,\n",
       "       2.69882529])"
      ]
     },
     "execution_count": 113,
     "metadata": {},
     "output_type": "execute_result"
    }
   ],
   "source": [
    "y"
   ]
  },
  {
   "cell_type": "markdown",
   "metadata": {},
   "source": [
    "### Split the data to trainig set and testing set"
   ]
  },
  {
   "cell_type": "code",
   "execution_count": 114,
   "metadata": {},
   "outputs": [],
   "source": [
    "# extract the target variable y which is taxes here and keep all other variables as features in the matrix, call \n",
    "# the features and the target variable y"
   ]
  },
  {
   "cell_type": "code",
   "execution_count": 115,
   "metadata": {},
   "outputs": [
    {
     "data": {
      "text/plain": [
       "(4880, 5)"
      ]
     },
     "execution_count": 115,
     "metadata": {},
     "output_type": "execute_result"
    }
   ],
   "source": [
    "X.shape"
   ]
  },
  {
   "cell_type": "code",
   "execution_count": 116,
   "metadata": {},
   "outputs": [],
   "source": [
    "# tarining set, take all clolumns in the first 4000 rows for both X and y"
   ]
  },
  {
   "cell_type": "code",
   "execution_count": 117,
   "metadata": {},
   "outputs": [],
   "source": [
    "#extract the first 4000 rows including all columns\n",
    "X_train=X[0:4000,:]\n",
    "# y has only one column so extarct the first 4000 rows\n",
    "y_train=y[0:4000]"
   ]
  },
  {
   "cell_type": "code",
   "execution_count": 118,
   "metadata": {},
   "outputs": [],
   "source": [
    "# testing set, take the last 1000 rows and all columns for both X and y"
   ]
  },
  {
   "cell_type": "code",
   "execution_count": 119,
   "metadata": {},
   "outputs": [],
   "source": [
    "X_test=X[4001:,:]\n",
    "\n",
    "y_test=y[4001:]"
   ]
  },
  {
   "cell_type": "code",
   "execution_count": 120,
   "metadata": {},
   "outputs": [
    {
     "data": {
      "text/plain": [
       "(4000, 5)"
      ]
     },
     "execution_count": 120,
     "metadata": {},
     "output_type": "execute_result"
    }
   ],
   "source": [
    "X_train.shape"
   ]
  },
  {
   "cell_type": "code",
   "execution_count": 121,
   "metadata": {},
   "outputs": [
    {
     "data": {
      "text/plain": [
       "(4000,)"
      ]
     },
     "execution_count": 121,
     "metadata": {},
     "output_type": "execute_result"
    }
   ],
   "source": [
    "y_train.shape"
   ]
  },
  {
   "cell_type": "code",
   "execution_count": 122,
   "metadata": {},
   "outputs": [
    {
     "data": {
      "text/plain": [
       "(879, 5)"
      ]
     },
     "execution_count": 122,
     "metadata": {},
     "output_type": "execute_result"
    }
   ],
   "source": [
    "X_test.shape"
   ]
  },
  {
   "cell_type": "code",
   "execution_count": 123,
   "metadata": {},
   "outputs": [
    {
     "data": {
      "text/plain": [
       "(879,)"
      ]
     },
     "execution_count": 123,
     "metadata": {},
     "output_type": "execute_result"
    }
   ],
   "source": [
    "y_test.shape"
   ]
  },
  {
   "cell_type": "markdown",
   "metadata": {},
   "source": [
    "### Linear Regression Model"
   ]
  },
  {
   "cell_type": "code",
   "execution_count": 170,
   "metadata": {},
   "outputs": [],
   "source": [
    "class LinearRegression():\n",
    "    def fit(self, X_train,y_train):\n",
    "        self.w=np.linalg.solve(X.T@X, X.T@y)\n",
    "        \n",
    "    def predict(self, X_test):\n",
    "        \n",
    "        return np.matmul(X, self.w)"
   ]
  },
  {
   "cell_type": "code",
   "execution_count": 171,
   "metadata": {},
   "outputs": [],
   "source": [
    "lr = LinearRegression()"
   ]
  },
  {
   "cell_type": "code",
   "execution_count": 172,
   "metadata": {},
   "outputs": [],
   "source": [
    "lr.fit(X_train, y_train)"
   ]
  },
  {
   "cell_type": "code",
   "execution_count": 173,
   "metadata": {},
   "outputs": [
    {
     "data": {
      "text/plain": [
       "array([ 0.08708102, -1.11398838, -0.57395116,  1.29967098,  3.23278924])"
      ]
     },
     "execution_count": 173,
     "metadata": {},
     "output_type": "execute_result"
    }
   ],
   "source": [
    "lr.w"
   ]
  },
  {
   "cell_type": "code",
   "execution_count": 174,
   "metadata": {},
   "outputs": [
    {
     "data": {
      "text/plain": [
       "array([3.00206905, 3.07304131, 3.38029681, ..., 2.74119601, 2.94262374,\n",
       "       2.96917205])"
      ]
     },
     "execution_count": 174,
     "metadata": {},
     "output_type": "execute_result"
    }
   ],
   "source": [
    "y_hat=lr.predict(X_test)\n",
    "y_hat"
   ]
  },
  {
   "cell_type": "code",
   "execution_count": 175,
   "metadata": {},
   "outputs": [
    {
     "data": {
      "text/plain": [
       "array([3.00206905, 3.07304131, 3.38029681, ..., 2.74119601, 2.94262374,\n",
       "       2.96917205])"
      ]
     },
     "execution_count": 175,
     "metadata": {},
     "output_type": "execute_result"
    }
   ],
   "source": [
    "y_hat"
   ]
  },
  {
   "cell_type": "code",
   "execution_count": 176,
   "metadata": {},
   "outputs": [
    {
     "data": {
      "text/plain": [
       "array([2.87703382, 2.9606987 , 2.85196272, 2.77297803, 2.93013787,\n",
       "       2.96269358, 2.70400679, 2.99756971, 2.63514917, 2.95643551,\n",
       "       2.77870295, 3.0290579 , 2.89287639, 3.02945521, 2.84167337,\n",
       "       2.7558068 , 2.83534036, 2.86588462, 2.93490917, 2.93504643,\n",
       "       2.96359413, 2.84348713, 3.03948631, 2.82405403, 2.95365301,\n",
       "       2.87586921, 2.98144661, 2.81303156, 2.80436727, 2.86096651,\n",
       "       2.82295135, 2.91379265, 2.88184891, 2.90916655, 2.92232109,\n",
       "       2.80661611, 2.83117044, 2.96203425, 2.89471389, 2.9723374 ,\n",
       "       2.28951435, 2.81066337, 2.40599416, 2.48175831, 2.99149589,\n",
       "       2.95614098, 2.93743395, 2.83237832, 2.84483552, 2.39436599,\n",
       "       2.84997369, 2.92862594, 2.88857819, 2.74599265, 2.87994089,\n",
       "       2.98209974, 2.7662525 , 2.99120253, 2.921364  , 2.87458569,\n",
       "       2.99355079, 2.94316435, 2.86197634, 2.89346575, 2.92167502,\n",
       "       2.9640639 , 3.00071557, 2.92961111, 2.91413598, 2.8224199 ,\n",
       "       2.98957458, 3.08066356, 2.56864797, 3.05245933, 2.66401481,\n",
       "       2.8803644 , 2.96805484, 2.92081296, 2.95301005, 2.91414438,\n",
       "       2.92505783, 2.5916536 , 2.85951066, 2.9570442 , 3.01853948,\n",
       "       2.86693736, 2.85912827, 2.92067508, 3.02441433, 2.81041792,\n",
       "       2.71447688, 2.88693606, 2.87992111, 2.87286189, 2.92564146,\n",
       "       2.94637809, 3.03278805, 2.60721912, 2.83331748, 2.88143982,\n",
       "       2.85522078, 2.95569276, 2.77460567, 2.94059895, 2.96836767,\n",
       "       2.78402647, 2.84234864, 2.94075934, 2.86798035, 2.97467704,\n",
       "       2.33017595, 3.0228649 , 2.6386603 , 2.86074655, 2.77352693,\n",
       "       2.4147364 , 2.7376636 , 2.34041882, 2.92717642, 2.68044221,\n",
       "       2.83453174, 2.86979104, 2.93948244, 3.10034968, 2.93617346,\n",
       "       2.92909246, 2.93844094, 2.38036835, 3.03070031, 2.86925422,\n",
       "       3.0339333 , 2.85114411, 2.85156585, 2.82557727, 2.98635304,\n",
       "       2.97851819, 2.92276726, 3.1231417 , 2.72856539, 3.02562663,\n",
       "       2.86669073, 2.80328267, 2.77465997, 3.08531497, 2.86211937,\n",
       "       2.92196038, 2.93186393, 2.76104481, 3.07904907, 2.85867102,\n",
       "       2.76964255, 2.92619094, 2.72574438, 3.01527705, 2.98012475,\n",
       "       2.93928398, 2.94266678, 3.00125445, 2.99180595, 2.97605096,\n",
       "       2.96814847, 2.90061808, 2.98404663, 2.86333078, 2.93277119,\n",
       "       2.89933467, 2.96775965, 2.92823678, 2.84433786, 2.88654995,\n",
       "       2.95022085, 3.02810211, 2.95551068, 2.92273844, 2.90743558,\n",
       "       2.99388024, 2.97506502, 2.83229284, 2.90557584, 2.94068112,\n",
       "       2.83409108, 2.92542133, 2.29129486, 2.90515165, 2.84549811,\n",
       "       2.94520727, 2.0863628 , 2.40599416, 2.91344201, 2.85719488,\n",
       "       2.79127878, 2.9647474 , 2.81495861, 2.81917225, 2.89129126,\n",
       "       2.59666064, 3.00562143, 2.87885467, 3.00123393, 2.88954547,\n",
       "       2.93888875, 2.81118984, 2.84023226, 2.95018229, 2.90141324,\n",
       "       2.46338596, 2.85473243, 2.89095514, 2.94893372, 2.96047863,\n",
       "       2.94274855, 2.98721548, 3.00164465, 2.39494456, 2.96950927,\n",
       "       2.9674766 , 2.99321238, 2.95780098, 2.86617422, 2.88417602,\n",
       "       2.80044258, 2.92217822, 2.91104702, 2.95911927, 2.91175485,\n",
       "       2.91372254, 2.86362219, 2.81983587, 2.96520969, 2.16761601,\n",
       "       2.88921313, 2.99996456, 2.88633729, 2.943876  , 2.87248403,\n",
       "       2.9355185 , 2.92415418, 2.93161414, 2.76755633, 2.92499642,\n",
       "       2.8887897 , 3.02609381, 2.91273424, 3.0047959 , 2.96925564,\n",
       "       2.83023572, 2.82980584, 3.0338942 , 3.00460425, 2.92591459,\n",
       "       2.65447645, 3.01446876, 2.86625996, 2.85491199, 2.88313868,\n",
       "       2.70058446, 2.78716528, 2.88598811, 2.96276719, 3.01261568,\n",
       "       2.87703229, 2.39494456, 2.0053692 , 3.0572093 , 2.48175831,\n",
       "       2.9688992 , 2.81461575, 2.75995194, 2.90967163, 3.02070189,\n",
       "       2.52471752, 2.49867476, 2.84483552, 2.26059648, 2.87525411,\n",
       "       3.03429819, 2.9066519 , 2.81249313, 2.8417569 , 2.98392261,\n",
       "       2.98874213, 2.83253813, 2.86021449, 2.85044897, 2.88330773,\n",
       "       2.86105893, 2.8668502 , 2.9729054 , 2.77858957, 3.00727056,\n",
       "       2.93411939, 2.828213  , 2.89469334, 3.06973024, 3.03872782,\n",
       "       2.77980768, 2.79619572, 2.46803753, 2.87340329, 2.81330051,\n",
       "       2.98811967, 2.79770613, 2.8674835 , 2.92632497, 3.01525112,\n",
       "       2.94970647, 2.98426609, 2.98858954, 2.94673654, 2.80322202,\n",
       "       2.95786157, 2.94750815, 2.91756078, 2.86369185, 2.86354698,\n",
       "       2.96443686, 2.81902826, 2.92064819, 2.85873832, 2.82652368,\n",
       "       2.95467158, 2.88710954, 3.04734317, 2.94163709, 2.64671428,\n",
       "       2.98505286, 2.9418646 , 2.82502403, 2.88375416, 2.88411729,\n",
       "       2.92961111, 3.04308477, 2.96294306, 3.07759166, 3.06719237,\n",
       "       2.85708309, 2.94860746, 2.9632547 , 3.02237142, 2.8683483 ,\n",
       "       2.80661338, 2.98202344, 2.90299899, 2.78199634, 2.74541889,\n",
       "       2.81686936, 2.91189571, 2.9109087 , 3.00542959, 2.92812369,\n",
       "       2.77446246, 2.80092349, 2.97456664, 2.90000695, 2.97427777,\n",
       "       2.96639322, 2.70075266, 2.8833281 , 2.93095874, 2.81282166,\n",
       "       3.01696493, 2.85490229, 2.86125722, 2.44649066, 2.95998916,\n",
       "       2.87946288, 3.09359219, 2.97710639, 2.72428129, 3.00876725,\n",
       "       2.89317117, 2.93587171, 3.06262196, 3.00299421, 2.9875928 ,\n",
       "       2.91761913, 2.82198862, 2.92255041, 2.95249714, 2.84788441,\n",
       "       2.69925057, 2.84285207, 2.92732167, 2.93578526, 3.03097486,\n",
       "       2.9362007 , 2.44778693, 3.0158046 , 2.9141871 , 2.88394631,\n",
       "       2.9254152 , 2.91448113, 2.88295295, 2.75630044, 2.8886847 ,\n",
       "       2.97584658, 3.00239726, 3.08227074, 2.93286428, 2.73400352,\n",
       "       2.52558821, 2.8684015 , 2.94761032, 3.13496841, 3.1163172 ,\n",
       "       2.9879545 , 2.85475428, 2.95526693, 3.01380564, 2.87296094,\n",
       "       2.79040007, 2.87512483, 2.97026679, 2.84313601, 2.90248285,\n",
       "       2.89965463, 2.8763046 , 2.74185241, 2.72226699, 2.84263627,\n",
       "       2.88730984, 2.96494293, 2.59931137, 2.94527034, 2.45375172,\n",
       "       2.86928623, 2.74106403, 2.90914883, 2.79823221, 2.94149016,\n",
       "       2.85814427, 2.97675105, 2.94685315, 3.09345296, 2.87717323,\n",
       "       2.99376716, 2.81671388, 2.88457037, 2.95519518, 2.93663829,\n",
       "       2.95654377, 2.74557623, 2.87848764, 2.89033325, 2.41078943,\n",
       "       2.92314989, 2.44759458, 2.05910683, 2.94911416, 2.80679559,\n",
       "       2.71149333, 2.87369612, 2.82969055, 2.92994842, 2.69811504,\n",
       "       2.88881799, 2.34041882, 2.33774987, 2.96002746, 2.82868599,\n",
       "       2.9106644 , 2.80442042, 3.04584593, 2.49673516, 2.74953342,\n",
       "       2.92567825, 2.67302775, 2.9611911 , 2.88875321, 2.91991595,\n",
       "       2.81802245, 2.94434542, 3.04200701, 2.90932742, 3.01317587,\n",
       "       2.95270161, 2.9815427 , 2.83982713, 2.9664971 , 2.94447051,\n",
       "       2.81435036, 2.82813181, 2.80765448, 2.95019772, 2.95245368,\n",
       "       3.02111403, 2.8695984 , 3.12011762, 2.93454315, 2.94314082,\n",
       "       2.96318554, 2.97760301, 2.98568926, 2.92087361, 2.3679386 ,\n",
       "       3.08698625, 2.78687721, 2.89369096, 2.78899123, 2.91230041,\n",
       "       2.80927899, 3.0239583 , 2.86411189, 2.94861133, 2.87834409,\n",
       "       2.924107  , 2.78704184, 2.88439507, 2.81170573, 2.96207674,\n",
       "       2.96293308, 2.92074678, 2.96253384, 2.8575606 , 2.88900631,\n",
       "       3.03867766, 2.91526209, 2.89228618, 2.88865491, 2.81092489,\n",
       "       2.9226911 , 2.8973346 , 2.82251451, 2.85336616, 2.82691548,\n",
       "       2.87617641, 2.91083811, 2.77188589, 3.00085648, 3.00522185,\n",
       "       2.90691638, 2.94355296, 2.7375573 , 2.66198132, 2.91221528,\n",
       "       2.89774646, 2.73528883, 2.89177867, 2.33774987, 3.04700292,\n",
       "       2.8946537 , 2.77903703, 2.92131995, 2.91182036, 2.79959774,\n",
       "       2.81504428, 2.89466031, 2.44735696, 2.41078943, 2.97846169,\n",
       "       2.84610178, 3.00966176, 2.93397515, 2.23606798, 2.34041882,\n",
       "       2.80064611, 2.86782055, 2.63640791, 2.91672775, 2.78132509,\n",
       "       2.67580977, 2.90543425, 2.8660082 , 2.980637  , 2.90256711,\n",
       "       2.71860109, 2.90932175, 2.85079138, 2.81926762, 2.88275429,\n",
       "       2.88227273, 2.77487514, 2.65183035, 2.78007267, 2.90054572,\n",
       "       2.93265194, 2.8712093 , 2.9633793 , 2.83024432, 2.84027586,\n",
       "       2.90508867, 2.98538301, 2.80138167, 2.92796991, 2.88355664,\n",
       "       2.99624791, 2.72948681, 2.91295063, 3.16933738, 3.00107946,\n",
       "       2.88730984, 2.96753582, 2.75104777, 2.9901148 , 2.92785268,\n",
       "       2.87900719, 2.93788746, 2.94281526, 2.92249824, 2.82669709,\n",
       "       2.77108673, 2.84898373, 2.92773202, 2.70493996, 2.72583495,\n",
       "       2.9345178 , 2.4631588 , 2.85184622, 2.63147053, 2.88161336,\n",
       "       2.84150124, 2.9821933 , 2.81086989, 2.83522494, 2.84027586,\n",
       "       3.0619463 , 3.01195526, 2.86875891, 2.90972189, 2.82884296,\n",
       "       2.98368932, 2.93001181, 2.93898446, 3.11432932, 2.89585069,\n",
       "       2.88885596, 2.82495961, 2.99308693, 2.34041882, 2.98920545,\n",
       "       1.99665035, 2.93140251, 2.88491174, 3.00301861, 2.89221235,\n",
       "       2.80370603, 2.79132422, 2.93584112, 2.90388006, 2.94854682,\n",
       "       3.08247737, 2.78358845, 2.85804237, 2.90897655, 2.8226161 ,\n",
       "       2.98062743, 3.1357733 , 2.60149561, 2.93240128, 2.93268611,\n",
       "       2.96039834, 2.85716352, 2.60721912, 2.00807823, 2.75668913,\n",
       "       2.88189434, 3.00543128, 2.82487254, 3.01268505, 2.98505286,\n",
       "       2.86595783, 2.9815427 , 2.93357421, 2.83465926, 2.97246788,\n",
       "       2.91589026, 3.04887714, 2.92166264, 2.97905759, 2.82681497,\n",
       "       2.82523463, 2.88852082, 2.99747773, 2.86424154, 2.8916212 ,\n",
       "       2.91924609, 2.78416337, 2.83274058, 2.86030149, 3.08007029,\n",
       "       2.89265516, 2.79767538, 2.877308  , 2.86819177, 2.84339646,\n",
       "       2.74076932, 2.90593817, 3.08007029, 2.3719394 , 2.58873883,\n",
       "       2.8862504 , 2.93042021, 2.78212425, 2.81179029, 2.65206748,\n",
       "       2.84725948, 3.08302303, 2.81904947, 3.11686473, 2.163756  ,\n",
       "       2.40599416, 2.50267105, 2.99389995, 2.82584666, 2.7248488 ,\n",
       "       3.0290579 , 2.81705408, 2.00807823, 2.35631709, 2.7885329 ,\n",
       "       2.97879218, 3.00436782, 2.95067042, 2.34041882, 2.29077796,\n",
       "       2.0053692 , 2.76754527, 2.99274467, 2.84673922, 2.89639855,\n",
       "       2.13894262, 2.89133566, 2.98964485, 2.35466417, 2.97153346,\n",
       "       3.017621  , 2.96759379, 2.9435497 , 2.83803315, 2.96532317,\n",
       "       2.76729591, 2.98640792, 2.34757896, 2.91500915, 2.40599416,\n",
       "       2.86085097, 2.33774987, 2.78902646, 2.82695707, 2.86893554,\n",
       "       2.80485997, 2.86703707, 2.88595963, 2.82868599, 2.82992711,\n",
       "       2.90970702, 2.70894227, 2.86884489, 2.81794982, 2.80101591,\n",
       "       2.84665505, 2.81469167, 2.87686677, 2.80258374, 2.90014171,\n",
       "       2.99699106, 2.87889128, 2.75946388, 2.79298798, 2.84639172,\n",
       "       3.01770329, 2.99504981, 3.06812333, 2.81628446, 2.84640741,\n",
       "       2.85279756, 2.91396575, 2.90863248, 2.80377854, 2.74782304,\n",
       "       2.85996857, 2.80795521, 2.83982881, 3.01389032, 2.82719264,\n",
       "       2.93149188, 2.42160017, 2.9594941 , 2.96029232, 3.11570147,\n",
       "       2.96371302, 2.8072098 , 2.94066732, 2.95984158, 3.04916799,\n",
       "       3.02557277, 2.9135823 , 2.80331942, 2.89763643, 2.91428304,\n",
       "       2.86109557, 2.99742023, 2.5484258 , 2.94070544, 3.0109474 ,\n",
       "       2.87951695, 2.88852827, 2.92873282, 2.94541791, 2.88380767,\n",
       "       2.82643695, 2.72717972, 2.79869906, 3.07007075, 2.77277968,\n",
       "       2.79923312, 2.85364286, 2.90560158, 2.91435304, 2.8158519 ,\n",
       "       2.8129356 , 2.93690368, 2.78054474, 2.87741364, 2.97146503,\n",
       "       3.01289309, 2.84830214, 3.03047565, 2.83864213, 2.9198144 ,\n",
       "       2.75046666, 2.95615428, 2.41694613, 2.97984443, 2.88729041,\n",
       "       2.9686409 , 2.94491845, 3.02123264, 3.00987295, 2.91614545,\n",
       "       2.84180784, 2.82232965, 2.94353534, 2.86149919, 2.85612317,\n",
       "       2.88602334, 2.73787612, 2.93563494, 2.91190838, 2.88506353,\n",
       "       2.98440127, 2.83331748, 2.80883791, 2.84975918, 2.75497542,\n",
       "       2.74603087, 2.86454968, 2.90334345, 2.80734717, 3.0248251 ,\n",
       "       2.96738715, 2.80637456, 3.0290595 , 2.8459555 , 2.95277252,\n",
       "       2.98090664, 2.86694757, 2.92306558, 3.06873588, 2.87615338,\n",
       "       2.91145678, 2.73582205, 2.95181913, 2.81471756, 2.90141324,\n",
       "       2.91823475, 3.0279168 , 2.91523973, 2.90621025, 2.83598643,\n",
       "       2.98640969, 2.76239444, 2.86730703, 2.85498638, 2.58873883,\n",
       "       2.88671237, 2.37137371, 2.95557984, 2.69882529])"
      ]
     },
     "execution_count": 176,
     "metadata": {},
     "output_type": "execute_result"
    }
   ],
   "source": [
    "y_test"
   ]
  },
  {
   "cell_type": "code",
   "execution_count": 181,
   "metadata": {},
   "outputs": [
    {
     "data": {
      "text/plain": [
       "3.399406997802867"
      ]
     },
     "execution_count": 181,
     "metadata": {},
     "output_type": "execute_result"
    }
   ],
   "source": [
    "y_hat[4]"
   ]
  },
  {
   "cell_type": "code",
   "execution_count": 182,
   "metadata": {},
   "outputs": [
    {
     "data": {
      "text/plain": [
       "2.930137874433455"
      ]
     },
     "execution_count": 182,
     "metadata": {},
     "output_type": "execute_result"
    }
   ],
   "source": [
    "y_test[4]"
   ]
  },
  {
   "cell_type": "code",
   "execution_count": 179,
   "metadata": {},
   "outputs": [],
   "source": [
    "def OLS(Y, Y_hat, N):\n",
    "    return (1/(2*N))*np.sum((Y-Y_hat)**2)\n",
    "\n",
    "def R2(Y,Y_hat):\n",
    "    return(1-(np.sum((Y-Y_hat)**2)/np.sum((Y-np.mean(Y))**2)))"
   ]
  },
  {
   "cell_type": "markdown",
   "metadata": {},
   "source": [
    "### KNN Regression Model"
   ]
  },
  {
   "cell_type": "code",
   "execution_count": 133,
   "metadata": {},
   "outputs": [],
   "source": [
    "class KNNRegressor():\n",
    "    def fit(self, X,y):\n",
    "        self.X=X\n",
    "        self.y=y\n",
    "    \n",
    "    def predict(self,X,K,epsilon=1e-3):\n",
    "    \n",
    "        N=len(X)\n",
    "        y_hat=np.zeros(N)\n",
    "    \n",
    "        for i in range(N):\n",
    "            dist2=np.sum((self.X-X[i])**2, axis=1)\n",
    "        \n",
    "            idxt=np.argsort(dist2)[:K]  #indexing from a list ( asking to extract the points surrounds the particular K not all pts)\n",
    "        \n",
    "            gamma_k=np.exp(-dist2[idxt])/(np.exp(-dist2[idxt]).sum()+epsilon)\n",
    "        \n",
    "            y_hat[i]= gamma_k.dot(self.y[idxt])\n",
    "        \n",
    "        return y_hat"
   ]
  },
  {
   "cell_type": "code",
   "execution_count": 134,
   "metadata": {},
   "outputs": [],
   "source": [
    "knn=KNNRegressor()"
   ]
  },
  {
   "cell_type": "code",
   "execution_count": 152,
   "metadata": {},
   "outputs": [],
   "source": [
    "knn.fit(X_train,y_train)\n",
    "y_hat=knn.predict(X_test,7)"
   ]
  },
  {
   "cell_type": "code",
   "execution_count": 184,
   "metadata": {},
   "outputs": [
    {
     "data": {
      "text/plain": [
       "3.399406997802867"
      ]
     },
     "execution_count": 184,
     "metadata": {},
     "output_type": "execute_result"
    }
   ],
   "source": [
    "y_hat[4]"
   ]
  },
  {
   "cell_type": "code",
   "execution_count": 185,
   "metadata": {},
   "outputs": [
    {
     "data": {
      "text/plain": [
       "2.930137874433455"
      ]
     },
     "execution_count": 185,
     "metadata": {},
     "output_type": "execute_result"
    }
   ],
   "source": [
    "y_test[4]"
   ]
  },
  {
   "cell_type": "code",
   "execution_count": 155,
   "metadata": {},
   "outputs": [
    {
     "data": {
      "text/plain": [
       "2547.312494559196"
      ]
     },
     "execution_count": 155,
     "metadata": {},
     "output_type": "execute_result"
    }
   ],
   "source": [
    "y_hat.sum()"
   ]
  },
  {
   "cell_type": "code",
   "execution_count": 156,
   "metadata": {},
   "outputs": [
    {
     "data": {
      "text/plain": [
       "2512.665731003218"
      ]
     },
     "execution_count": 156,
     "metadata": {},
     "output_type": "execute_result"
    }
   ],
   "source": [
    "y_test.sum()"
   ]
  },
  {
   "cell_type": "code",
   "execution_count": 157,
   "metadata": {},
   "outputs": [
    {
     "data": {
      "text/plain": [
       "1.0"
      ]
     },
     "execution_count": 157,
     "metadata": {},
     "output_type": "execute_result"
    }
   ],
   "source": [
    "np.mean(abs(y_hat - y_test) < 1000)"
   ]
  },
  {
   "cell_type": "code",
   "execution_count": 158,
   "metadata": {},
   "outputs": [],
   "source": [
    "def OLS(Y, Y_hat, N):\n",
    "    return (1/(2*N))*np.sum((Y-Y_hat)**2)\n",
    "\n",
    "def R2(Y,Y_hat):\n",
    "    return(1-(np.sum((Y-Y_hat)**2)/np.sum((Y-np.mean(Y))**2)))"
   ]
  },
  {
   "cell_type": "code",
   "execution_count": 159,
   "metadata": {},
   "outputs": [
    {
     "data": {
      "text/plain": [
       "-0.10502034970760477"
      ]
     },
     "execution_count": 159,
     "metadata": {},
     "output_type": "execute_result"
    }
   ],
   "source": [
    "r2 = R2(y_test,y_hat)\n",
    "r2"
   ]
  },
  {
   "cell_type": "code",
   "execution_count": 160,
   "metadata": {},
   "outputs": [],
   "source": [
    "#plt. figure(figsize=(12,5))\n",
    "\n",
    "#plt. scatter(X_train,y_train)\n",
    "\n",
    "#plt.plot(X_test,y_hat, color='#FF0000', linewidth=3) # use g or r or b or m or k \n",
    "\n",
    "#plt.plot(X_test,y_hat, color='#00FF00', linewidth=3) # use g or r or b or m or k "
   ]
  },
  {
   "cell_type": "markdown",
   "metadata": {},
   "source": [
    "### The coefficient of corrlaiton is really low, about (-0.07) which means that linear regression is not the working properly to predict the values. In that case, we need to do some feature engineering!!"
   ]
  },
  {
   "cell_type": "code",
   "execution_count": 161,
   "metadata": {},
   "outputs": [],
   "source": [
    "# square the taxes, didn't work \n",
    "# take the sqrt of taxes\n",
    "# take the sqrt of all other variables\n",
    "# change all integers 64 to floats 64\n",
    "# take square root and cubic root \n",
    "# delete the outliers taxes and no. of bedrooms\n",
    "# delete lot acres, not correlated in the corrlation matrix\n",
    "# square root didn't improve the R squared \n",
    "# keep taxes as they are and square root others"
   ]
  },
  {
   "cell_type": "code",
   "execution_count": 162,
   "metadata": {},
   "outputs": [
    {
     "data": {
      "text/plain": [
       "<AxesSubplot:>"
      ]
     },
     "execution_count": 162,
     "metadata": {},
     "output_type": "execute_result"
    },
    {
     "data": {
      "image/png": "[encoded data removed]",
      "text/plain": [
       "<Figure size 432x288 with 1 Axes>"
      ]
     },
     "metadata": {
      "needs_background": "light"
     },
     "output_type": "display_data"
    }
   ],
   "source": [
    "df[['sold_price','taxes']].plot.box()"
   ]
  },
  {
   "cell_type": "code",
   "execution_count": 163,
   "metadata": {},
   "outputs": [
    {
     "data": {
      "text/plain": [
       "<AxesSubplot:title={'center':'sold price vs taxes'}, xlabel='sold_price', ylabel='taxes'>"
      ]
     },
     "execution_count": 163,
     "metadata": {},
     "output_type": "execute_result"
    },
    {
     "data": {
      "image/png": "[encoded data removed]",
      "text/plain": [
       "<Figure size 432x288 with 1 Axes>"
      ]
     },
     "metadata": {
      "needs_background": "light"
     },
     "output_type": "display_data"
    }
   ],
   "source": [
    "data.plot.scatter(x = 'sold_price', y = 'taxes',\n",
    "                  color = 'sandybrown', title = 'sold price vs taxes')"
   ]
  },
  {
   "cell_type": "code",
   "execution_count": 164,
   "metadata": {},
   "outputs": [
    {
     "data": {
      "text/plain": [
       "<AxesSubplot:title={'center':'bedrooms vs taxes'}, xlabel='bedrooms', ylabel='taxes'>"
      ]
     },
     "execution_count": 164,
     "metadata": {},
     "output_type": "execute_result"
    },
    {
     "data": {
      "image/png": "[encoded data removed]",
      "text/plain": [
       "<Figure size 432x288 with 1 Axes>"
      ]
     },
     "metadata": {
      "needs_background": "light"
     },
     "output_type": "display_data"
    }
   ],
   "source": [
    "data.plot.scatter(x = 'bedrooms', y = 'taxes',\n",
    "                  color = 'sandybrown', title = 'bedrooms vs taxes')"
   ]
  },
  {
   "cell_type": "code",
   "execution_count": 165,
   "metadata": {},
   "outputs": [
    {
     "data": {
      "text/plain": [
       "<AxesSubplot:title={'center':'sqrt_ft vs taxes'}, xlabel='sqrt_ft', ylabel='taxes'>"
      ]
     },
     "execution_count": 165,
     "metadata": {},
     "output_type": "execute_result"
    },
    {
     "data": {
      "image/png": "[encoded data removed]",
      "text/plain": [
       "<Figure size 432x288 with 1 Axes>"
      ]
     },
     "metadata": {
      "needs_background": "light"
     },
     "output_type": "display_data"
    }
   ],
   "source": [
    "data.plot.scatter(x = 'sqrt_ft', y = 'taxes',\n",
    "                  color = 'sandybrown', title = 'sqrt_ft vs taxes')"
   ]
  },
  {
   "cell_type": "code",
   "execution_count": 166,
   "metadata": {},
   "outputs": [],
   "source": [
    "def diff(y_test, y_hat):\n",
    "    diff= np.zeros(y_hat.size)\n",
    "    for i in range(len(y_hat)):\n",
    "        diff[i]=(abs(y_test[i]-y_hat[i])/y_test[i])*100\n",
    "    return diff\n",
    "\n",
    "diff1=diff(y_test, y_hat)\n",
    "#diff2=diff(y1_test,y1_hat)"
   ]
  },
  {
   "cell_type": "code",
   "execution_count": 167,
   "metadata": {},
   "outputs": [
    {
     "data": {
      "text/plain": [
       "array([4.18378419e+00, 1.98324929e+00, 1.12401506e+00, 5.65946306e+00,\n",
       "       2.94586921e-01, 1.41267989e+00, 3.38163268e+00, 3.06759832e+00,\n",
       "       1.25845204e+01, 3.42802974e+00, 1.34262547e+00, 2.07069586e+00,\n",
       "       1.62388642e+00, 2.89279818e+00, 6.64634056e-01, 2.65089001e+00,\n",
       "       1.77993043e-01, 1.43730569e+00, 1.57917057e+00, 1.88081692e+00,\n",
       "       1.10428285e+00, 3.48380621e+00, 4.52397380e+00, 3.09391244e+00,\n",
       "       9.51736755e-01, 2.34843441e-01, 4.06134428e+00, 2.15751633e-01,\n",
       "       9.14019147e-01, 2.49523384e+00, 3.48585243e+00, 1.09952326e+00,\n",
       "       2.14927616e-01, 3.00598574e-01, 9.58937725e-01, 1.65554617e-01,\n",
       "       3.53610053e-01, 5.62428781e+00, 1.76585966e+00, 3.43336034e+00,\n",
       "       3.33370289e+01, 1.38427816e+00, 2.27304961e+01, 2.13440683e+01,\n",
       "       2.86106567e+00, 2.23855178e+00, 1.85229529e+00, 9.03814336e+00,\n",
       "       1.65713025e+00, 2.50125501e+01, 2.12326262e+00, 1.00938656e+00,\n",
       "       4.93032195e-01, 3.72470892e+00, 3.11951584e+00, 4.70101577e+00,\n",
       "       1.50665885e+00, 3.24503557e+00, 2.34974295e+00, 1.54652224e+00,\n",
       "       5.03657597e-01, 4.37691620e+00, 1.24274053e+00, 9.11896821e-01,\n",
       "       2.18505953e+00, 1.23491512e+00, 3.13232247e+00, 3.76915503e+00,\n",
       "       3.81691240e+00, 1.18066514e-01, 6.30871028e-01, 4.84884713e+00,\n",
       "       1.54823607e+01, 2.94509862e+00, 4.34227601e+00, 1.02653343e+00,\n",
       "       2.62236858e-01, 2.20407624e+00, 2.66675751e+00, 1.98597680e+00,\n",
       "       1.10830138e+00, 9.78727837e+00, 1.52338298e+00, 9.99855264e-01,\n",
       "       7.61879729e+00, 3.63341477e+00, 3.27954923e+00, 1.38963080e+00,\n",
       "       4.53434959e+00, 1.74121399e+00, 4.26008521e+00, 5.99115794e-01,\n",
       "       1.42302130e-01, 4.90832163e+00, 7.54702016e-01, 1.47713819e+00,\n",
       "       2.08226508e+00, 7.77056584e+00, 1.35766651e+00, 3.20148897e-01,\n",
       "       1.89195680e+00, 1.29892191e+00, 5.44370953e+00, 4.18152291e-01,\n",
       "       5.52835133e-01, 7.87333936e+00, 3.13932784e+00, 1.06469042e+00,\n",
       "       1.48254378e+00, 3.01212755e+00, 2.64048919e+01, 4.24339936e+00,\n",
       "       9.99470479e+00, 2.36393988e+00, 1.08392667e+01, 2.02488378e+01,\n",
       "       6.42219312e+00, 2.44941347e+01, 7.38672558e-01, 9.05570106e+00,\n",
       "       4.98423348e+00, 6.04382116e-01, 4.38432018e-01, 4.76912196e+00,\n",
       "       1.82745265e+00, 1.33272864e+00, 4.66900661e+00, 1.60539284e+01,\n",
       "       7.74824090e-01, 1.38185255e+00, 2.74403177e+00, 1.22142788e-01,\n",
       "       9.31686974e-01, 1.80483469e+00, 5.42543017e+00, 2.19623677e+00,\n",
       "       2.62515158e-02, 4.77321660e+00, 5.06275698e+00, 5.03258620e+00,\n",
       "       2.72043954e+00, 3.09221461e+00, 4.19757578e+00, 1.90237790e+00,\n",
       "       1.24134293e+00, 1.15501084e+00, 2.53169034e-01, 3.69119205e+00,\n",
       "       6.65103457e+00, 4.12083668e+00, 7.35359457e+00, 6.38592495e-01,\n",
       "       8.78433127e+00, 8.88860809e-01, 5.72107747e-01, 3.75424265e-01,\n",
       "       1.83083673e+00, 7.66499306e+00, 2.93775680e+00, 4.33613156e+00,\n",
       "       4.32603774e+00, 5.07847576e-01, 5.47254286e+00, 1.78524610e+00,\n",
       "       1.80089721e+00, 2.95543652e+00, 1.97549449e+00, 3.33938392e-01,\n",
       "       2.19332310e+00, 6.97704332e-01, 3.30216565e+00, 1.32745307e+01,\n",
       "       2.36081094e+00, 1.38243307e+00, 1.91865302e+00, 1.20859504e+00,\n",
       "       1.26240143e+00, 4.29521095e+00, 2.57223445e-01, 3.07417881e+00,\n",
       "       6.96758486e-01, 1.98538822e-01, 2.49395082e+01, 1.67158222e-01,\n",
       "       1.12767281e+00, 1.10653438e+00, 3.55663427e+01, 1.68690686e+01,\n",
       "       1.90702871e+00, 1.92645150e+00, 3.29088349e+00, 6.55203503e-01,\n",
       "       5.87177623e+00, 1.97813661e+00, 5.61153006e-01, 5.48991010e+00,\n",
       "       3.28815607e+00, 8.17409746e-01, 8.82016992e-01, 1.42821084e+00,\n",
       "       4.38931966e-01, 4.94131920e-01, 6.86143991e-01, 9.31665378e-01,\n",
       "       2.85641647e-01, 1.65623751e+01, 2.65636113e-01, 2.75947229e+00,\n",
       "       2.56277348e+00, 1.81575585e+00, 4.99696089e+00, 5.67566057e-01,\n",
       "       1.53908824e-01, 1.79157624e+01, 7.65747239e+00, 1.98434730e+00,\n",
       "       1.98623336e+00, 3.09868119e+00, 2.29485884e+00, 1.40423170e+00,\n",
       "       3.14662368e+00, 1.79775758e+00, 2.47716381e+00, 2.58193804e-01,\n",
       "       8.87906271e-01, 2.09364629e+00, 2.31598533e+00, 2.42306311e+00,\n",
       "       6.25539443e-01, 3.28689447e+01, 1.67435025e+00, 3.22044105e+00,\n",
       "       4.89930317e-01, 2.28615488e+00, 4.71317086e+00, 1.46013087e+01,\n",
       "       3.63890170e+00, 4.83323159e-01, 6.92900614e+00, 2.23555697e-01,\n",
       "       9.26668733e-01, 1.56532558e+00, 3.07368129e+00, 1.29422421e+00,\n",
       "       1.36541467e-01, 3.31508759e+00, 9.92791438e+00, 5.82116916e+00,\n",
       "       2.31500250e+00, 5.17769095e-01, 9.80690565e+00, 4.17674763e+00,\n",
       "       1.06317205e+00, 2.59327165e-01, 8.13591784e-01, 7.05565432e+00,\n",
       "       3.81720341e+00, 2.22413803e-02, 1.61596656e+00, 2.10319126e-01,\n",
       "       2.32833873e+00, 1.76644919e+01, 4.61373932e+01, 3.41228672e+00,\n",
       "       1.55311084e+01, 2.30650192e+00, 5.82076889e+00, 3.10931939e-01,\n",
       "       6.85037549e-01, 1.84547865e+00, 1.29373434e+01, 1.47489449e+01,\n",
       "       7.07207564e-01, 2.56090163e+01, 4.50648952e-01, 9.58769774e+00,\n",
       "       3.56297766e-02, 3.33470815e+00, 3.62204235e-01, 1.48131210e+00,\n",
       "       3.34564768e+00, 2.50741579e+00, 2.95303561e+00, 1.82208398e+00,\n",
       "       2.66166605e+00, 3.69858778e+00, 2.69694513e+00, 2.34595306e+00,\n",
       "       2.66785995e+00, 2.21199048e+00, 3.72809729e-01, 2.00036050e+00,\n",
       "       3.94611284e+00, 1.97299587e+00, 2.60121501e+00, 2.05299610e+00,\n",
       "       2.84444724e+00, 1.80733380e+01, 6.97483872e-01, 2.49481767e+00,\n",
       "       7.96356139e-02, 4.65142989e+00, 1.27193142e+00, 1.47795581e-01,\n",
       "       1.55753713e+00, 1.83815504e+00, 1.52974206e-01, 2.32714704e+00,\n",
       "       8.33016565e-02, 3.18818480e+00, 1.12151987e+01, 8.75430146e-01,\n",
       "       6.83684853e-01, 3.63863660e+00, 4.36271770e+00, 1.31012256e+00,\n",
       "       3.46018646e+00, 2.12538338e+00, 2.20509753e+00, 5.07924242e+00,\n",
       "       5.57532001e-01, 1.91498975e+00, 8.72807502e-01, 4.22378088e+00,\n",
       "       1.50439240e+01, 2.44717309e+00, 7.84650775e-01, 4.77407893e+00,\n",
       "       1.84552837e+00, 6.27550765e-01, 3.72253209e+00, 3.28279417e+00,\n",
       "       2.14506716e+00, 4.06384027e+00, 1.95205305e+00, 2.83909756e+00,\n",
       "       8.38810878e-01, 7.48413852e-01, 1.68639593e+00, 7.36212187e-01,\n",
       "       4.36491891e+00, 4.74706875e+00, 1.43570351e+00, 5.03481129e+00,\n",
       "       8.48792493e+00, 2.83011575e+00, 3.92094451e-01, 1.12106221e+00,\n",
       "       1.64829144e+00, 1.98084853e+00, 3.35679547e+00, 3.78139971e+00,\n",
       "       6.51461427e-01, 5.29396791e-01, 3.00879781e+00, 1.92864734e+00,\n",
       "       2.33424352e+00, 2.63557788e+00, 3.74984295e+00, 2.48590558e-01,\n",
       "       1.86967583e+00, 2.27084489e+00, 7.23838611e-02, 1.48508917e+01,\n",
       "       7.36179944e-01, 1.03309519e+00, 8.80982414e+00, 2.38955282e+00,\n",
       "       5.22281880e+00, 5.31505384e+00, 1.78025667e+00, 1.14054962e+00,\n",
       "       5.43842964e+00, 4.91591946e-01, 1.80187601e+00, 1.29473741e+00,\n",
       "       3.64655806e+00, 3.39925768e+00, 2.31930634e+00, 1.21706569e+00,\n",
       "       7.28790441e+00, 2.46163194e+00, 1.23777215e+00, 3.84530580e-01,\n",
       "       4.34356372e+00, 5.26695238e-03, 1.74298195e+01, 3.22618195e+00,\n",
       "       4.07661040e-01, 2.00153610e+00, 4.03230020e-02, 1.38002378e+00,\n",
       "       5.05252989e-01, 6.01166457e+00, 2.26671251e+00, 1.72646585e+00,\n",
       "       1.41564296e+00, 5.98277618e+00, 1.10754413e+00, 4.79749350e+00,\n",
       "       1.30913402e+01, 4.15259224e+00, 9.27558592e-02, 6.47449824e+00,\n",
       "       5.43534544e+00, 1.53878295e+00, 1.23311604e+00, 3.48417020e+00,\n",
       "       1.62316922e+00, 1.02422617e+00, 2.41294269e+00, 4.43843979e+00,\n",
       "       3.17630604e-01, 4.79413415e-01, 2.49729058e+00, 3.62753120e-01,\n",
       "       3.18732803e-01, 8.06407941e+00, 3.29122934e+00, 8.59910442e-01,\n",
       "       1.58800894e+00, 2.58795916e+00, 8.82494936e+00, 5.28393686e-01,\n",
       "       1.73010013e+01, 1.16997805e+00, 3.90611254e+00, 2.20591099e+00,\n",
       "       3.22555584e+00, 1.28099872e+00, 2.59051009e+00, 1.17326180e-01,\n",
       "       5.94692113e-01, 4.21181716e+00, 4.23520573e-01, 1.73521052e+00,\n",
       "       3.43613927e+00, 9.99210275e-01, 9.15339792e-02, 2.24595472e+00,\n",
       "       3.27155454e+00, 3.01679823e+00, 1.20254875e+00, 1.82917977e+00,\n",
       "       1.43984940e+01, 4.77842997e-01, 1.84675879e+01, 3.67155635e+01,\n",
       "       6.32386047e-01, 1.66149283e+00, 4.14989772e+00, 4.05417416e-01,\n",
       "       3.17762700e+00, 8.20546375e-01, 2.81452372e+00, 7.50516875e-01,\n",
       "       2.72064337e+01, 2.35585899e+01, 3.16618869e+00, 4.85588241e+00,\n",
       "       2.41506340e+00, 4.28371181e+00, 2.91488263e+00, 1.46590393e+01,\n",
       "       5.12685123e+00, 2.53022283e+00, 7.39439580e+00, 3.15953776e-01,\n",
       "       1.57139763e+00, 7.39675618e-01, 1.07350939e+00, 8.88288093e-01,\n",
       "       2.46849791e+00, 8.29089846e-01, 2.00349736e+00, 1.22804303e-01,\n",
       "       2.06252553e-01, 1.49204857e+00, 5.45761485e+00, 1.60155204e+01,\n",
       "       3.86684625e+00, 4.65895070e+00, 2.24571137e+00, 7.92463964e-01,\n",
       "       5.30925111e+00, 2.52793436e+00, 8.90009639e-01, 4.62602731e+00,\n",
       "       5.28277044e-01, 1.68472454e+00, 4.32734031e+00, 1.75413176e+00,\n",
       "       2.79005930e+00, 1.27497790e+00, 1.67173274e+01, 5.61545033e+00,\n",
       "       1.31883675e+00, 3.58724498e+00, 3.08625846e+00, 7.87753689e-01,\n",
       "       3.19624690e+00, 4.56860030e+00, 6.95089727e-01, 3.36816919e-01,\n",
       "       2.46150018e+00, 3.75371286e+00, 3.88831443e+00, 1.95131824e+00,\n",
       "       1.01817599e+01, 8.37594073e-01, 2.16776826e+00, 3.53682147e-01,\n",
       "       4.97433658e-01, 1.14386342e+00, 1.20403263e+00, 1.10444422e+00,\n",
       "       9.44970192e-01, 3.88754975e+00, 1.33933945e+00, 1.31170631e+00,\n",
       "       1.66335465e-02, 2.54315310e-01, 2.58267826e+00, 4.07075961e-01,\n",
       "       7.21665018e-01, 4.96405839e+00, 2.71025476e+00, 4.62172067e+00,\n",
       "       1.39069493e+00, 2.22582654e+00, 5.30012359e+00, 1.57953570e+00,\n",
       "       6.42617438e+00, 1.20652989e+01, 5.86401241e-01, 1.24281996e+00,\n",
       "       4.98605627e+00, 4.48497881e-01, 2.11291017e+01, 7.37100813e+00,\n",
       "       4.99070974e+00, 1.19380970e+00, 2.90850424e+00, 3.04325100e+00,\n",
       "       8.88712353e-01, 3.86829623e+00, 1.46702029e+00, 2.03623849e+01,\n",
       "       1.71407660e+01, 1.72960621e-01, 3.74704909e-01, 1.07912307e+00,\n",
       "       2.13249087e+00, 3.60059611e+01, 2.24478637e+01, 2.08972529e+00,\n",
       "       1.34110541e+01, 9.44089530e+00, 1.97797369e+00, 4.57872324e+00,\n",
       "       8.46759705e+00, 2.67982217e-01, 1.40460042e+00, 2.95835980e+00,\n",
       "       5.35213666e-01, 1.00173775e+01, 1.02856169e+00, 2.76879860e+00,\n",
       "       3.18927027e+00, 2.67586913e+00, 4.74205554e+00, 5.36048663e+00,\n",
       "       6.46253353e+00, 2.28259957e+00, 1.42295729e+00, 3.00396495e+00,\n",
       "       2.84247047e+00, 5.08717636e-02, 7.13686050e-01, 1.50662570e-01,\n",
       "       2.30459409e+00, 2.11570517e+00, 3.75578901e+00, 1.11297636e+00,\n",
       "       4.30123239e-01, 1.29001777e+00, 4.56728586e+00, 2.85610956e+00,\n",
       "       4.42006573e+00, 1.73508259e-01, 3.08422626e-02, 2.19499503e+00,\n",
       "       4.62470475e+00, 2.12731447e+00, 1.14633222e-01, 2.27475246e+00,\n",
       "       4.20510849e+00, 3.07577075e+00, 9.83293261e-02, 2.12865145e+00,\n",
       "       3.81942589e+00, 3.63420269e-01, 2.73226343e-01, 7.58123415e+00,\n",
       "       1.12868839e+01, 2.71401283e-01, 1.65731246e+01, 1.30758368e+00,\n",
       "       8.59802553e+00, 6.69685559e-01, 1.64894462e+00, 1.10941958e+00,\n",
       "       5.34843292e+00, 2.28237659e+00, 4.49005674e+00, 5.49941828e+00,\n",
       "       2.73778705e+00, 1.82136093e+00, 1.48323155e+00, 1.75151545e+00,\n",
       "       2.18454283e+00, 2.31043929e+00, 2.32318381e+00, 5.58994035e+00,\n",
       "       2.30638130e+00, 2.73146171e+00, 3.41518593e+00, 2.90019547e+00,\n",
       "       2.46434527e+01, 6.47346958e+00, 4.62954883e+01, 1.28152344e+00,\n",
       "       8.97011118e+00, 1.73913917e+00, 2.17041247e+00, 4.15102907e+00,\n",
       "       2.41178457e+00, 1.27625706e+00, 2.28068097e+00, 8.15672775e-01,\n",
       "       3.75405303e+00, 5.95795381e+00, 4.04074531e+00, 1.14521463e+00,\n",
       "       1.97746162e+00, 1.30201259e+00, 4.61256853e+00, 9.65689854e+00,\n",
       "       1.89179733e+00, 3.16781530e-01, 2.49615091e+00, 1.09939398e+00,\n",
       "       9.78423706e+00, 4.74643781e+01, 4.53959961e+00, 2.46391807e-01,\n",
       "       3.74613925e+00, 3.27204283e+00, 8.87268576e-01, 1.81701038e+00,\n",
       "       1.95092036e+00, 1.85823840e+00, 1.46231203e+00, 1.30816255e+00,\n",
       "       2.10128257e+00, 2.31894287e+00, 3.01138332e+00, 5.82392079e+00,\n",
       "       2.21394604e+00, 5.05007372e+00, 6.00473474e+00, 8.72155456e-01,\n",
       "       5.54011783e+00, 2.10368928e+00, 1.64245557e+00, 9.14241834e-01,\n",
       "       6.86616669e+00, 2.46702285e-01, 6.18256999e-02, 3.76492722e+00,\n",
       "       1.58074307e+00, 4.78469078e+00, 2.14807665e+00, 3.42367618e+00,\n",
       "       2.68468503e+00, 2.87195689e+00, 1.94554290e+00, 4.67591393e+00,\n",
       "       1.65204558e+01, 1.01346512e+01, 4.90987788e-01, 1.21649564e-01,\n",
       "       2.66337593e+00, 1.83291556e+00, 1.27821900e+01, 3.89331004e+00,\n",
       "       5.49938163e+00, 3.09437615e+00, 5.61607669e+00, 3.37367648e+01,\n",
       "       2.26247504e+01, 1.58491164e+01, 4.86406001e+00, 2.60112124e+00,\n",
       "       6.51160066e+00, 2.54766167e+00, 2.63543766e-01, 4.55232696e+01,\n",
       "       2.59829321e+01, 2.32735226e+00, 2.35667930e+00, 3.13201371e+00,\n",
       "       8.49761457e-01, 2.43370590e+01, 2.58969479e+01, 4.38532070e+01,\n",
       "       5.27287098e+00, 1.41671641e+00, 4.27157976e+00, 1.50809681e+00,\n",
       "       3.69424077e+01, 1.21441153e+00, 6.48720862e+00, 1.73753226e+01,\n",
       "       8.32366569e-01, 6.80178564e-01, 7.70029061e-01, 8.93287620e-01,\n",
       "       2.02174502e+00, 2.94868012e-01, 8.16371388e-01, 4.12132964e+00,\n",
       "       2.38974965e+01, 6.41842798e-01, 2.14196831e+01, 9.33038137e-01,\n",
       "       9.48061504e+00, 5.03050613e+00, 4.26160009e-02, 2.15685015e+00,\n",
       "       1.70632649e+00, 2.17841676e+00, 1.89460474e+00, 3.01150280e+00,\n",
       "       6.48219378e-01, 1.07971504e+00, 8.53826776e+00, 4.22746094e+00,\n",
       "       3.57341321e+00, 5.95312616e+00, 5.21080640e-01, 7.08179162e+00,\n",
       "       2.06810459e-03, 3.47364650e+00, 1.65199829e+00, 3.26433774e+00,\n",
       "       5.64342836e-01, 4.30613702e+00, 3.53996769e+00, 5.19891336e-01,\n",
       "       1.38464070e+00, 1.62125938e+00, 1.44055364e+01, 1.33927622e+00,\n",
       "       1.89962050e+00, 6.53110969e+00, 8.80304745e-01, 2.11983307e-01,\n",
       "       5.02530895e+00, 3.81743636e+00, 2.47714677e+00, 2.50432557e+00,\n",
       "       2.28333939e+00, 3.45351772e+00, 9.44207035e+00, 3.60702839e+00,\n",
       "       2.07671053e+01, 2.55024957e+00, 4.30215582e-01, 4.36199952e+00,\n",
       "       3.96050834e-02, 5.34613565e+00, 3.79531638e+00, 1.72101152e+00,\n",
       "       2.89705527e+00, 2.55588090e+00, 1.01464521e+00, 1.23777541e+00,\n",
       "       9.89472181e-01, 1.06591957e+00, 3.55915332e+00, 2.95735069e+00,\n",
       "       1.37955408e+01, 3.34626771e-02, 5.61938769e+00, 3.36424734e+00,\n",
       "       1.41250135e+00, 1.34878202e+00, 5.81795276e+00, 2.54799713e+00,\n",
       "       6.17395625e-02, 4.60329160e+00, 4.74636402e+00, 1.47480015e+00,\n",
       "       5.69949970e+00, 3.33389461e+00, 2.13765386e+00, 4.71291998e+00,\n",
       "       2.55799968e+00, 2.73290904e+00, 4.01929096e+00, 2.18326300e+00,\n",
       "       6.93266906e+00, 2.00786750e+00, 3.88464346e+00, 3.96086127e+00,\n",
       "       7.51728891e-01, 1.80604645e+00, 4.74408616e+00, 1.47079562e+00,\n",
       "       1.57293765e+00, 4.07175366e+00, 1.70899025e+01, 4.54014957e+00,\n",
       "       3.11705397e-01, 4.07882102e+00, 4.78932503e-01, 4.01482080e+00,\n",
       "       3.49861045e+00, 1.52506804e+00, 2.31257874e+00, 1.90149723e+00,\n",
       "       3.04826007e-01, 1.05579468e+01, 9.34266475e-01, 1.31290533e+00,\n",
       "       4.24687940e+00, 2.23412157e-01, 1.36319980e+00, 1.52576765e-01,\n",
       "       1.93994205e+00, 1.73745630e+00, 5.05416614e+00, 3.49614049e+00,\n",
       "       5.75337532e+00, 5.28863428e+00, 1.35439853e+00, 2.63299115e+00,\n",
       "       1.45281709e+00, 1.94157078e-01, 1.80344496e+00, 2.31054701e+00,\n",
       "       6.67411556e+00, 2.25064284e+00, 1.63740979e+00, 1.91419574e+00,\n",
       "       2.50204373e+00, 7.08423387e-01, 7.73354955e+00, 2.89160755e+00,\n",
       "       1.22703454e+00, 4.45580348e+00, 2.54126254e-01, 4.83473014e+00,\n",
       "       9.18538044e-01, 3.19253896e-02, 1.98663404e+00, 9.11738593e-01,\n",
       "       3.81717237e-01, 1.09507241e+01, 1.16042360e+00, 4.14594491e+00,\n",
       "       1.49884184e+00, 2.84233765e-01, 1.20960577e+01, 9.80373455e-01,\n",
       "       1.96054166e+01, 2.06404914e+00, 1.28880122e+01])"
      ]
     },
     "execution_count": 167,
     "metadata": {},
     "output_type": "execute_result"
    }
   ],
   "source": [
    "diff1"
   ]
  },
  {
   "cell_type": "code",
   "execution_count": 168,
   "metadata": {},
   "outputs": [
    {
     "data": {
      "text/plain": [
       "4.162540071854629"
      ]
     },
     "execution_count": 168,
     "metadata": {},
     "output_type": "execute_result"
    }
   ],
   "source": [
    "diff1.sum()/len(diff1)"
   ]
  },
  {
   "cell_type": "code",
   "execution_count": 191,
   "metadata": {},
   "outputs": [
    {
     "data": {
      "image/png": "[encoded data removed]",
      "text/plain": [
       "<Figure size 432x288 with 1 Axes>"
      ]
     },
     "metadata": {
      "needs_background": "light"
     },
     "output_type": "display_data"
    }
   ],
   "source": [
    "fig = plt.figure()\n",
    "ax = fig.add_axes([0,0,1,1])\n",
    "Classifier = ['Linear Regression', 'KNN Regression']\n",
    "Accuracy = [86 , 91]\n",
    "ax.bar( Classifier,Accuracy, color=[\"r\",\"m\"], width=[0.5,0.5])\n",
    "plt.title('Accuracy of the prediction')\n",
    "plt.xlabel('Model')\n",
    "plt.ylabel('Accuracy %')\n",
    "plt.ylim(0,100)\n",
    "plt.show()"
   ]
  },
  {
   "cell_type": "code",
   "execution_count": 193,
   "metadata": {},
   "outputs": [
    {
     "data": {
      "image/png": "[encoded data removed]",
      "text/plain": [
       "<Figure size 432x288 with 1 Axes>"
      ]
     },
     "metadata": {
      "needs_background": "light"
     },
     "output_type": "display_data"
    }
   ],
   "source": [
    "fig = plt.figure()\n",
    "ax = fig.add_axes([0,0,1,1])\n",
    "Classifier = ['Linear Regression', 'KNN Regression']\n",
    "Accuracy = [11.98 , 6.97]\n",
    "ax.bar( Classifier,Accuracy, width=[0.5,0.5])\n",
    "plt.title('Accuracy of the prediction')\n",
    "plt.xlabel('Model')\n",
    "plt.ylabel('Sum of the Averages %')\n",
    "plt.show()"
   ]
  },
  {
   "cell_type": "code",
   "execution_count": null,
   "metadata": {},
   "outputs": [],
   "source": []
  }
 ],
 "metadata": {
  "kernelspec": {
   "display_name": "Python 3",
   "language": "python",
   "name": "python3"
  },
  "language_info": {
   "codemirror_mode": {
    "name": "ipython",
    "version": 3
   },
   "file_extension": ".py",
   "mimetype": "text/x-python",
   "name": "python",
   "nbconvert_exporter": "python",
   "pygments_lexer": "ipython3",
   "version": "3.8.5"
  }
 },
 "nbformat": 4,
 "nbformat_minor": 4
}
